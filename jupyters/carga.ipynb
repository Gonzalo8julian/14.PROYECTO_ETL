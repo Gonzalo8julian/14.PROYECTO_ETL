{
 "cells": [
  {
   "cell_type": "code",
   "execution_count": 1,
   "metadata": {},
   "outputs": [],
   "source": [
    "import pandas as pd\n",
    "import numpy as np\n",
    "import psycopg2"
   ]
  },
  {
   "cell_type": "code",
   "execution_count": 2,
   "metadata": {},
   "outputs": [],
   "source": [
    "#Creamos una variable para crear la conexión.\n",
    "conn = psycopg2.connect(\n",
    "    dbname = \"hoteles_bbdd\",\n",
    "    user = \"my_user\",\n",
    "    password = \"admin\",\n",
    "    host = \"localhost\",\n",
    "    port = \"5432\"\n",
    ")"
   ]
  },
  {
   "cell_type": "code",
   "execution_count": 3,
   "metadata": {},
   "outputs": [],
   "source": [
    "cur = conn.cursor()"
   ]
  },
  {
   "cell_type": "code",
   "execution_count": 4,
   "metadata": {},
   "outputs": [
    {
     "data": {
      "text/plain": [
       "('PostgreSQL 14.12 (Homebrew) on aarch64-apple-darwin23.4.0, compiled by Apple clang version 15.0.0 (clang-1500.3.9.4), 64-bit',)"
      ]
     },
     "execution_count": 4,
     "metadata": {},
     "output_type": "execute_result"
    }
   ],
   "source": [
    "cur.execute(\"SELECT version();\")\n",
    "cur.fetchone()"
   ]
  },
  {
   "cell_type": "markdown",
   "metadata": {},
   "source": [
    "### Ciudad\n"
   ]
  },
  {
   "cell_type": "code",
   "execution_count": 14,
   "metadata": {},
   "outputs": [
    {
     "name": "stdout",
     "output_type": "stream",
     "text": [
      "<class 'pandas.core.frame.DataFrame'>\n",
      "RangeIndex: 15098 entries, 0 to 15097\n",
      "Data columns (total 16 columns):\n",
      " #   Column           Non-Null Count  Dtype  \n",
      "---  ------           --------------  -----  \n",
      " 0   id_reserva       15098 non-null  int64  \n",
      " 1   id_cliente       15098 non-null  int64  \n",
      " 2   nombre           15098 non-null  object \n",
      " 3   apellido         15098 non-null  object \n",
      " 4   mail             15098 non-null  object \n",
      " 5   competencia      15098 non-null  bool   \n",
      " 6   inicio_estancia  15098 non-null  object \n",
      " 7   final_estancia   15098 non-null  object \n",
      " 8   id_hotel         15098 non-null  int64  \n",
      " 9   ciudad           15098 non-null  object \n",
      " 10  id               15098 non-null  int64  \n",
      " 11  nombre_hotel     15098 non-null  object \n",
      " 12  valoracion       15098 non-null  float64\n",
      " 13  precio_noche     15098 non-null  float64\n",
      " 14  fecha_reserva    15098 non-null  object \n",
      " 15  id_ciudad        15098 non-null  int64  \n",
      "dtypes: bool(1), float64(2), int64(5), object(8)\n",
      "memory usage: 1.7+ MB\n"
     ]
    }
   ],
   "source": [
    "df = pd.read_csv(\"../data/limpieza_reservas_hoteles.csv\")\n",
    "df.info()"
   ]
  },
  {
   "cell_type": "code",
   "execution_count": 32,
   "metadata": {},
   "outputs": [
    {
     "data": {
      "text/plain": [
       "array(['Madrid'], dtype=object)"
      ]
     },
     "execution_count": 32,
     "metadata": {},
     "output_type": "execute_result"
    }
   ],
   "source": [
    "tabla_ciudad = df[\"ciudad\"]\n",
    "tabla_ciudad.unique()"
   ]
  },
  {
   "cell_type": "code",
   "execution_count": 27,
   "metadata": {},
   "outputs": [
    {
     "data": {
      "application/vnd.microsoft.datawrangler.viewer.v0+json": {
       "columns": [
        {
         "name": "index",
         "rawType": "int64",
         "type": "integer"
        },
        {
         "name": "nombre_ciudad",
         "rawType": "object",
         "type": "string"
        }
       ],
       "conversionMethod": "pd.DataFrame",
       "ref": "93d63cf8-b70a-4c93-b93c-2cdc8eb3f565",
       "rows": [
        [
         "0",
         "Madrid"
        ]
       ],
       "shape": {
        "columns": 1,
        "rows": 1
       }
      },
      "text/html": [
       "<div>\n",
       "<style scoped>\n",
       "    .dataframe tbody tr th:only-of-type {\n",
       "        vertical-align: middle;\n",
       "    }\n",
       "\n",
       "    .dataframe tbody tr th {\n",
       "        vertical-align: top;\n",
       "    }\n",
       "\n",
       "    .dataframe thead th {\n",
       "        text-align: right;\n",
       "    }\n",
       "</style>\n",
       "<table border=\"1\" class=\"dataframe\">\n",
       "  <thead>\n",
       "    <tr style=\"text-align: right;\">\n",
       "      <th></th>\n",
       "      <th>nombre_ciudad</th>\n",
       "    </tr>\n",
       "  </thead>\n",
       "  <tbody>\n",
       "    <tr>\n",
       "      <th>0</th>\n",
       "      <td>Madrid</td>\n",
       "    </tr>\n",
       "  </tbody>\n",
       "</table>\n",
       "</div>"
      ],
      "text/plain": [
       "  nombre_ciudad\n",
       "0        Madrid"
      ]
     },
     "execution_count": 27,
     "metadata": {},
     "output_type": "execute_result"
    }
   ],
   "source": [
    "tabla_ciudad = pd.DataFrame(df[\"ciudad\"].unique(),\n",
    "                          columns=[\"nombre_ciudad\"])\n",
    "\n",
    "tabla_ciudad"
   ]
  },
  {
   "cell_type": "code",
   "execution_count": 28,
   "metadata": {},
   "outputs": [],
   "source": [
    "insert_query = \"\"\"\n",
    "        INSERT INTO ciudad (nombre_ciudad)\n",
    "        VALUES (%s)\n",
    "\"\"\""
   ]
  },
  {
   "cell_type": "code",
   "execution_count": 29,
   "metadata": {},
   "outputs": [
    {
     "data": {
      "text/plain": [
       "[('Madrid',)]"
      ]
     },
     "execution_count": 29,
     "metadata": {},
     "output_type": "execute_result"
    }
   ],
   "source": [
    "data_to_insert = [(row['nombre_ciudad'],) for _, row in tabla_ciudad.iterrows()]\n",
    "data_to_insert"
   ]
  },
  {
   "cell_type": "code",
   "execution_count": 30,
   "metadata": {},
   "outputs": [],
   "source": [
    "cur.executemany(insert_query, data_to_insert)\n",
    "conn.commit()"
   ]
  },
  {
   "cell_type": "code",
   "execution_count": 285,
   "metadata": {},
   "outputs": [],
   "source": [
    "conn.rollback()"
   ]
  },
  {
   "cell_type": "markdown",
   "metadata": {},
   "source": [
    "### EVENTOS"
   ]
  },
  {
   "cell_type": "markdown",
   "metadata": {},
   "source": [
    "CREATE TABLE eventos (\n",
    "    id_evento SERIAL PRIMARY KEY,\n",
    "    nombre_evento TEXT,\n",
    "    url_evento TEXT,\n",
    "    codigo_postal INT,\n",
    "    direccion TEXT,\n",
    "    horario TEXT,\n",
    "    fecha_inicio DATE,\n",
    "    fecha_fin DATE,\n",
    "    organizacion TEXT,\n",
    "    id_ciudad INT REFERENCES \n",
    "    ciudad(id_ciudad) ON DELETE CASCADE\n",
    ");"
   ]
  },
  {
   "cell_type": "code",
   "execution_count": 33,
   "metadata": {},
   "outputs": [
    {
     "data": {
      "application/vnd.microsoft.datawrangler.viewer.v0+json": {
       "columns": [
        {
         "name": "index",
         "rawType": "int64",
         "type": "integer"
        },
        {
         "name": "nombre_evento",
         "rawType": "object",
         "type": "string"
        },
        {
         "name": "url_evento",
         "rawType": "object",
         "type": "string"
        },
        {
         "name": "codigo_postal",
         "rawType": "float64",
         "type": "float"
        },
        {
         "name": "direccion",
         "rawType": "object",
         "type": "unknown"
        },
        {
         "name": "horario",
         "rawType": "object",
         "type": "unknown"
        },
        {
         "name": "organizacion",
         "rawType": "object",
         "type": "unknown"
        },
        {
         "name": "fecha_inicio",
         "rawType": "object",
         "type": "string"
        },
        {
         "name": "fecha_fin",
         "rawType": "object",
         "type": "string"
        },
        {
         "name": "ciudad",
         "rawType": "object",
         "type": "unknown"
        }
       ],
       "conversionMethod": "pd.DataFrame",
       "ref": "35c626ce-6715-4897-9809-de55d21a3e0b",
       "rows": [
        [
         "0",
         "25º aniversario de la revista La Fragua",
         "http://www.madrid.es/sites/v/index.jsp?vgnextchannel=ca9671ee4a9eb410VgnVCM100000171f5a0aRCRD&vgnextoid=1ea220bed10d4910VgnVCM2000001f4a900aRCRD",
         "28005.0",
         "CALLE SAN JUSTO 5",
         null,
         "Biblioteca Pública Municipal Iván de Vargas (Centro)",
         "2025-02-24",
         "2025-03-02",
         "Madrid"
        ],
        [
         "1",
         "60 Premio Reina Sofía de Pintura y Escultura",
         "http://www.madrid.es/sites/v/index.jsp?vgnextchannel=ca9671ee4a9eb410VgnVCM100000171f5a0aRCRD&vgnextoid=34c5130393e15910VgnVCM2000001f4a900aRCRD",
         "28009.0",
         "PASEO COLOMBIA 1",
         null,
         "Centro Cultural Casa de Vacas (Retiro)",
         "2025-02-27",
         "2025-03-23",
         "Madrid"
        ],
        [
         "2",
         "A toda vela",
         "http://www.madrid.es/sites/v/index.jsp?vgnextchannel=ca9671ee4a9eb410VgnVCM100000171f5a0aRCRD&vgnextoid=59d5e7da8b822910VgnVCM1000001d4a900aRCRD",
         "28045.0",
         "PLAZA LEGAZPI 8",
         null,
         "Matadero Madrid",
         "2024-10-01",
         "2025-06-01",
         "Madrid"
        ],
        [
         "3",
         "Acompañamiento digital a personas mayores",
         "http://www.madrid.es/sites/v/index.jsp?vgnextchannel=ca9671ee4a9eb410VgnVCM100000171f5a0aRCRD&vgnextoid=5b58d89ad2232910VgnVCM2000001f4a900aRCRD",
         null,
         null,
         null,
         null,
         "2024-10-14",
         "2025-06-30",
         null
        ],
        [
         "4",
         "Acompañar en la pérdida",
         "http://www.madrid.es/sites/v/index.jsp?vgnextchannel=ca9671ee4a9eb410VgnVCM100000171f5a0aRCRD&vgnextoid=197023e4c84d3910VgnVCM2000001f4a900aRCRD",
         "28029.0",
         "AVENIDA MONFORTE DE LEMOS 38",
         "17:00",
         "Biblioteca Pública Municipal José Saramago (Fuencarral-El Pardo)",
         "2025-01-14",
         "2025-06-17",
         "Madrid"
        ]
       ],
       "shape": {
        "columns": 9,
        "rows": 5
       }
      },
      "text/html": [
       "<div>\n",
       "<style scoped>\n",
       "    .dataframe tbody tr th:only-of-type {\n",
       "        vertical-align: middle;\n",
       "    }\n",
       "\n",
       "    .dataframe tbody tr th {\n",
       "        vertical-align: top;\n",
       "    }\n",
       "\n",
       "    .dataframe thead th {\n",
       "        text-align: right;\n",
       "    }\n",
       "</style>\n",
       "<table border=\"1\" class=\"dataframe\">\n",
       "  <thead>\n",
       "    <tr style=\"text-align: right;\">\n",
       "      <th></th>\n",
       "      <th>nombre_evento</th>\n",
       "      <th>url_evento</th>\n",
       "      <th>codigo_postal</th>\n",
       "      <th>direccion</th>\n",
       "      <th>horario</th>\n",
       "      <th>organizacion</th>\n",
       "      <th>fecha_inicio</th>\n",
       "      <th>fecha_fin</th>\n",
       "      <th>ciudad</th>\n",
       "    </tr>\n",
       "  </thead>\n",
       "  <tbody>\n",
       "    <tr>\n",
       "      <th>0</th>\n",
       "      <td>25º aniversario de la revista La Fragua</td>\n",
       "      <td>http://www.madrid.es/sites/v/index.jsp?vgnextc...</td>\n",
       "      <td>28005.0</td>\n",
       "      <td>CALLE SAN JUSTO 5</td>\n",
       "      <td>NaN</td>\n",
       "      <td>Biblioteca Pública Municipal Iván de Vargas (C...</td>\n",
       "      <td>2025-02-24</td>\n",
       "      <td>2025-03-02</td>\n",
       "      <td>Madrid</td>\n",
       "    </tr>\n",
       "    <tr>\n",
       "      <th>1</th>\n",
       "      <td>60 Premio Reina Sofía de Pintura y Escultura</td>\n",
       "      <td>http://www.madrid.es/sites/v/index.jsp?vgnextc...</td>\n",
       "      <td>28009.0</td>\n",
       "      <td>PASEO COLOMBIA 1</td>\n",
       "      <td>NaN</td>\n",
       "      <td>Centro Cultural Casa de Vacas (Retiro)</td>\n",
       "      <td>2025-02-27</td>\n",
       "      <td>2025-03-23</td>\n",
       "      <td>Madrid</td>\n",
       "    </tr>\n",
       "    <tr>\n",
       "      <th>2</th>\n",
       "      <td>A toda vela</td>\n",
       "      <td>http://www.madrid.es/sites/v/index.jsp?vgnextc...</td>\n",
       "      <td>28045.0</td>\n",
       "      <td>PLAZA LEGAZPI 8</td>\n",
       "      <td>NaN</td>\n",
       "      <td>Matadero Madrid</td>\n",
       "      <td>2024-10-01</td>\n",
       "      <td>2025-06-01</td>\n",
       "      <td>Madrid</td>\n",
       "    </tr>\n",
       "    <tr>\n",
       "      <th>3</th>\n",
       "      <td>Acompañamiento digital a personas mayores</td>\n",
       "      <td>http://www.madrid.es/sites/v/index.jsp?vgnextc...</td>\n",
       "      <td>NaN</td>\n",
       "      <td>NaN</td>\n",
       "      <td>NaN</td>\n",
       "      <td>NaN</td>\n",
       "      <td>2024-10-14</td>\n",
       "      <td>2025-06-30</td>\n",
       "      <td>NaN</td>\n",
       "    </tr>\n",
       "    <tr>\n",
       "      <th>4</th>\n",
       "      <td>Acompañar en la pérdida</td>\n",
       "      <td>http://www.madrid.es/sites/v/index.jsp?vgnextc...</td>\n",
       "      <td>28029.0</td>\n",
       "      <td>AVENIDA MONFORTE DE LEMOS 38</td>\n",
       "      <td>17:00</td>\n",
       "      <td>Biblioteca Pública Municipal José Saramago (Fu...</td>\n",
       "      <td>2025-01-14</td>\n",
       "      <td>2025-06-17</td>\n",
       "      <td>Madrid</td>\n",
       "    </tr>\n",
       "  </tbody>\n",
       "</table>\n",
       "</div>"
      ],
      "text/plain": [
       "                                  nombre_evento  \\\n",
       "0       25º aniversario de la revista La Fragua   \n",
       "1  60 Premio Reina Sofía de Pintura y Escultura   \n",
       "2                                   A toda vela   \n",
       "3     Acompañamiento digital a personas mayores   \n",
       "4                       Acompañar en la pérdida   \n",
       "\n",
       "                                          url_evento  codigo_postal  \\\n",
       "0  http://www.madrid.es/sites/v/index.jsp?vgnextc...        28005.0   \n",
       "1  http://www.madrid.es/sites/v/index.jsp?vgnextc...        28009.0   \n",
       "2  http://www.madrid.es/sites/v/index.jsp?vgnextc...        28045.0   \n",
       "3  http://www.madrid.es/sites/v/index.jsp?vgnextc...            NaN   \n",
       "4  http://www.madrid.es/sites/v/index.jsp?vgnextc...        28029.0   \n",
       "\n",
       "                      direccion horario  \\\n",
       "0             CALLE SAN JUSTO 5     NaN   \n",
       "1              PASEO COLOMBIA 1     NaN   \n",
       "2               PLAZA LEGAZPI 8     NaN   \n",
       "3                           NaN     NaN   \n",
       "4  AVENIDA MONFORTE DE LEMOS 38   17:00   \n",
       "\n",
       "                                        organizacion fecha_inicio   fecha_fin  \\\n",
       "0  Biblioteca Pública Municipal Iván de Vargas (C...   2025-02-24  2025-03-02   \n",
       "1             Centro Cultural Casa de Vacas (Retiro)   2025-02-27  2025-03-23   \n",
       "2                                    Matadero Madrid   2024-10-01  2025-06-01   \n",
       "3                                                NaN   2024-10-14  2025-06-30   \n",
       "4  Biblioteca Pública Municipal José Saramago (Fu...   2025-01-14  2025-06-17   \n",
       "\n",
       "   ciudad  \n",
       "0  Madrid  \n",
       "1  Madrid  \n",
       "2  Madrid  \n",
       "3     NaN  \n",
       "4  Madrid  "
      ]
     },
     "execution_count": 33,
     "metadata": {},
     "output_type": "execute_result"
    }
   ],
   "source": [
    "tabla_eventos = pd.read_csv(\"../data/eventos.csv\")\n",
    "tabla_eventos.head()"
   ]
  },
  {
   "cell_type": "code",
   "execution_count": 34,
   "metadata": {},
   "outputs": [],
   "source": [
    "#Añadimos las columnas que faltan (diudad_id, id_evento y organicacion)\n",
    "tabla_eventos[\"id_ciudad\"] = 1\n",
    "tabla_eventos[\"organizacion\"]\n",
    "tabla_eventos[\"fecha_inicio\"] = pd.to_datetime(tabla_eventos[\"fecha_inicio\"]).dt.date\n",
    "tabla_eventos[\"fecha_fin\"] = pd.to_datetime(tabla_eventos[\"fecha_fin\"]).dt.date\n",
    "tabla_eventos[\"codigo_postal\"] = pd.to_numeric(tabla_eventos[\"codigo_postal\"], errors=\"coerce\").astype(\"Int64\")\n"
   ]
  },
  {
   "cell_type": "code",
   "execution_count": 35,
   "metadata": {},
   "outputs": [
    {
     "data": {
      "application/vnd.microsoft.datawrangler.viewer.v0+json": {
       "columns": [
        {
         "name": "index",
         "rawType": "int64",
         "type": "integer"
        },
        {
         "name": "nombre_evento",
         "rawType": "object",
         "type": "string"
        },
        {
         "name": "url_evento",
         "rawType": "object",
         "type": "string"
        },
        {
         "name": "codigo_postal",
         "rawType": "Int64",
         "type": "integer"
        },
        {
         "name": "direccion",
         "rawType": "object",
         "type": "unknown"
        },
        {
         "name": "horario",
         "rawType": "object",
         "type": "unknown"
        },
        {
         "name": "organizacion",
         "rawType": "object",
         "type": "unknown"
        },
        {
         "name": "fecha_inicio",
         "rawType": "object",
         "type": "unknown"
        },
        {
         "name": "fecha_fin",
         "rawType": "object",
         "type": "unknown"
        },
        {
         "name": "ciudad",
         "rawType": "object",
         "type": "unknown"
        },
        {
         "name": "id_ciudad",
         "rawType": "int64",
         "type": "integer"
        }
       ],
       "conversionMethod": "pd.DataFrame",
       "ref": "cfafde2d-0dbc-4ff9-a6e8-5123cf6b073e",
       "rows": [
        [
         "0",
         "25º aniversario de la revista La Fragua",
         "http://www.madrid.es/sites/v/index.jsp?vgnextchannel=ca9671ee4a9eb410VgnVCM100000171f5a0aRCRD&vgnextoid=1ea220bed10d4910VgnVCM2000001f4a900aRCRD",
         "28005",
         "CALLE SAN JUSTO 5",
         null,
         "Biblioteca Pública Municipal Iván de Vargas (Centro)",
         "2025-02-24",
         "2025-03-02",
         "Madrid",
         "1"
        ],
        [
         "1",
         "60 Premio Reina Sofía de Pintura y Escultura",
         "http://www.madrid.es/sites/v/index.jsp?vgnextchannel=ca9671ee4a9eb410VgnVCM100000171f5a0aRCRD&vgnextoid=34c5130393e15910VgnVCM2000001f4a900aRCRD",
         "28009",
         "PASEO COLOMBIA 1",
         null,
         "Centro Cultural Casa de Vacas (Retiro)",
         "2025-02-27",
         "2025-03-23",
         "Madrid",
         "1"
        ],
        [
         "2",
         "A toda vela",
         "http://www.madrid.es/sites/v/index.jsp?vgnextchannel=ca9671ee4a9eb410VgnVCM100000171f5a0aRCRD&vgnextoid=59d5e7da8b822910VgnVCM1000001d4a900aRCRD",
         "28045",
         "PLAZA LEGAZPI 8",
         null,
         "Matadero Madrid",
         "2024-10-01",
         "2025-06-01",
         "Madrid",
         "1"
        ],
        [
         "3",
         "Acompañamiento digital a personas mayores",
         "http://www.madrid.es/sites/v/index.jsp?vgnextchannel=ca9671ee4a9eb410VgnVCM100000171f5a0aRCRD&vgnextoid=5b58d89ad2232910VgnVCM2000001f4a900aRCRD",
         null,
         null,
         null,
         null,
         "2024-10-14",
         "2025-06-30",
         null,
         "1"
        ],
        [
         "4",
         "Acompañar en la pérdida",
         "http://www.madrid.es/sites/v/index.jsp?vgnextchannel=ca9671ee4a9eb410VgnVCM100000171f5a0aRCRD&vgnextoid=197023e4c84d3910VgnVCM2000001f4a900aRCRD",
         "28029",
         "AVENIDA MONFORTE DE LEMOS 38",
         "17:00",
         "Biblioteca Pública Municipal José Saramago (Fuencarral-El Pardo)",
         "2025-01-14",
         "2025-06-17",
         "Madrid",
         "1"
        ],
        [
         "5",
         "Activas en compañía: gimnasia de mantenimiento",
         "http://www.madrid.es/sites/v/index.jsp?vgnextchannel=ca9671ee4a9eb410VgnVCM100000171f5a0aRCRD&vgnextoid=f93102b68bf54910VgnVCM2000001f4a900aRCRD",
         "28022",
         "PLAZA EURIPIDES 1",
         "12:00",
         "Espacio de Igualdad Lucía Sánchez Saornil. San Blas-Canillejas",
         "2025-01-13",
         "2025-03-31",
         "Madrid",
         "1"
        ],
        [
         "6",
         "Actividades mensuales de los centros de mayores del distrito Hortaleza",
         "http://www.madrid.es/sites/v/index.jsp?vgnextchannel=ca9671ee4a9eb410VgnVCM100000171f5a0aRCRD&vgnextoid=315479485bdeb810VgnVCM1000001d4a900aRCRD",
         null,
         null,
         null,
         null,
         "2024-02-01",
         "2025-07-13",
         null,
         "1"
        ],
        [
         "7",
         "Amantes de las series",
         "http://www.madrid.es/sites/v/index.jsp?vgnextchannel=ca9671ee4a9eb410VgnVCM100000171f5a0aRCRD&vgnextoid=fab111c60bad4910VgnVCM2000001f4a900aRCRD",
         "28045",
         "PASEO CHOPERA 10",
         "17:30",
         "Espacio de Igualdad Juana Doña. Arganzuela",
         "2025-02-19",
         "2025-03-12",
         "Madrid",
         "1"
        ],
        [
         "8",
         "Andrea Canepa «Wasi qaymi (Lugar y tacto)»",
         "http://www.madrid.es/sites/v/index.jsp?vgnextchannel=ca9671ee4a9eb410VgnVCM100000171f5a0aRCRD&vgnextoid=45f102a2fa0e1910VgnVCM1000001d4a900aRCRD",
         "28015",
         "CALLE CONDE DUQUE 9",
         null,
         "Centro de Cultura Contemporánea Conde Duque",
         "2025-02-28",
         "2025-05-18",
         "Madrid",
         "1"
        ],
        [
         "9",
         "Apoyo a la autonomía",
         "http://www.madrid.es/sites/v/index.jsp?vgnextchannel=ca9671ee4a9eb410VgnVCM100000171f5a0aRCRD&vgnextoid=1e67f7a45c701910VgnVCM1000001d4a900aRCRD",
         null,
         null,
         null,
         null,
         "2024-09-13",
         "2025-06-20",
         null,
         "1"
        ],
        [
         "10",
         "Artemisia. La magia de la luna",
         "http://www.madrid.es/sites/v/index.jsp?vgnextchannel=ca9671ee4a9eb410VgnVCM100000171f5a0aRCRD&vgnextoid=91dbd257d6d70910VgnVCM1000001d4a900aRCRD",
         "28045",
         "AVENIDA PLANETARIO 16",
         "18:00",
         "Planetario de Madrid",
         "2024-07-16",
         "2025-12-28",
         "Madrid",
         "1"
        ],
        [
         "11",
         "Artificios teatrales. La escena musical de los felices veinte",
         "http://www.madrid.es/sites/v/index.jsp?vgnextchannel=ca9671ee4a9eb410VgnVCM100000171f5a0aRCRD&vgnextoid=6ed5f65f96c83910VgnVCM1000001d4a900aRCRD",
         "28015",
         "CALLE AMANIEL 29",
         null,
         "Centro Cultural Clara del Rey - Museo ABC (Centro)",
         "2024-10-16",
         "2025-03-08",
         "Madrid",
         "1"
        ],
        [
         "12",
         "ArTrics - Laboratorio de Creación 2024/25",
         "http://www.madrid.es/sites/v/index.jsp?vgnextchannel=ca9671ee4a9eb410VgnVCM100000171f5a0aRCRD&vgnextoid=7ae9c00a26e12910VgnVCM1000001d4a900aRCRD",
         null,
         null,
         null,
         null,
         "2024-10-01",
         "2025-07-31",
         null,
         "1"
        ],
        [
         "13",
         "Asalto a la lectura. Tres cerditos y más",
         "http://www.madrid.es/sites/v/index.jsp?vgnextchannel=ca9671ee4a9eb410VgnVCM100000171f5a0aRCRD&vgnextoid=6aec3e3332fe4910VgnVCM1000001d4a900aRCRD",
         "28015",
         "CALLE AMANIEL 29",
         "11:00",
         "Centro Cultural Clara del Rey - Museo ABC (Centro)",
         "2025-03-01",
         "2025-03-01",
         "Madrid",
         "1"
        ],
        [
         "14",
         "Asombro",
         "http://www.madrid.es/sites/v/index.jsp?vgnextchannel=ca9671ee4a9eb410VgnVCM100000171f5a0aRCRD&vgnextoid=85b965d37f624910VgnVCM1000001d4a900aRCRD",
         "28045",
         "PLAZA LEGAZPI 8",
         null,
         "Matadero Madrid",
         "2025-01-18",
         "2025-03-23",
         "Madrid",
         "1"
        ],
        [
         "15",
         "Atlantiques + Dahomey",
         "http://www.madrid.es/sites/v/index.jsp?vgnextchannel=ca9671ee4a9eb410VgnVCM100000171f5a0aRCRD&vgnextoid=3b9464926f415910VgnVCM1000001d4a900aRCRD",
         "28045",
         "PLAZA LEGAZPI 8",
         "19:30",
         "Cineteca Madrid",
         "2025-03-01",
         "2025-03-01",
         "Madrid",
         "1"
        ],
        [
         "16",
         "Baile de Carnaval. Concierto de Origen",
         "http://www.madrid.es/sites/v/index.jsp?vgnextchannel=ca9671ee4a9eb410VgnVCM100000171f5a0aRCRD&vgnextoid=1551fcf4aade4910VgnVCM2000001f4a900aRCRD",
         null,
         null,
         "19:30",
         null,
         "2025-03-01",
         "2025-03-01",
         null,
         "1"
        ],
        [
         "17",
         "Baile de Carnaval. Concierto de Versioneta",
         "http://www.madrid.es/sites/v/index.jsp?vgnextchannel=ca9671ee4a9eb410VgnVCM100000171f5a0aRCRD&vgnextoid=ae02fcf4aade4910VgnVCM2000001f4a900aRCRD",
         null,
         null,
         "21:15",
         null,
         "2025-03-01",
         "2025-03-01",
         null,
         "1"
        ],
        [
         "18",
         "Baile de Mayores en Centro Cultural Almirante Churruca",
         "http://www.madrid.es/sites/v/index.jsp?vgnextchannel=ca9671ee4a9eb410VgnVCM100000171f5a0aRCRD&vgnextoid=beaf2f9cb66d1610VgnVCM2000001f4a900aRCRD",
         "28024",
         "CALLE FUENTE DEL TIRO 72",
         "16:30",
         "Centro Sociocultural Almirante Churruca (Latina)",
         "2024-10-04",
         "2025-06-27",
         "Madrid",
         "1"
        ],
        [
         "19",
         "Baile de Mayores en Centro Sociocultural El Greco",
         "http://www.madrid.es/sites/v/index.jsp?vgnextchannel=ca9671ee4a9eb410VgnVCM100000171f5a0aRCRD&vgnextoid=77922f9cb66d1610VgnVCM2000001f4a900aRCRD",
         "28011",
         "CALLE EL GRECO 29",
         "18:00",
         "Centro Sociocultural El Greco (Latina)",
         "2024-10-03",
         "2025-06-26",
         "Madrid",
         "1"
        ],
        [
         "20",
         "Beethoven. Del corazón al corazón",
         "http://www.madrid.es/sites/v/index.jsp?vgnextchannel=ca9671ee4a9eb410VgnVCM100000171f5a0aRCRD&vgnextoid=3cd9168eeb173910VgnVCM1000001d4a900aRCRD",
         "28014",
         "CALLE ALAMEDA 15",
         null,
         "Espacio Cultural Serrería Belga",
         "2024-12-03",
         "2025-03-30",
         "Madrid",
         "1"
        ],
        [
         "21",
         "Biblioajedrez",
         "http://www.madrid.es/sites/v/index.jsp?vgnextchannel=ca9671ee4a9eb410VgnVCM100000171f5a0aRCRD&vgnextoid=37340defdf5e1910VgnVCM2000001f4a900aRCRD",
         "28024",
         "CALLE GRANJA DE TORREHERMOSA 1",
         "18:00",
         "Biblioteca Pública Municipal Ángel González (Latina)",
         "2024-09-30",
         "2025-05-26",
         "Madrid",
         "1"
        ],
        [
         "22",
         "Bodegones y Madrid",
         "http://www.madrid.es/sites/v/index.jsp?vgnextchannel=ca9671ee4a9eb410VgnVCM100000171f5a0aRCRD&vgnextoid=a903ec7bdcf54910VgnVCM1000001d4a900aRCRD",
         "28022",
         "CALLE FEBRERO 4",
         null,
         "Centro Cultural José Luis López Vázquez (San Blas - Canillejas)",
         "2025-02-01",
         "2025-03-31",
         "Madrid",
         "1"
        ],
        [
         "23",
         "Caminamos juntas",
         "http://www.madrid.es/sites/v/index.jsp?vgnextchannel=ca9671ee4a9eb410VgnVCM100000171f5a0aRCRD&vgnextoid=a54e02b68bf54910VgnVCM2000001f4a900aRCRD",
         "28022",
         "PLAZA EURIPIDES 1",
         "10:30",
         "Espacio de Igualdad Lucía Sánchez Saornil. San Blas-Canillejas",
         "2025-01-07",
         "2025-03-25",
         "Madrid",
         "1"
        ],
        [
         "24",
         "Camino hacia la autonomía financiera",
         "http://www.madrid.es/sites/v/index.jsp?vgnextchannel=ca9671ee4a9eb410VgnVCM100000171f5a0aRCRD&vgnextoid=8b24e4778bbc4910VgnVCM2000001f4a900aRCRD",
         "28045",
         "PASEO CHOPERA 10",
         "10:30",
         "Espacio de Igualdad Juana Doña. Arganzuela",
         "2025-02-12",
         "2025-03-05",
         "Madrid",
         "1"
        ],
        [
         "25",
         "Campamento de carnaval y fiestas del mundo",
         "http://www.madrid.es/sites/v/index.jsp?vgnextchannel=ca9671ee4a9eb410VgnVCM100000171f5a0aRCRD&vgnextoid=c61c239147bd4910VgnVCM2000001f4a900aRCRD",
         "28028",
         "CALLE BOSTON 3",
         null,
         "Colegio Público Guindalera",
         "2025-02-28",
         "2025-03-03",
         "Madrid",
         "1"
        ],
        [
         "26",
         "Campamentos urbanos Días sin cole. Distrito San Blas - Canillejas",
         "http://www.madrid.es/sites/v/index.jsp?vgnextchannel=ca9671ee4a9eb410VgnVCM100000171f5a0aRCRD&vgnextoid=7859110d84384910VgnVCM2000001f4a900aRCRD",
         "28022",
         "AVENIDA CANILLEJAS A VICALVARO 56",
         null,
         "Colegio Público Alberto Alcocer",
         "2025-02-28",
         "2025-03-03",
         "Madrid",
         "1"
        ],
        [
         "27",
         "Caperucita camina sola",
         "http://www.madrid.es/sites/v/index.jsp?vgnextchannel=ca9671ee4a9eb410VgnVCM100000171f5a0aRCRD&vgnextoid=1166d242f8884910VgnVCM2000001f4a900aRCRD",
         null,
         null,
         null,
         null,
         "2025-02-20",
         "2025-03-09",
         null,
         "1"
        ],
        [
         "28",
         "Carnaval en familia. Espectáculo familiar. Carnaval en la pista de circo",
         "http://www.madrid.es/sites/v/index.jsp?vgnextchannel=ca9671ee4a9eb410VgnVCM100000171f5a0aRCRD&vgnextoid=2d22157fd8e15910VgnVCM1000001d4a900aRCRD",
         "28042",
         "CALLE BOTICA 7",
         "12:30",
         "Centro Cultural - Centro Socio Cultural Villa de Barajas",
         "2025-03-01",
         "2025-03-01",
         "Madrid",
         "1"
        ],
        [
         "29",
         "Carnaval en Matadero",
         "http://www.madrid.es/sites/v/index.jsp?vgnextchannel=ca9671ee4a9eb410VgnVCM100000171f5a0aRCRD&vgnextoid=38950d5a68815910VgnVCM2000001f4a900aRCRD",
         "28045",
         "PLAZA LEGAZPI 8",
         "10:30",
         "Matadero Madrid",
         "2025-03-01",
         "2025-03-01",
         "Madrid",
         "1"
        ],
        [
         "30",
         "Centro de Interpretación del Paisaje de la Luz",
         "http://www.madrid.es/sites/v/index.jsp?vgnextchannel=ca9671ee4a9eb410VgnVCM100000171f5a0aRCRD&vgnextoid=842dc5eb8e915810VgnVCM1000001d4a900aRCRD",
         "28014",
         "PLAZA CIBELES 1",
         null,
         "CentroCentro",
         "2022-12-14",
         "2026-01-14",
         "Madrid",
         "1"
        ],
        [
         "31",
         "Chatines: club de lectura infantil",
         "http://www.madrid.es/sites/v/index.jsp?vgnextchannel=ca9671ee4a9eb410VgnVCM100000171f5a0aRCRD&vgnextoid=146e23279fad4910VgnVCM1000001d4a900aRCRD",
         "28036",
         "CALLE MANUEL FERRERO 1",
         "17:30",
         "Biblioteca Pública Municipal Dámaso Alonso (Chamartín)",
         "2025-02-27",
         "2025-06-19",
         "Madrid",
         "1"
        ],
        [
         "32",
         "Chup-Chup",
         "http://www.madrid.es/sites/v/index.jsp?vgnextchannel=ca9671ee4a9eb410VgnVCM100000171f5a0aRCRD&vgnextoid=e4cc2c84ecd15910VgnVCM2000001f4a900aRCRD",
         "28022",
         "CALLE FEBRERO 4",
         "19:00",
         "Centro Cultural José Luis López Vázquez (San Blas - Canillejas)",
         "2025-03-01",
         "2025-03-01",
         "Madrid",
         "1"
        ],
        [
         "33",
         "Ciclismo por Madrid",
         "http://www.madrid.es/sites/v/index.jsp?vgnextchannel=ca9671ee4a9eb410VgnVCM100000171f5a0aRCRD&vgnextoid=db40e3f0c91ea710VgnVCM2000001f4a900aRCRD",
         null,
         null,
         "00:00",
         null,
         "2024-09-01",
         "2025-06-30",
         null,
         "1"
        ],
        [
         "34",
         "Cine familiar",
         "http://www.madrid.es/sites/v/index.jsp?vgnextchannel=ca9671ee4a9eb410VgnVCM100000171f5a0aRCRD&vgnextoid=d4fd2e979f0a0910VgnVCM2000001f4a900aRCRD",
         "28045",
         "PLAZA LEGAZPI 8",
         null,
         "Cineteca Madrid",
         "2024-09-15",
         "2025-06-29",
         "Madrid",
         "1"
        ],
        [
         "35",
         "Círculo de ciudadanos",
         "http://www.madrid.es/sites/v/index.jsp?vgnextchannel=ca9671ee4a9eb410VgnVCM100000171f5a0aRCRD&vgnextoid=ba197bfae6da4910VgnVCM2000001f4a900aRCRD",
         "28029",
         "AVENIDA MONFORTE DE LEMOS 38",
         "17:00",
         "Biblioteca Pública Municipal José Saramago (Fuencarral-El Pardo)",
         "2025-02-11",
         "2025-12-16",
         "Madrid",
         "1"
        ],
        [
         "36",
         "Clases de árabe para niños",
         "http://www.madrid.es/sites/v/index.jsp?vgnextchannel=ca9671ee4a9eb410VgnVCM100000171f5a0aRCRD&vgnextoid=60ceedb3e8133910VgnVCM1000001d4a900aRCRD",
         "28041",
         "AVENIDA SAN FERMIN 10",
         "18:00",
         "Biblioteca Pública Municipal San Fermín (Usera)",
         "2024-12-13",
         "2025-05-30",
         "Madrid",
         "1"
        ],
        [
         "37",
         "Club de lectura",
         "http://www.madrid.es/sites/v/index.jsp?vgnextchannel=ca9671ee4a9eb410VgnVCM100000171f5a0aRCRD&vgnextoid=4b66106762794910VgnVCM1000001d4a900aRCRD",
         "28037",
         "CALLE SAN ROMAN DEL VALLE 8",
         "11:00",
         "Biblioteca Pública Municipal San Blas (San Blas-Canillejas)",
         "2024-09-25",
         "2025-06-04",
         "Madrid",
         "1"
        ],
        [
         "38",
         "Club de lectura",
         "http://www.madrid.es/sites/v/index.jsp?vgnextchannel=ca9671ee4a9eb410VgnVCM100000171f5a0aRCRD&vgnextoid=e1b3ae3a19a23910VgnVCM1000001d4a900aRCRD",
         "28025",
         "CALLE GENERAL RICARDOS 252",
         "12:00",
         "Biblioteca Pública Municipal La Chata (Carabanchel)",
         "2024-11-04",
         "2025-06-16",
         "Madrid",
         "1"
        ],
        [
         "39",
         "Club de lectura",
         "http://www.madrid.es/sites/v/index.jsp?vgnextchannel=ca9671ee4a9eb410VgnVCM100000171f5a0aRCRD&vgnextoid=a0fd177728c21910VgnVCM2000001f4a900aRCRD",
         "28053",
         "CALLE PUERTO DEL MONASTERIO 1",
         "10:00",
         "Biblioteca Pública Municipal Vallecas (Puente de Vallecas)",
         "2024-09-27",
         "2025-06-13",
         "Madrid",
         "1"
        ],
        [
         "40",
         "Club de lectura de novela gráfica. Premios Nacionales de cómic",
         "http://www.madrid.es/sites/v/index.jsp?vgnextchannel=ca9671ee4a9eb410VgnVCM100000171f5a0aRCRD&vgnextoid=f5210dae9a6da810VgnVCM2000001f4a900aRCRD",
         "28039",
         "CALLE FRANCOS RODRIGUEZ 67",
         "14:45",
         "Biblioteca Pública Municipal Manuel Vázquez Montalbán (Tetuán)",
         "2024-09-24",
         "2025-05-27",
         "Madrid",
         "1"
        ],
        [
         "41",
         "Club de lectura en BPM María Zambrano",
         "http://www.madrid.es/sites/v/index.jsp?vgnextchannel=ca9671ee4a9eb410VgnVCM100000171f5a0aRCRD&vgnextoid=f6dc84c649ef4910VgnVCM2000001f4a900aRCRD",
         "28029",
         "PLAZA DONOSO 5",
         "11:00",
         "Biblioteca Pública Municipal María Zambrano (Tetuán)",
         "2025-02-19",
         "2025-06-25",
         "Madrid",
         "1"
        ],
        [
         "42",
         "Club de lectura en inglés 'Reading Club'",
         "http://www.madrid.es/sites/v/index.jsp?vgnextchannel=ca9671ee4a9eb410VgnVCM100000171f5a0aRCRD&vgnextoid=dc99b2481b1e1910VgnVCM2000001f4a900aRCRD",
         "28002",
         "CALLE MANTUANO 51",
         "19:00",
         "Biblioteca Pública Municipal Francisco Ibáñez (Chamartín)",
         "2024-10-08",
         "2025-04-29",
         "Madrid",
         "1"
        ],
        [
         "43",
         "Club de lectura en inglés 'Reading Club'",
         "http://www.madrid.es/sites/v/index.jsp?vgnextchannel=ca9671ee4a9eb410VgnVCM100000171f5a0aRCRD&vgnextoid=64c2b01c7d402910VgnVCM1000001d4a900aRCRD",
         "28005",
         "CALLE SAN JUSTO 5",
         "19:00",
         "Biblioteca Pública Municipal Iván de Vargas (Centro)",
         "2024-10-08",
         "2025-04-29",
         "Madrid",
         "1"
        ],
        [
         "44",
         "Club de lectura en inglés 'Reading Club'",
         "http://www.madrid.es/sites/v/index.jsp?vgnextchannel=ca9671ee4a9eb410VgnVCM100000171f5a0aRCRD&vgnextoid=4e37c32aae520910VgnVCM2000001f4a900aRCRD",
         "28004",
         "CALLE BARCELO 4",
         "19:00",
         "Biblioteca Pública Municipal Mario Vargas Llosa (Centro)",
         "2024-10-07",
         "2025-04-28",
         "Madrid",
         "1"
        ],
        [
         "45",
         "Club de lectura en inglés 'Reading Club'",
         "http://www.madrid.es/sites/v/index.jsp?vgnextchannel=ca9671ee4a9eb410VgnVCM100000171f5a0aRCRD&vgnextoid=663cb2481b1e1910VgnVCM2000001f4a900aRCRD",
         "28022",
         "CALLE MARIA SEVILLA DIAGO 15",
         "19:00",
         "Biblioteca Pública Municipal José Hierro (San Blas-Canillejas)",
         "2024-10-08",
         "2025-04-29",
         "Madrid",
         "1"
        ],
        [
         "46",
         "Club de lectura Naomi Klein",
         "http://www.madrid.es/sites/v/index.jsp?vgnextchannel=ca9671ee4a9eb410VgnVCM100000171f5a0aRCRD&vgnextoid=342b3a03802e2910VgnVCM1000001d4a900aRCRD",
         "28005",
         "CALLE SAN JUSTO 5",
         "19:00",
         "Biblioteca Pública Municipal Iván de Vargas (Centro)",
         "2025-01-29",
         "2025-05-28",
         "Madrid",
         "1"
        ],
        [
         "47",
         "Club de lectura 'Amigas de las letras'. Espacio de Igualdad Carme Chacón",
         "http://www.madrid.es/sites/v/index.jsp?vgnextchannel=ca9671ee4a9eb410VgnVCM100000171f5a0aRCRD&vgnextoid=9da8470052eb2910VgnVCM2000001f4a900aRCRD",
         "28043",
         "CALLE MATAPOZUELOS 2",
         "17:00",
         "Espacio de Igualdad Carme Chacón. Hortaleza",
         "2025-01-09",
         "2025-03-27",
         "Madrid",
         "1"
        ],
        [
         "48",
         "Club de lectura 'Veinte deseos'",
         "http://www.madrid.es/sites/v/index.jsp?vgnextchannel=ca9671ee4a9eb410VgnVCM100000171f5a0aRCRD&vgnextoid=b75aa37147a02910VgnVCM2000001f4a900aRCRD",
         "28022",
         "CALLE MARIA SEVILLA DIAGO 15",
         "19:00",
         "Biblioteca Pública Municipal José Hierro (San Blas-Canillejas)",
         "2024-10-02",
         "2025-06-25",
         "Madrid",
         "1"
        ],
        [
         "49",
         "Club de lectura (infantil)",
         "http://www.madrid.es/sites/v/index.jsp?vgnextchannel=ca9671ee4a9eb410VgnVCM100000171f5a0aRCRD&vgnextoid=0c4bf9ea99e61910VgnVCM2000001f4a900aRCRD",
         "28028",
         "AVENIDA TOREROS 5",
         "18:00",
         "Biblioteca Pública Municipal David Gistau (Salamanca)",
         "2024-09-30",
         "2025-06-09",
         "Madrid",
         "1"
        ]
       ],
       "shape": {
        "columns": 10,
        "rows": 254
       }
      },
      "text/html": [
       "<div>\n",
       "<style scoped>\n",
       "    .dataframe tbody tr th:only-of-type {\n",
       "        vertical-align: middle;\n",
       "    }\n",
       "\n",
       "    .dataframe tbody tr th {\n",
       "        vertical-align: top;\n",
       "    }\n",
       "\n",
       "    .dataframe thead th {\n",
       "        text-align: right;\n",
       "    }\n",
       "</style>\n",
       "<table border=\"1\" class=\"dataframe\">\n",
       "  <thead>\n",
       "    <tr style=\"text-align: right;\">\n",
       "      <th></th>\n",
       "      <th>nombre_evento</th>\n",
       "      <th>url_evento</th>\n",
       "      <th>codigo_postal</th>\n",
       "      <th>direccion</th>\n",
       "      <th>horario</th>\n",
       "      <th>organizacion</th>\n",
       "      <th>fecha_inicio</th>\n",
       "      <th>fecha_fin</th>\n",
       "      <th>ciudad</th>\n",
       "      <th>id_ciudad</th>\n",
       "    </tr>\n",
       "  </thead>\n",
       "  <tbody>\n",
       "    <tr>\n",
       "      <th>0</th>\n",
       "      <td>25º aniversario de la revista La Fragua</td>\n",
       "      <td>http://www.madrid.es/sites/v/index.jsp?vgnextc...</td>\n",
       "      <td>28005</td>\n",
       "      <td>CALLE SAN JUSTO 5</td>\n",
       "      <td>NaN</td>\n",
       "      <td>Biblioteca Pública Municipal Iván de Vargas (C...</td>\n",
       "      <td>2025-02-24</td>\n",
       "      <td>2025-03-02</td>\n",
       "      <td>Madrid</td>\n",
       "      <td>1</td>\n",
       "    </tr>\n",
       "    <tr>\n",
       "      <th>1</th>\n",
       "      <td>60 Premio Reina Sofía de Pintura y Escultura</td>\n",
       "      <td>http://www.madrid.es/sites/v/index.jsp?vgnextc...</td>\n",
       "      <td>28009</td>\n",
       "      <td>PASEO COLOMBIA 1</td>\n",
       "      <td>NaN</td>\n",
       "      <td>Centro Cultural Casa de Vacas (Retiro)</td>\n",
       "      <td>2025-02-27</td>\n",
       "      <td>2025-03-23</td>\n",
       "      <td>Madrid</td>\n",
       "      <td>1</td>\n",
       "    </tr>\n",
       "    <tr>\n",
       "      <th>2</th>\n",
       "      <td>A toda vela</td>\n",
       "      <td>http://www.madrid.es/sites/v/index.jsp?vgnextc...</td>\n",
       "      <td>28045</td>\n",
       "      <td>PLAZA LEGAZPI 8</td>\n",
       "      <td>NaN</td>\n",
       "      <td>Matadero Madrid</td>\n",
       "      <td>2024-10-01</td>\n",
       "      <td>2025-06-01</td>\n",
       "      <td>Madrid</td>\n",
       "      <td>1</td>\n",
       "    </tr>\n",
       "    <tr>\n",
       "      <th>3</th>\n",
       "      <td>Acompañamiento digital a personas mayores</td>\n",
       "      <td>http://www.madrid.es/sites/v/index.jsp?vgnextc...</td>\n",
       "      <td>&lt;NA&gt;</td>\n",
       "      <td>NaN</td>\n",
       "      <td>NaN</td>\n",
       "      <td>NaN</td>\n",
       "      <td>2024-10-14</td>\n",
       "      <td>2025-06-30</td>\n",
       "      <td>NaN</td>\n",
       "      <td>1</td>\n",
       "    </tr>\n",
       "    <tr>\n",
       "      <th>4</th>\n",
       "      <td>Acompañar en la pérdida</td>\n",
       "      <td>http://www.madrid.es/sites/v/index.jsp?vgnextc...</td>\n",
       "      <td>28029</td>\n",
       "      <td>AVENIDA MONFORTE DE LEMOS 38</td>\n",
       "      <td>17:00</td>\n",
       "      <td>Biblioteca Pública Municipal José Saramago (Fu...</td>\n",
       "      <td>2025-01-14</td>\n",
       "      <td>2025-06-17</td>\n",
       "      <td>Madrid</td>\n",
       "      <td>1</td>\n",
       "    </tr>\n",
       "    <tr>\n",
       "      <th>...</th>\n",
       "      <td>...</td>\n",
       "      <td>...</td>\n",
       "      <td>...</td>\n",
       "      <td>...</td>\n",
       "      <td>...</td>\n",
       "      <td>...</td>\n",
       "      <td>...</td>\n",
       "      <td>...</td>\n",
       "      <td>...</td>\n",
       "      <td>...</td>\n",
       "    </tr>\n",
       "    <tr>\n",
       "      <th>249</th>\n",
       "      <td>Y tú, ¿cómo viajas?</td>\n",
       "      <td>http://www.madrid.es/sites/v/index.jsp?vgnextc...</td>\n",
       "      <td>28037</td>\n",
       "      <td>CALLE HERMANOS GARCIA NOBLEJAS 14</td>\n",
       "      <td>10:00</td>\n",
       "      <td>Biblioteca Pública Municipal Ciudad Lineal (Ci...</td>\n",
       "      <td>2024-12-04</td>\n",
       "      <td>2025-05-28</td>\n",
       "      <td>Madrid</td>\n",
       "      <td>1</td>\n",
       "    </tr>\n",
       "    <tr>\n",
       "      <th>250</th>\n",
       "      <td>Yoga para el buen trato II</td>\n",
       "      <td>http://www.madrid.es/sites/v/index.jsp?vgnextc...</td>\n",
       "      <td>28045</td>\n",
       "      <td>PASEO CHOPERA 10</td>\n",
       "      <td>18:00</td>\n",
       "      <td>Espacio de Igualdad Juana Doña. Arganzuela</td>\n",
       "      <td>2025-02-18</td>\n",
       "      <td>2025-03-11</td>\n",
       "      <td>Madrid</td>\n",
       "      <td>1</td>\n",
       "    </tr>\n",
       "    <tr>\n",
       "      <th>251</th>\n",
       "      <td>'Lina en el mundo de Paul Klee' por Alejandra ...</td>\n",
       "      <td>http://www.madrid.es/sites/v/index.jsp?vgnextc...</td>\n",
       "      <td>28029</td>\n",
       "      <td>AVENIDA MONFORTE DE LEMOS 38</td>\n",
       "      <td>08:30</td>\n",
       "      <td>Biblioteca Pública Municipal José Saramago (Fu...</td>\n",
       "      <td>2025-02-04</td>\n",
       "      <td>2025-03-25</td>\n",
       "      <td>Madrid</td>\n",
       "      <td>1</td>\n",
       "    </tr>\n",
       "    <tr>\n",
       "      <th>252</th>\n",
       "      <td>'Refugiados' por Myriam Laguía</td>\n",
       "      <td>http://www.madrid.es/sites/v/index.jsp?vgnextc...</td>\n",
       "      <td>28019</td>\n",
       "      <td>CALLE ISAAC ALBENIZ 1</td>\n",
       "      <td>19:00</td>\n",
       "      <td>Biblioteca Pública Municipal Ana María Matute ...</td>\n",
       "      <td>2025-02-14</td>\n",
       "      <td>2025-03-13</td>\n",
       "      <td>Madrid</td>\n",
       "      <td>1</td>\n",
       "    </tr>\n",
       "    <tr>\n",
       "      <th>253</th>\n",
       "      <td>¡Ahora nos toca jugar! Juegos de mesa</td>\n",
       "      <td>http://www.madrid.es/sites/v/index.jsp?vgnextc...</td>\n",
       "      <td>28043</td>\n",
       "      <td>CALLE MATAPOZUELOS 2</td>\n",
       "      <td>11:00</td>\n",
       "      <td>Espacio de Igualdad Carme Chacón. Hortaleza</td>\n",
       "      <td>2025-01-03</td>\n",
       "      <td>2025-03-28</td>\n",
       "      <td>Madrid</td>\n",
       "      <td>1</td>\n",
       "    </tr>\n",
       "  </tbody>\n",
       "</table>\n",
       "<p>254 rows × 10 columns</p>\n",
       "</div>"
      ],
      "text/plain": [
       "                                         nombre_evento  \\\n",
       "0              25º aniversario de la revista La Fragua   \n",
       "1         60 Premio Reina Sofía de Pintura y Escultura   \n",
       "2                                          A toda vela   \n",
       "3            Acompañamiento digital a personas mayores   \n",
       "4                              Acompañar en la pérdida   \n",
       "..                                                 ...   \n",
       "249                                Y tú, ¿cómo viajas?   \n",
       "250                         Yoga para el buen trato II   \n",
       "251  'Lina en el mundo de Paul Klee' por Alejandra ...   \n",
       "252                     'Refugiados' por Myriam Laguía   \n",
       "253              ¡Ahora nos toca jugar! Juegos de mesa   \n",
       "\n",
       "                                            url_evento  codigo_postal  \\\n",
       "0    http://www.madrid.es/sites/v/index.jsp?vgnextc...          28005   \n",
       "1    http://www.madrid.es/sites/v/index.jsp?vgnextc...          28009   \n",
       "2    http://www.madrid.es/sites/v/index.jsp?vgnextc...          28045   \n",
       "3    http://www.madrid.es/sites/v/index.jsp?vgnextc...           <NA>   \n",
       "4    http://www.madrid.es/sites/v/index.jsp?vgnextc...          28029   \n",
       "..                                                 ...            ...   \n",
       "249  http://www.madrid.es/sites/v/index.jsp?vgnextc...          28037   \n",
       "250  http://www.madrid.es/sites/v/index.jsp?vgnextc...          28045   \n",
       "251  http://www.madrid.es/sites/v/index.jsp?vgnextc...          28029   \n",
       "252  http://www.madrid.es/sites/v/index.jsp?vgnextc...          28019   \n",
       "253  http://www.madrid.es/sites/v/index.jsp?vgnextc...          28043   \n",
       "\n",
       "                             direccion horario  \\\n",
       "0                    CALLE SAN JUSTO 5     NaN   \n",
       "1                     PASEO COLOMBIA 1     NaN   \n",
       "2                      PLAZA LEGAZPI 8     NaN   \n",
       "3                                  NaN     NaN   \n",
       "4         AVENIDA MONFORTE DE LEMOS 38   17:00   \n",
       "..                                 ...     ...   \n",
       "249  CALLE HERMANOS GARCIA NOBLEJAS 14   10:00   \n",
       "250                   PASEO CHOPERA 10   18:00   \n",
       "251       AVENIDA MONFORTE DE LEMOS 38   08:30   \n",
       "252              CALLE ISAAC ALBENIZ 1   19:00   \n",
       "253               CALLE MATAPOZUELOS 2   11:00   \n",
       "\n",
       "                                          organizacion fecha_inicio  \\\n",
       "0    Biblioteca Pública Municipal Iván de Vargas (C...   2025-02-24   \n",
       "1               Centro Cultural Casa de Vacas (Retiro)   2025-02-27   \n",
       "2                                      Matadero Madrid   2024-10-01   \n",
       "3                                                  NaN   2024-10-14   \n",
       "4    Biblioteca Pública Municipal José Saramago (Fu...   2025-01-14   \n",
       "..                                                 ...          ...   \n",
       "249  Biblioteca Pública Municipal Ciudad Lineal (Ci...   2024-12-04   \n",
       "250         Espacio de Igualdad Juana Doña. Arganzuela   2025-02-18   \n",
       "251  Biblioteca Pública Municipal José Saramago (Fu...   2025-02-04   \n",
       "252  Biblioteca Pública Municipal Ana María Matute ...   2025-02-14   \n",
       "253        Espacio de Igualdad Carme Chacón. Hortaleza   2025-01-03   \n",
       "\n",
       "      fecha_fin  ciudad  id_ciudad  \n",
       "0    2025-03-02  Madrid          1  \n",
       "1    2025-03-23  Madrid          1  \n",
       "2    2025-06-01  Madrid          1  \n",
       "3    2025-06-30     NaN          1  \n",
       "4    2025-06-17  Madrid          1  \n",
       "..          ...     ...        ...  \n",
       "249  2025-05-28  Madrid          1  \n",
       "250  2025-03-11  Madrid          1  \n",
       "251  2025-03-25  Madrid          1  \n",
       "252  2025-03-13  Madrid          1  \n",
       "253  2025-03-28  Madrid          1  \n",
       "\n",
       "[254 rows x 10 columns]"
      ]
     },
     "execution_count": 35,
     "metadata": {},
     "output_type": "execute_result"
    }
   ],
   "source": [
    "tabla_eventos"
   ]
  },
  {
   "cell_type": "code",
   "execution_count": 36,
   "metadata": {},
   "outputs": [
    {
     "data": {
      "application/vnd.microsoft.datawrangler.viewer.v0+json": {
       "columns": [
        {
         "name": "index",
         "rawType": "int64",
         "type": "integer"
        },
        {
         "name": "nombre_evento",
         "rawType": "object",
         "type": "string"
        },
        {
         "name": "url_evento",
         "rawType": "object",
         "type": "string"
        },
        {
         "name": "codigo_postal",
         "rawType": "Int64",
         "type": "integer"
        },
        {
         "name": "direccion",
         "rawType": "object",
         "type": "unknown"
        },
        {
         "name": "horario",
         "rawType": "object",
         "type": "unknown"
        },
        {
         "name": "fecha_inicio",
         "rawType": "object",
         "type": "unknown"
        },
        {
         "name": "fecha_fin",
         "rawType": "object",
         "type": "unknown"
        },
        {
         "name": "organizacion",
         "rawType": "object",
         "type": "unknown"
        },
        {
         "name": "id_ciudad",
         "rawType": "int64",
         "type": "integer"
        }
       ],
       "conversionMethod": "pd.DataFrame",
       "ref": "d18fadff-046f-4553-a4b4-fb2590c6008d",
       "rows": [
        [
         "0",
         "25º aniversario de la revista La Fragua",
         "http://www.madrid.es/sites/v/index.jsp?vgnextchannel=ca9671ee4a9eb410VgnVCM100000171f5a0aRCRD&vgnextoid=1ea220bed10d4910VgnVCM2000001f4a900aRCRD",
         "28005",
         "CALLE SAN JUSTO 5",
         null,
         "2025-02-24",
         "2025-03-02",
         "Biblioteca Pública Municipal Iván de Vargas (Centro)",
         "1"
        ],
        [
         "1",
         "60 Premio Reina Sofía de Pintura y Escultura",
         "http://www.madrid.es/sites/v/index.jsp?vgnextchannel=ca9671ee4a9eb410VgnVCM100000171f5a0aRCRD&vgnextoid=34c5130393e15910VgnVCM2000001f4a900aRCRD",
         "28009",
         "PASEO COLOMBIA 1",
         null,
         "2025-02-27",
         "2025-03-23",
         "Centro Cultural Casa de Vacas (Retiro)",
         "1"
        ],
        [
         "2",
         "A toda vela",
         "http://www.madrid.es/sites/v/index.jsp?vgnextchannel=ca9671ee4a9eb410VgnVCM100000171f5a0aRCRD&vgnextoid=59d5e7da8b822910VgnVCM1000001d4a900aRCRD",
         "28045",
         "PLAZA LEGAZPI 8",
         null,
         "2024-10-01",
         "2025-06-01",
         "Matadero Madrid",
         "1"
        ],
        [
         "3",
         "Acompañamiento digital a personas mayores",
         "http://www.madrid.es/sites/v/index.jsp?vgnextchannel=ca9671ee4a9eb410VgnVCM100000171f5a0aRCRD&vgnextoid=5b58d89ad2232910VgnVCM2000001f4a900aRCRD",
         null,
         null,
         null,
         "2024-10-14",
         "2025-06-30",
         null,
         "1"
        ],
        [
         "4",
         "Acompañar en la pérdida",
         "http://www.madrid.es/sites/v/index.jsp?vgnextchannel=ca9671ee4a9eb410VgnVCM100000171f5a0aRCRD&vgnextoid=197023e4c84d3910VgnVCM2000001f4a900aRCRD",
         "28029",
         "AVENIDA MONFORTE DE LEMOS 38",
         "17:00",
         "2025-01-14",
         "2025-06-17",
         "Biblioteca Pública Municipal José Saramago (Fuencarral-El Pardo)",
         "1"
        ],
        [
         "5",
         "Activas en compañía: gimnasia de mantenimiento",
         "http://www.madrid.es/sites/v/index.jsp?vgnextchannel=ca9671ee4a9eb410VgnVCM100000171f5a0aRCRD&vgnextoid=f93102b68bf54910VgnVCM2000001f4a900aRCRD",
         "28022",
         "PLAZA EURIPIDES 1",
         "12:00",
         "2025-01-13",
         "2025-03-31",
         "Espacio de Igualdad Lucía Sánchez Saornil. San Blas-Canillejas",
         "1"
        ],
        [
         "6",
         "Actividades mensuales de los centros de mayores del distrito Hortaleza",
         "http://www.madrid.es/sites/v/index.jsp?vgnextchannel=ca9671ee4a9eb410VgnVCM100000171f5a0aRCRD&vgnextoid=315479485bdeb810VgnVCM1000001d4a900aRCRD",
         null,
         null,
         null,
         "2024-02-01",
         "2025-07-13",
         null,
         "1"
        ],
        [
         "7",
         "Amantes de las series",
         "http://www.madrid.es/sites/v/index.jsp?vgnextchannel=ca9671ee4a9eb410VgnVCM100000171f5a0aRCRD&vgnextoid=fab111c60bad4910VgnVCM2000001f4a900aRCRD",
         "28045",
         "PASEO CHOPERA 10",
         "17:30",
         "2025-02-19",
         "2025-03-12",
         "Espacio de Igualdad Juana Doña. Arganzuela",
         "1"
        ],
        [
         "8",
         "Andrea Canepa «Wasi qaymi (Lugar y tacto)»",
         "http://www.madrid.es/sites/v/index.jsp?vgnextchannel=ca9671ee4a9eb410VgnVCM100000171f5a0aRCRD&vgnextoid=45f102a2fa0e1910VgnVCM1000001d4a900aRCRD",
         "28015",
         "CALLE CONDE DUQUE 9",
         null,
         "2025-02-28",
         "2025-05-18",
         "Centro de Cultura Contemporánea Conde Duque",
         "1"
        ],
        [
         "9",
         "Apoyo a la autonomía",
         "http://www.madrid.es/sites/v/index.jsp?vgnextchannel=ca9671ee4a9eb410VgnVCM100000171f5a0aRCRD&vgnextoid=1e67f7a45c701910VgnVCM1000001d4a900aRCRD",
         null,
         null,
         null,
         "2024-09-13",
         "2025-06-20",
         null,
         "1"
        ],
        [
         "10",
         "Artemisia. La magia de la luna",
         "http://www.madrid.es/sites/v/index.jsp?vgnextchannel=ca9671ee4a9eb410VgnVCM100000171f5a0aRCRD&vgnextoid=91dbd257d6d70910VgnVCM1000001d4a900aRCRD",
         "28045",
         "AVENIDA PLANETARIO 16",
         "18:00",
         "2024-07-16",
         "2025-12-28",
         "Planetario de Madrid",
         "1"
        ],
        [
         "11",
         "Artificios teatrales. La escena musical de los felices veinte",
         "http://www.madrid.es/sites/v/index.jsp?vgnextchannel=ca9671ee4a9eb410VgnVCM100000171f5a0aRCRD&vgnextoid=6ed5f65f96c83910VgnVCM1000001d4a900aRCRD",
         "28015",
         "CALLE AMANIEL 29",
         null,
         "2024-10-16",
         "2025-03-08",
         "Centro Cultural Clara del Rey - Museo ABC (Centro)",
         "1"
        ],
        [
         "12",
         "ArTrics - Laboratorio de Creación 2024/25",
         "http://www.madrid.es/sites/v/index.jsp?vgnextchannel=ca9671ee4a9eb410VgnVCM100000171f5a0aRCRD&vgnextoid=7ae9c00a26e12910VgnVCM1000001d4a900aRCRD",
         null,
         null,
         null,
         "2024-10-01",
         "2025-07-31",
         null,
         "1"
        ],
        [
         "13",
         "Asalto a la lectura. Tres cerditos y más",
         "http://www.madrid.es/sites/v/index.jsp?vgnextchannel=ca9671ee4a9eb410VgnVCM100000171f5a0aRCRD&vgnextoid=6aec3e3332fe4910VgnVCM1000001d4a900aRCRD",
         "28015",
         "CALLE AMANIEL 29",
         "11:00",
         "2025-03-01",
         "2025-03-01",
         "Centro Cultural Clara del Rey - Museo ABC (Centro)",
         "1"
        ],
        [
         "14",
         "Asombro",
         "http://www.madrid.es/sites/v/index.jsp?vgnextchannel=ca9671ee4a9eb410VgnVCM100000171f5a0aRCRD&vgnextoid=85b965d37f624910VgnVCM1000001d4a900aRCRD",
         "28045",
         "PLAZA LEGAZPI 8",
         null,
         "2025-01-18",
         "2025-03-23",
         "Matadero Madrid",
         "1"
        ],
        [
         "15",
         "Atlantiques + Dahomey",
         "http://www.madrid.es/sites/v/index.jsp?vgnextchannel=ca9671ee4a9eb410VgnVCM100000171f5a0aRCRD&vgnextoid=3b9464926f415910VgnVCM1000001d4a900aRCRD",
         "28045",
         "PLAZA LEGAZPI 8",
         "19:30",
         "2025-03-01",
         "2025-03-01",
         "Cineteca Madrid",
         "1"
        ],
        [
         "16",
         "Baile de Carnaval. Concierto de Origen",
         "http://www.madrid.es/sites/v/index.jsp?vgnextchannel=ca9671ee4a9eb410VgnVCM100000171f5a0aRCRD&vgnextoid=1551fcf4aade4910VgnVCM2000001f4a900aRCRD",
         null,
         null,
         "19:30",
         "2025-03-01",
         "2025-03-01",
         null,
         "1"
        ],
        [
         "17",
         "Baile de Carnaval. Concierto de Versioneta",
         "http://www.madrid.es/sites/v/index.jsp?vgnextchannel=ca9671ee4a9eb410VgnVCM100000171f5a0aRCRD&vgnextoid=ae02fcf4aade4910VgnVCM2000001f4a900aRCRD",
         null,
         null,
         "21:15",
         "2025-03-01",
         "2025-03-01",
         null,
         "1"
        ],
        [
         "18",
         "Baile de Mayores en Centro Cultural Almirante Churruca",
         "http://www.madrid.es/sites/v/index.jsp?vgnextchannel=ca9671ee4a9eb410VgnVCM100000171f5a0aRCRD&vgnextoid=beaf2f9cb66d1610VgnVCM2000001f4a900aRCRD",
         "28024",
         "CALLE FUENTE DEL TIRO 72",
         "16:30",
         "2024-10-04",
         "2025-06-27",
         "Centro Sociocultural Almirante Churruca (Latina)",
         "1"
        ],
        [
         "19",
         "Baile de Mayores en Centro Sociocultural El Greco",
         "http://www.madrid.es/sites/v/index.jsp?vgnextchannel=ca9671ee4a9eb410VgnVCM100000171f5a0aRCRD&vgnextoid=77922f9cb66d1610VgnVCM2000001f4a900aRCRD",
         "28011",
         "CALLE EL GRECO 29",
         "18:00",
         "2024-10-03",
         "2025-06-26",
         "Centro Sociocultural El Greco (Latina)",
         "1"
        ],
        [
         "20",
         "Beethoven. Del corazón al corazón",
         "http://www.madrid.es/sites/v/index.jsp?vgnextchannel=ca9671ee4a9eb410VgnVCM100000171f5a0aRCRD&vgnextoid=3cd9168eeb173910VgnVCM1000001d4a900aRCRD",
         "28014",
         "CALLE ALAMEDA 15",
         null,
         "2024-12-03",
         "2025-03-30",
         "Espacio Cultural Serrería Belga",
         "1"
        ],
        [
         "21",
         "Biblioajedrez",
         "http://www.madrid.es/sites/v/index.jsp?vgnextchannel=ca9671ee4a9eb410VgnVCM100000171f5a0aRCRD&vgnextoid=37340defdf5e1910VgnVCM2000001f4a900aRCRD",
         "28024",
         "CALLE GRANJA DE TORREHERMOSA 1",
         "18:00",
         "2024-09-30",
         "2025-05-26",
         "Biblioteca Pública Municipal Ángel González (Latina)",
         "1"
        ],
        [
         "22",
         "Bodegones y Madrid",
         "http://www.madrid.es/sites/v/index.jsp?vgnextchannel=ca9671ee4a9eb410VgnVCM100000171f5a0aRCRD&vgnextoid=a903ec7bdcf54910VgnVCM1000001d4a900aRCRD",
         "28022",
         "CALLE FEBRERO 4",
         null,
         "2025-02-01",
         "2025-03-31",
         "Centro Cultural José Luis López Vázquez (San Blas - Canillejas)",
         "1"
        ],
        [
         "23",
         "Caminamos juntas",
         "http://www.madrid.es/sites/v/index.jsp?vgnextchannel=ca9671ee4a9eb410VgnVCM100000171f5a0aRCRD&vgnextoid=a54e02b68bf54910VgnVCM2000001f4a900aRCRD",
         "28022",
         "PLAZA EURIPIDES 1",
         "10:30",
         "2025-01-07",
         "2025-03-25",
         "Espacio de Igualdad Lucía Sánchez Saornil. San Blas-Canillejas",
         "1"
        ],
        [
         "24",
         "Camino hacia la autonomía financiera",
         "http://www.madrid.es/sites/v/index.jsp?vgnextchannel=ca9671ee4a9eb410VgnVCM100000171f5a0aRCRD&vgnextoid=8b24e4778bbc4910VgnVCM2000001f4a900aRCRD",
         "28045",
         "PASEO CHOPERA 10",
         "10:30",
         "2025-02-12",
         "2025-03-05",
         "Espacio de Igualdad Juana Doña. Arganzuela",
         "1"
        ],
        [
         "25",
         "Campamento de carnaval y fiestas del mundo",
         "http://www.madrid.es/sites/v/index.jsp?vgnextchannel=ca9671ee4a9eb410VgnVCM100000171f5a0aRCRD&vgnextoid=c61c239147bd4910VgnVCM2000001f4a900aRCRD",
         "28028",
         "CALLE BOSTON 3",
         null,
         "2025-02-28",
         "2025-03-03",
         "Colegio Público Guindalera",
         "1"
        ],
        [
         "26",
         "Campamentos urbanos Días sin cole. Distrito San Blas - Canillejas",
         "http://www.madrid.es/sites/v/index.jsp?vgnextchannel=ca9671ee4a9eb410VgnVCM100000171f5a0aRCRD&vgnextoid=7859110d84384910VgnVCM2000001f4a900aRCRD",
         "28022",
         "AVENIDA CANILLEJAS A VICALVARO 56",
         null,
         "2025-02-28",
         "2025-03-03",
         "Colegio Público Alberto Alcocer",
         "1"
        ],
        [
         "27",
         "Caperucita camina sola",
         "http://www.madrid.es/sites/v/index.jsp?vgnextchannel=ca9671ee4a9eb410VgnVCM100000171f5a0aRCRD&vgnextoid=1166d242f8884910VgnVCM2000001f4a900aRCRD",
         null,
         null,
         null,
         "2025-02-20",
         "2025-03-09",
         null,
         "1"
        ],
        [
         "28",
         "Carnaval en familia. Espectáculo familiar. Carnaval en la pista de circo",
         "http://www.madrid.es/sites/v/index.jsp?vgnextchannel=ca9671ee4a9eb410VgnVCM100000171f5a0aRCRD&vgnextoid=2d22157fd8e15910VgnVCM1000001d4a900aRCRD",
         "28042",
         "CALLE BOTICA 7",
         "12:30",
         "2025-03-01",
         "2025-03-01",
         "Centro Cultural - Centro Socio Cultural Villa de Barajas",
         "1"
        ],
        [
         "29",
         "Carnaval en Matadero",
         "http://www.madrid.es/sites/v/index.jsp?vgnextchannel=ca9671ee4a9eb410VgnVCM100000171f5a0aRCRD&vgnextoid=38950d5a68815910VgnVCM2000001f4a900aRCRD",
         "28045",
         "PLAZA LEGAZPI 8",
         "10:30",
         "2025-03-01",
         "2025-03-01",
         "Matadero Madrid",
         "1"
        ],
        [
         "30",
         "Centro de Interpretación del Paisaje de la Luz",
         "http://www.madrid.es/sites/v/index.jsp?vgnextchannel=ca9671ee4a9eb410VgnVCM100000171f5a0aRCRD&vgnextoid=842dc5eb8e915810VgnVCM1000001d4a900aRCRD",
         "28014",
         "PLAZA CIBELES 1",
         null,
         "2022-12-14",
         "2026-01-14",
         "CentroCentro",
         "1"
        ],
        [
         "31",
         "Chatines: club de lectura infantil",
         "http://www.madrid.es/sites/v/index.jsp?vgnextchannel=ca9671ee4a9eb410VgnVCM100000171f5a0aRCRD&vgnextoid=146e23279fad4910VgnVCM1000001d4a900aRCRD",
         "28036",
         "CALLE MANUEL FERRERO 1",
         "17:30",
         "2025-02-27",
         "2025-06-19",
         "Biblioteca Pública Municipal Dámaso Alonso (Chamartín)",
         "1"
        ],
        [
         "32",
         "Chup-Chup",
         "http://www.madrid.es/sites/v/index.jsp?vgnextchannel=ca9671ee4a9eb410VgnVCM100000171f5a0aRCRD&vgnextoid=e4cc2c84ecd15910VgnVCM2000001f4a900aRCRD",
         "28022",
         "CALLE FEBRERO 4",
         "19:00",
         "2025-03-01",
         "2025-03-01",
         "Centro Cultural José Luis López Vázquez (San Blas - Canillejas)",
         "1"
        ],
        [
         "33",
         "Ciclismo por Madrid",
         "http://www.madrid.es/sites/v/index.jsp?vgnextchannel=ca9671ee4a9eb410VgnVCM100000171f5a0aRCRD&vgnextoid=db40e3f0c91ea710VgnVCM2000001f4a900aRCRD",
         null,
         null,
         "00:00",
         "2024-09-01",
         "2025-06-30",
         null,
         "1"
        ],
        [
         "34",
         "Cine familiar",
         "http://www.madrid.es/sites/v/index.jsp?vgnextchannel=ca9671ee4a9eb410VgnVCM100000171f5a0aRCRD&vgnextoid=d4fd2e979f0a0910VgnVCM2000001f4a900aRCRD",
         "28045",
         "PLAZA LEGAZPI 8",
         null,
         "2024-09-15",
         "2025-06-29",
         "Cineteca Madrid",
         "1"
        ],
        [
         "35",
         "Círculo de ciudadanos",
         "http://www.madrid.es/sites/v/index.jsp?vgnextchannel=ca9671ee4a9eb410VgnVCM100000171f5a0aRCRD&vgnextoid=ba197bfae6da4910VgnVCM2000001f4a900aRCRD",
         "28029",
         "AVENIDA MONFORTE DE LEMOS 38",
         "17:00",
         "2025-02-11",
         "2025-12-16",
         "Biblioteca Pública Municipal José Saramago (Fuencarral-El Pardo)",
         "1"
        ],
        [
         "36",
         "Clases de árabe para niños",
         "http://www.madrid.es/sites/v/index.jsp?vgnextchannel=ca9671ee4a9eb410VgnVCM100000171f5a0aRCRD&vgnextoid=60ceedb3e8133910VgnVCM1000001d4a900aRCRD",
         "28041",
         "AVENIDA SAN FERMIN 10",
         "18:00",
         "2024-12-13",
         "2025-05-30",
         "Biblioteca Pública Municipal San Fermín (Usera)",
         "1"
        ],
        [
         "37",
         "Club de lectura",
         "http://www.madrid.es/sites/v/index.jsp?vgnextchannel=ca9671ee4a9eb410VgnVCM100000171f5a0aRCRD&vgnextoid=4b66106762794910VgnVCM1000001d4a900aRCRD",
         "28037",
         "CALLE SAN ROMAN DEL VALLE 8",
         "11:00",
         "2024-09-25",
         "2025-06-04",
         "Biblioteca Pública Municipal San Blas (San Blas-Canillejas)",
         "1"
        ],
        [
         "38",
         "Club de lectura",
         "http://www.madrid.es/sites/v/index.jsp?vgnextchannel=ca9671ee4a9eb410VgnVCM100000171f5a0aRCRD&vgnextoid=e1b3ae3a19a23910VgnVCM1000001d4a900aRCRD",
         "28025",
         "CALLE GENERAL RICARDOS 252",
         "12:00",
         "2024-11-04",
         "2025-06-16",
         "Biblioteca Pública Municipal La Chata (Carabanchel)",
         "1"
        ],
        [
         "39",
         "Club de lectura",
         "http://www.madrid.es/sites/v/index.jsp?vgnextchannel=ca9671ee4a9eb410VgnVCM100000171f5a0aRCRD&vgnextoid=a0fd177728c21910VgnVCM2000001f4a900aRCRD",
         "28053",
         "CALLE PUERTO DEL MONASTERIO 1",
         "10:00",
         "2024-09-27",
         "2025-06-13",
         "Biblioteca Pública Municipal Vallecas (Puente de Vallecas)",
         "1"
        ],
        [
         "40",
         "Club de lectura de novela gráfica. Premios Nacionales de cómic",
         "http://www.madrid.es/sites/v/index.jsp?vgnextchannel=ca9671ee4a9eb410VgnVCM100000171f5a0aRCRD&vgnextoid=f5210dae9a6da810VgnVCM2000001f4a900aRCRD",
         "28039",
         "CALLE FRANCOS RODRIGUEZ 67",
         "14:45",
         "2024-09-24",
         "2025-05-27",
         "Biblioteca Pública Municipal Manuel Vázquez Montalbán (Tetuán)",
         "1"
        ],
        [
         "41",
         "Club de lectura en BPM María Zambrano",
         "http://www.madrid.es/sites/v/index.jsp?vgnextchannel=ca9671ee4a9eb410VgnVCM100000171f5a0aRCRD&vgnextoid=f6dc84c649ef4910VgnVCM2000001f4a900aRCRD",
         "28029",
         "PLAZA DONOSO 5",
         "11:00",
         "2025-02-19",
         "2025-06-25",
         "Biblioteca Pública Municipal María Zambrano (Tetuán)",
         "1"
        ],
        [
         "42",
         "Club de lectura en inglés 'Reading Club'",
         "http://www.madrid.es/sites/v/index.jsp?vgnextchannel=ca9671ee4a9eb410VgnVCM100000171f5a0aRCRD&vgnextoid=dc99b2481b1e1910VgnVCM2000001f4a900aRCRD",
         "28002",
         "CALLE MANTUANO 51",
         "19:00",
         "2024-10-08",
         "2025-04-29",
         "Biblioteca Pública Municipal Francisco Ibáñez (Chamartín)",
         "1"
        ],
        [
         "43",
         "Club de lectura en inglés 'Reading Club'",
         "http://www.madrid.es/sites/v/index.jsp?vgnextchannel=ca9671ee4a9eb410VgnVCM100000171f5a0aRCRD&vgnextoid=64c2b01c7d402910VgnVCM1000001d4a900aRCRD",
         "28005",
         "CALLE SAN JUSTO 5",
         "19:00",
         "2024-10-08",
         "2025-04-29",
         "Biblioteca Pública Municipal Iván de Vargas (Centro)",
         "1"
        ],
        [
         "44",
         "Club de lectura en inglés 'Reading Club'",
         "http://www.madrid.es/sites/v/index.jsp?vgnextchannel=ca9671ee4a9eb410VgnVCM100000171f5a0aRCRD&vgnextoid=4e37c32aae520910VgnVCM2000001f4a900aRCRD",
         "28004",
         "CALLE BARCELO 4",
         "19:00",
         "2024-10-07",
         "2025-04-28",
         "Biblioteca Pública Municipal Mario Vargas Llosa (Centro)",
         "1"
        ],
        [
         "45",
         "Club de lectura en inglés 'Reading Club'",
         "http://www.madrid.es/sites/v/index.jsp?vgnextchannel=ca9671ee4a9eb410VgnVCM100000171f5a0aRCRD&vgnextoid=663cb2481b1e1910VgnVCM2000001f4a900aRCRD",
         "28022",
         "CALLE MARIA SEVILLA DIAGO 15",
         "19:00",
         "2024-10-08",
         "2025-04-29",
         "Biblioteca Pública Municipal José Hierro (San Blas-Canillejas)",
         "1"
        ],
        [
         "46",
         "Club de lectura Naomi Klein",
         "http://www.madrid.es/sites/v/index.jsp?vgnextchannel=ca9671ee4a9eb410VgnVCM100000171f5a0aRCRD&vgnextoid=342b3a03802e2910VgnVCM1000001d4a900aRCRD",
         "28005",
         "CALLE SAN JUSTO 5",
         "19:00",
         "2025-01-29",
         "2025-05-28",
         "Biblioteca Pública Municipal Iván de Vargas (Centro)",
         "1"
        ],
        [
         "47",
         "Club de lectura 'Amigas de las letras'. Espacio de Igualdad Carme Chacón",
         "http://www.madrid.es/sites/v/index.jsp?vgnextchannel=ca9671ee4a9eb410VgnVCM100000171f5a0aRCRD&vgnextoid=9da8470052eb2910VgnVCM2000001f4a900aRCRD",
         "28043",
         "CALLE MATAPOZUELOS 2",
         "17:00",
         "2025-01-09",
         "2025-03-27",
         "Espacio de Igualdad Carme Chacón. Hortaleza",
         "1"
        ],
        [
         "48",
         "Club de lectura 'Veinte deseos'",
         "http://www.madrid.es/sites/v/index.jsp?vgnextchannel=ca9671ee4a9eb410VgnVCM100000171f5a0aRCRD&vgnextoid=b75aa37147a02910VgnVCM2000001f4a900aRCRD",
         "28022",
         "CALLE MARIA SEVILLA DIAGO 15",
         "19:00",
         "2024-10-02",
         "2025-06-25",
         "Biblioteca Pública Municipal José Hierro (San Blas-Canillejas)",
         "1"
        ],
        [
         "49",
         "Club de lectura (infantil)",
         "http://www.madrid.es/sites/v/index.jsp?vgnextchannel=ca9671ee4a9eb410VgnVCM100000171f5a0aRCRD&vgnextoid=0c4bf9ea99e61910VgnVCM2000001f4a900aRCRD",
         "28028",
         "AVENIDA TOREROS 5",
         "18:00",
         "2024-09-30",
         "2025-06-09",
         "Biblioteca Pública Municipal David Gistau (Salamanca)",
         "1"
        ]
       ],
       "shape": {
        "columns": 9,
        "rows": 254
       }
      },
      "text/html": [
       "<div>\n",
       "<style scoped>\n",
       "    .dataframe tbody tr th:only-of-type {\n",
       "        vertical-align: middle;\n",
       "    }\n",
       "\n",
       "    .dataframe tbody tr th {\n",
       "        vertical-align: top;\n",
       "    }\n",
       "\n",
       "    .dataframe thead th {\n",
       "        text-align: right;\n",
       "    }\n",
       "</style>\n",
       "<table border=\"1\" class=\"dataframe\">\n",
       "  <thead>\n",
       "    <tr style=\"text-align: right;\">\n",
       "      <th></th>\n",
       "      <th>nombre_evento</th>\n",
       "      <th>url_evento</th>\n",
       "      <th>codigo_postal</th>\n",
       "      <th>direccion</th>\n",
       "      <th>horario</th>\n",
       "      <th>fecha_inicio</th>\n",
       "      <th>fecha_fin</th>\n",
       "      <th>organizacion</th>\n",
       "      <th>id_ciudad</th>\n",
       "    </tr>\n",
       "  </thead>\n",
       "  <tbody>\n",
       "    <tr>\n",
       "      <th>0</th>\n",
       "      <td>25º aniversario de la revista La Fragua</td>\n",
       "      <td>http://www.madrid.es/sites/v/index.jsp?vgnextc...</td>\n",
       "      <td>28005</td>\n",
       "      <td>CALLE SAN JUSTO 5</td>\n",
       "      <td>NaN</td>\n",
       "      <td>2025-02-24</td>\n",
       "      <td>2025-03-02</td>\n",
       "      <td>Biblioteca Pública Municipal Iván de Vargas (C...</td>\n",
       "      <td>1</td>\n",
       "    </tr>\n",
       "    <tr>\n",
       "      <th>1</th>\n",
       "      <td>60 Premio Reina Sofía de Pintura y Escultura</td>\n",
       "      <td>http://www.madrid.es/sites/v/index.jsp?vgnextc...</td>\n",
       "      <td>28009</td>\n",
       "      <td>PASEO COLOMBIA 1</td>\n",
       "      <td>NaN</td>\n",
       "      <td>2025-02-27</td>\n",
       "      <td>2025-03-23</td>\n",
       "      <td>Centro Cultural Casa de Vacas (Retiro)</td>\n",
       "      <td>1</td>\n",
       "    </tr>\n",
       "    <tr>\n",
       "      <th>2</th>\n",
       "      <td>A toda vela</td>\n",
       "      <td>http://www.madrid.es/sites/v/index.jsp?vgnextc...</td>\n",
       "      <td>28045</td>\n",
       "      <td>PLAZA LEGAZPI 8</td>\n",
       "      <td>NaN</td>\n",
       "      <td>2024-10-01</td>\n",
       "      <td>2025-06-01</td>\n",
       "      <td>Matadero Madrid</td>\n",
       "      <td>1</td>\n",
       "    </tr>\n",
       "    <tr>\n",
       "      <th>3</th>\n",
       "      <td>Acompañamiento digital a personas mayores</td>\n",
       "      <td>http://www.madrid.es/sites/v/index.jsp?vgnextc...</td>\n",
       "      <td>&lt;NA&gt;</td>\n",
       "      <td>NaN</td>\n",
       "      <td>NaN</td>\n",
       "      <td>2024-10-14</td>\n",
       "      <td>2025-06-30</td>\n",
       "      <td>NaN</td>\n",
       "      <td>1</td>\n",
       "    </tr>\n",
       "    <tr>\n",
       "      <th>4</th>\n",
       "      <td>Acompañar en la pérdida</td>\n",
       "      <td>http://www.madrid.es/sites/v/index.jsp?vgnextc...</td>\n",
       "      <td>28029</td>\n",
       "      <td>AVENIDA MONFORTE DE LEMOS 38</td>\n",
       "      <td>17:00</td>\n",
       "      <td>2025-01-14</td>\n",
       "      <td>2025-06-17</td>\n",
       "      <td>Biblioteca Pública Municipal José Saramago (Fu...</td>\n",
       "      <td>1</td>\n",
       "    </tr>\n",
       "    <tr>\n",
       "      <th>...</th>\n",
       "      <td>...</td>\n",
       "      <td>...</td>\n",
       "      <td>...</td>\n",
       "      <td>...</td>\n",
       "      <td>...</td>\n",
       "      <td>...</td>\n",
       "      <td>...</td>\n",
       "      <td>...</td>\n",
       "      <td>...</td>\n",
       "    </tr>\n",
       "    <tr>\n",
       "      <th>249</th>\n",
       "      <td>Y tú, ¿cómo viajas?</td>\n",
       "      <td>http://www.madrid.es/sites/v/index.jsp?vgnextc...</td>\n",
       "      <td>28037</td>\n",
       "      <td>CALLE HERMANOS GARCIA NOBLEJAS 14</td>\n",
       "      <td>10:00</td>\n",
       "      <td>2024-12-04</td>\n",
       "      <td>2025-05-28</td>\n",
       "      <td>Biblioteca Pública Municipal Ciudad Lineal (Ci...</td>\n",
       "      <td>1</td>\n",
       "    </tr>\n",
       "    <tr>\n",
       "      <th>250</th>\n",
       "      <td>Yoga para el buen trato II</td>\n",
       "      <td>http://www.madrid.es/sites/v/index.jsp?vgnextc...</td>\n",
       "      <td>28045</td>\n",
       "      <td>PASEO CHOPERA 10</td>\n",
       "      <td>18:00</td>\n",
       "      <td>2025-02-18</td>\n",
       "      <td>2025-03-11</td>\n",
       "      <td>Espacio de Igualdad Juana Doña. Arganzuela</td>\n",
       "      <td>1</td>\n",
       "    </tr>\n",
       "    <tr>\n",
       "      <th>251</th>\n",
       "      <td>'Lina en el mundo de Paul Klee' por Alejandra ...</td>\n",
       "      <td>http://www.madrid.es/sites/v/index.jsp?vgnextc...</td>\n",
       "      <td>28029</td>\n",
       "      <td>AVENIDA MONFORTE DE LEMOS 38</td>\n",
       "      <td>08:30</td>\n",
       "      <td>2025-02-04</td>\n",
       "      <td>2025-03-25</td>\n",
       "      <td>Biblioteca Pública Municipal José Saramago (Fu...</td>\n",
       "      <td>1</td>\n",
       "    </tr>\n",
       "    <tr>\n",
       "      <th>252</th>\n",
       "      <td>'Refugiados' por Myriam Laguía</td>\n",
       "      <td>http://www.madrid.es/sites/v/index.jsp?vgnextc...</td>\n",
       "      <td>28019</td>\n",
       "      <td>CALLE ISAAC ALBENIZ 1</td>\n",
       "      <td>19:00</td>\n",
       "      <td>2025-02-14</td>\n",
       "      <td>2025-03-13</td>\n",
       "      <td>Biblioteca Pública Municipal Ana María Matute ...</td>\n",
       "      <td>1</td>\n",
       "    </tr>\n",
       "    <tr>\n",
       "      <th>253</th>\n",
       "      <td>¡Ahora nos toca jugar! Juegos de mesa</td>\n",
       "      <td>http://www.madrid.es/sites/v/index.jsp?vgnextc...</td>\n",
       "      <td>28043</td>\n",
       "      <td>CALLE MATAPOZUELOS 2</td>\n",
       "      <td>11:00</td>\n",
       "      <td>2025-01-03</td>\n",
       "      <td>2025-03-28</td>\n",
       "      <td>Espacio de Igualdad Carme Chacón. Hortaleza</td>\n",
       "      <td>1</td>\n",
       "    </tr>\n",
       "  </tbody>\n",
       "</table>\n",
       "<p>254 rows × 9 columns</p>\n",
       "</div>"
      ],
      "text/plain": [
       "                                         nombre_evento  \\\n",
       "0              25º aniversario de la revista La Fragua   \n",
       "1         60 Premio Reina Sofía de Pintura y Escultura   \n",
       "2                                          A toda vela   \n",
       "3            Acompañamiento digital a personas mayores   \n",
       "4                              Acompañar en la pérdida   \n",
       "..                                                 ...   \n",
       "249                                Y tú, ¿cómo viajas?   \n",
       "250                         Yoga para el buen trato II   \n",
       "251  'Lina en el mundo de Paul Klee' por Alejandra ...   \n",
       "252                     'Refugiados' por Myriam Laguía   \n",
       "253              ¡Ahora nos toca jugar! Juegos de mesa   \n",
       "\n",
       "                                            url_evento  codigo_postal  \\\n",
       "0    http://www.madrid.es/sites/v/index.jsp?vgnextc...          28005   \n",
       "1    http://www.madrid.es/sites/v/index.jsp?vgnextc...          28009   \n",
       "2    http://www.madrid.es/sites/v/index.jsp?vgnextc...          28045   \n",
       "3    http://www.madrid.es/sites/v/index.jsp?vgnextc...           <NA>   \n",
       "4    http://www.madrid.es/sites/v/index.jsp?vgnextc...          28029   \n",
       "..                                                 ...            ...   \n",
       "249  http://www.madrid.es/sites/v/index.jsp?vgnextc...          28037   \n",
       "250  http://www.madrid.es/sites/v/index.jsp?vgnextc...          28045   \n",
       "251  http://www.madrid.es/sites/v/index.jsp?vgnextc...          28029   \n",
       "252  http://www.madrid.es/sites/v/index.jsp?vgnextc...          28019   \n",
       "253  http://www.madrid.es/sites/v/index.jsp?vgnextc...          28043   \n",
       "\n",
       "                             direccion horario fecha_inicio   fecha_fin  \\\n",
       "0                    CALLE SAN JUSTO 5     NaN   2025-02-24  2025-03-02   \n",
       "1                     PASEO COLOMBIA 1     NaN   2025-02-27  2025-03-23   \n",
       "2                      PLAZA LEGAZPI 8     NaN   2024-10-01  2025-06-01   \n",
       "3                                  NaN     NaN   2024-10-14  2025-06-30   \n",
       "4         AVENIDA MONFORTE DE LEMOS 38   17:00   2025-01-14  2025-06-17   \n",
       "..                                 ...     ...          ...         ...   \n",
       "249  CALLE HERMANOS GARCIA NOBLEJAS 14   10:00   2024-12-04  2025-05-28   \n",
       "250                   PASEO CHOPERA 10   18:00   2025-02-18  2025-03-11   \n",
       "251       AVENIDA MONFORTE DE LEMOS 38   08:30   2025-02-04  2025-03-25   \n",
       "252              CALLE ISAAC ALBENIZ 1   19:00   2025-02-14  2025-03-13   \n",
       "253               CALLE MATAPOZUELOS 2   11:00   2025-01-03  2025-03-28   \n",
       "\n",
       "                                          organizacion  id_ciudad  \n",
       "0    Biblioteca Pública Municipal Iván de Vargas (C...          1  \n",
       "1               Centro Cultural Casa de Vacas (Retiro)          1  \n",
       "2                                      Matadero Madrid          1  \n",
       "3                                                  NaN          1  \n",
       "4    Biblioteca Pública Municipal José Saramago (Fu...          1  \n",
       "..                                                 ...        ...  \n",
       "249  Biblioteca Pública Municipal Ciudad Lineal (Ci...          1  \n",
       "250         Espacio de Igualdad Juana Doña. Arganzuela          1  \n",
       "251  Biblioteca Pública Municipal José Saramago (Fu...          1  \n",
       "252  Biblioteca Pública Municipal Ana María Matute ...          1  \n",
       "253        Espacio de Igualdad Carme Chacón. Hortaleza          1  \n",
       "\n",
       "[254 rows x 9 columns]"
      ]
     },
     "execution_count": 36,
     "metadata": {},
     "output_type": "execute_result"
    }
   ],
   "source": [
    "tabla_eventos = tabla_eventos[['nombre_evento', 'url_evento','codigo_postal', 'direccion', 'horario', 'fecha_inicio', 'fecha_fin', 'organizacion', 'id_ciudad']]\n",
    "tabla_eventos"
   ]
  },
  {
   "cell_type": "code",
   "execution_count": 37,
   "metadata": {},
   "outputs": [
    {
     "name": "stderr",
     "output_type": "stream",
     "text": [
      "/var/folders/_s/kc_rj_092690fgthyqft8hk40000gn/T/ipykernel_1127/3653157532.py:1: SettingWithCopyWarning: \n",
      "A value is trying to be set on a copy of a slice from a DataFrame.\n",
      "Try using .loc[row_indexer,col_indexer] = value instead\n",
      "\n",
      "See the caveats in the documentation: https://pandas.pydata.org/pandas-docs/stable/user_guide/indexing.html#returning-a-view-versus-a-copy\n",
      "  tabla_eventos[\"codigo_postal\"] = tabla_eventos[\"codigo_postal\"].astype(\"Int64\").astype(object).where(pd.notna(tabla_eventos[\"codigo_postal\"]), None)\n"
     ]
    }
   ],
   "source": [
    "tabla_eventos[\"codigo_postal\"] = tabla_eventos[\"codigo_postal\"].astype(\"Int64\").astype(object).where(pd.notna(tabla_eventos[\"codigo_postal\"]), None)\n"
   ]
  },
  {
   "cell_type": "code",
   "execution_count": 38,
   "metadata": {},
   "outputs": [],
   "source": [
    "tabla_eventos = tabla_eventos.where(pd.notna(tabla_eventos), None)"
   ]
  },
  {
   "cell_type": "code",
   "execution_count": 39,
   "metadata": {},
   "outputs": [
    {
     "name": "stdout",
     "output_type": "stream",
     "text": [
      "nombre_evento    object\n",
      "url_evento       object\n",
      "codigo_postal    object\n",
      "direccion        object\n",
      "horario          object\n",
      "fecha_inicio     object\n",
      "fecha_fin        object\n",
      "organizacion     object\n",
      "id_ciudad         int64\n",
      "dtype: object\n",
      "nombre_evento     0\n",
      "url_evento        0\n",
      "codigo_postal    30\n",
      "direccion        30\n",
      "horario          89\n",
      "fecha_inicio      0\n",
      "fecha_fin         0\n",
      "organizacion     28\n",
      "id_ciudad         0\n",
      "dtype: int64\n",
      "                                         nombre_evento  \\\n",
      "0              25º aniversario de la revista La Fragua   \n",
      "1         60 Premio Reina Sofía de Pintura y Escultura   \n",
      "2                                          A toda vela   \n",
      "3            Acompañamiento digital a personas mayores   \n",
      "6    Actividades mensuales de los centros de mayore...   \n",
      "..                                                 ...   \n",
      "243                     Visitas a Matadero para grupos   \n",
      "244  Visitas dialogadas. Fuentesal Arenillas e Itzi...   \n",
      "245                     Visitas guiadas a CentroCentro   \n",
      "246  Visitas guiadas a las exposiciones de CentroCe...   \n",
      "247              Visitas guiadas con música en directo   \n",
      "\n",
      "                                            url_evento codigo_postal  \\\n",
      "0    http://www.madrid.es/sites/v/index.jsp?vgnextc...         28005   \n",
      "1    http://www.madrid.es/sites/v/index.jsp?vgnextc...         28009   \n",
      "2    http://www.madrid.es/sites/v/index.jsp?vgnextc...         28045   \n",
      "3    http://www.madrid.es/sites/v/index.jsp?vgnextc...          None   \n",
      "6    http://www.madrid.es/sites/v/index.jsp?vgnextc...          None   \n",
      "..                                                 ...           ...   \n",
      "243  http://www.madrid.es/sites/v/index.jsp?vgnextc...         28045   \n",
      "244  http://www.madrid.es/sites/v/index.jsp?vgnextc...         28015   \n",
      "245  http://www.madrid.es/sites/v/index.jsp?vgnextc...         28014   \n",
      "246  http://www.madrid.es/sites/v/index.jsp?vgnextc...         28014   \n",
      "247  http://www.madrid.es/sites/v/index.jsp?vgnextc...         28014   \n",
      "\n",
      "               direccion horario fecha_inicio   fecha_fin  \\\n",
      "0      CALLE SAN JUSTO 5    None   2025-02-24  2025-03-02   \n",
      "1       PASEO COLOMBIA 1    None   2025-02-27  2025-03-23   \n",
      "2        PLAZA LEGAZPI 8    None   2024-10-01  2025-06-01   \n",
      "3                   None    None   2024-10-14  2025-06-30   \n",
      "6                   None    None   2024-02-01  2025-07-13   \n",
      "..                   ...     ...          ...         ...   \n",
      "243      PLAZA LEGAZPI 8    None   2023-02-02  2027-02-04   \n",
      "244  CALLE CONDE DUQUE 9    None   2025-02-28  2025-05-18   \n",
      "245      PLAZA CIBELES 1    None   2024-04-01  2030-01-01   \n",
      "246      PLAZA CIBELES 1    None   2025-02-11  2025-06-01   \n",
      "247     CALLE ALAMEDA 15    None   2025-02-08  2025-03-09   \n",
      "\n",
      "                                          organizacion  id_ciudad  \n",
      "0    Biblioteca Pública Municipal Iván de Vargas (C...          1  \n",
      "1               Centro Cultural Casa de Vacas (Retiro)          1  \n",
      "2                                      Matadero Madrid          1  \n",
      "3                                                 None          1  \n",
      "6                                                 None          1  \n",
      "..                                                 ...        ...  \n",
      "243                                    Matadero Madrid          1  \n",
      "244        Centro de Cultura Contemporánea Conde Duque          1  \n",
      "245                                       CentroCentro          1  \n",
      "246                                       CentroCentro          1  \n",
      "247                    Espacio Cultural Serrería Belga          1  \n",
      "\n",
      "[109 rows x 9 columns]\n"
     ]
    }
   ],
   "source": [
    "# Ver los tipos de datos en cada columna\n",
    "print(tabla_eventos.dtypes)\n",
    "\n",
    "# Verificar si hay valores <NA> en alguna columna\n",
    "print(tabla_eventos.isna().sum())\n",
    "\n",
    "# Ver algunas filas con valores nulos\n",
    "print(tabla_eventos[tabla_eventos.isna().any(axis=1)])"
   ]
  },
  {
   "cell_type": "code",
   "execution_count": 40,
   "metadata": {},
   "outputs": [],
   "source": [
    "insert_query = \"\"\"\n",
    "        INSERT INTO eventos (nombre_evento, url_evento, codigo_postal, direccion, horario, fecha_inicio, fecha_fin, organizacion, id_ciudad)\n",
    "        VALUES (%s, %s, %s, %s, %s, %s, %s, %s, %s)\n",
    "\"\"\""
   ]
  },
  {
   "cell_type": "code",
   "execution_count": 41,
   "metadata": {},
   "outputs": [],
   "source": [
    "data_to_insert = [\n",
    "    (\n",
    "        row[\"nombre_evento\"], \n",
    "        row[\"url_evento\"], \n",
    "        row[\"codigo_postal\"], \n",
    "        row[\"direccion\"], \n",
    "        row[\"horario\"], \n",
    "        row[\"fecha_inicio\"], \n",
    "        row[\"fecha_fin\"], \n",
    "        row[\"organizacion\"],\n",
    "        row[\"id_ciudad\"]\n",
    "    )\n",
    "    for _, row in tabla_eventos.iterrows()\n",
    "]"
   ]
  },
  {
   "cell_type": "code",
   "execution_count": 42,
   "metadata": {},
   "outputs": [],
   "source": [
    "cur.executemany(insert_query, data_to_insert)\n",
    "conn.commit()"
   ]
  },
  {
   "cell_type": "code",
   "execution_count": null,
   "metadata": {},
   "outputs": [],
   "source": [
    "conn.rollback()"
   ]
  },
  {
   "cell_type": "markdown",
   "metadata": {},
   "source": [
    "### HOTELES"
   ]
  },
  {
   "cell_type": "markdown",
   "metadata": {},
   "source": [
    "CREATE TABLE hoteles (\n",
    "    id_hotel SERIAL PRIMARY KEY, -- Puede ser VARCHAR(5)\n",
    "    nombre_hotel TEXT,\n",
    "    competencia BOOL,\n",
    "    valoracion FLOAT CHECK (valoracion BETWEEN 1 AND 5),\n",
    "    id_ciudad INT REFERENCES ciudad(id_ciudad) ON DELETE CASCADE\n",
    ");"
   ]
  },
  {
   "cell_type": "code",
   "execution_count": 43,
   "metadata": {},
   "outputs": [
    {
     "data": {
      "application/vnd.microsoft.datawrangler.viewer.v0+json": {
       "columns": [
        {
         "name": "index",
         "rawType": "int64",
         "type": "integer"
        },
        {
         "name": "id_reserva",
         "rawType": "int64",
         "type": "integer"
        },
        {
         "name": "id_cliente",
         "rawType": "int64",
         "type": "integer"
        },
        {
         "name": "nombre",
         "rawType": "object",
         "type": "string"
        },
        {
         "name": "apellido",
         "rawType": "object",
         "type": "string"
        },
        {
         "name": "mail",
         "rawType": "object",
         "type": "string"
        },
        {
         "name": "competencia",
         "rawType": "bool",
         "type": "boolean"
        },
        {
         "name": "inicio_estancia",
         "rawType": "object",
         "type": "string"
        },
        {
         "name": "final_estancia",
         "rawType": "object",
         "type": "string"
        },
        {
         "name": "id_hotel",
         "rawType": "int64",
         "type": "integer"
        },
        {
         "name": "ciudad",
         "rawType": "object",
         "type": "string"
        },
        {
         "name": "id",
         "rawType": "int64",
         "type": "integer"
        },
        {
         "name": "nombre_hotel",
         "rawType": "object",
         "type": "string"
        },
        {
         "name": "valoracion",
         "rawType": "float64",
         "type": "float"
        },
        {
         "name": "precio_noche",
         "rawType": "float64",
         "type": "float"
        },
        {
         "name": "fecha_reserva",
         "rawType": "object",
         "type": "string"
        },
        {
         "name": "id_ciudad",
         "rawType": "int64",
         "type": "integer"
        }
       ],
       "conversionMethod": "pd.DataFrame",
       "ref": "503b767b-ea2d-45a4-b576-94a3d06b08df",
       "rows": [
        [
         "0",
         "1",
         "3043",
         "Feliciana",
         "Cantón",
         "feliciana.cantón@example.com",
         "True",
         "2025-03-01",
         "2025-03-02",
         "27",
         "Madrid",
         "1",
         "ibis budget Madrid Centro Lavapies",
         "4.3",
         "106.0",
         "2025-02-19",
         "1"
        ],
        [
         "1",
         "2",
         "3043",
         "Leonardo",
         "Hierro",
         "leonardo.hierro@example.com",
         "True",
         "2025-03-01",
         "2025-03-02",
         "23",
         "Madrid",
         "2",
         "ibis Styles Madrid Centro Maravillas",
         "4.7",
         "114.0",
         "2025-02-19",
         "1"
        ],
        [
         "2",
         "3",
         "3946",
         "Judith",
         "Rivas",
         "judith.rivas@example.com",
         "True",
         "2025-03-01",
         "2025-03-02",
         "25",
         "Madrid",
         "8",
         "ibis budget Madrid Calle 30",
         "4.4",
         "79.0",
         "2025-02-19",
         "1"
        ],
        [
         "3",
         "4",
         "13108",
         "Adolfo",
         "Cuervo",
         "adolfo.cuervo@example.com",
         "True",
         "2025-03-01",
         "2025-03-02",
         "21",
         "Madrid",
         "10",
         "ibis Madrid Centro las Ventas",
         "4.5",
         "90.0",
         "2025-02-19",
         "1"
        ],
        [
         "4",
         "5",
         "2393",
         "María Carmen",
         "Navarro",
         "maría carmen.navarro@example.com",
         "True",
         "2025-03-01",
         "2025-03-02",
         "28",
         "Madrid",
         "12",
         "ibis budget Madrid Centro las Ventas",
         "4.3",
         "75.0",
         "2025-02-19",
         "1"
        ]
       ],
       "shape": {
        "columns": 16,
        "rows": 5
       }
      },
      "text/html": [
       "<div>\n",
       "<style scoped>\n",
       "    .dataframe tbody tr th:only-of-type {\n",
       "        vertical-align: middle;\n",
       "    }\n",
       "\n",
       "    .dataframe tbody tr th {\n",
       "        vertical-align: top;\n",
       "    }\n",
       "\n",
       "    .dataframe thead th {\n",
       "        text-align: right;\n",
       "    }\n",
       "</style>\n",
       "<table border=\"1\" class=\"dataframe\">\n",
       "  <thead>\n",
       "    <tr style=\"text-align: right;\">\n",
       "      <th></th>\n",
       "      <th>id_reserva</th>\n",
       "      <th>id_cliente</th>\n",
       "      <th>nombre</th>\n",
       "      <th>apellido</th>\n",
       "      <th>mail</th>\n",
       "      <th>competencia</th>\n",
       "      <th>inicio_estancia</th>\n",
       "      <th>final_estancia</th>\n",
       "      <th>id_hotel</th>\n",
       "      <th>ciudad</th>\n",
       "      <th>id</th>\n",
       "      <th>nombre_hotel</th>\n",
       "      <th>valoracion</th>\n",
       "      <th>precio_noche</th>\n",
       "      <th>fecha_reserva</th>\n",
       "      <th>id_ciudad</th>\n",
       "    </tr>\n",
       "  </thead>\n",
       "  <tbody>\n",
       "    <tr>\n",
       "      <th>0</th>\n",
       "      <td>1</td>\n",
       "      <td>3043</td>\n",
       "      <td>Feliciana</td>\n",
       "      <td>Cantón</td>\n",
       "      <td>feliciana.cantón@example.com</td>\n",
       "      <td>True</td>\n",
       "      <td>2025-03-01</td>\n",
       "      <td>2025-03-02</td>\n",
       "      <td>27</td>\n",
       "      <td>Madrid</td>\n",
       "      <td>1</td>\n",
       "      <td>ibis budget Madrid Centro Lavapies</td>\n",
       "      <td>4.3</td>\n",
       "      <td>106.0</td>\n",
       "      <td>2025-02-19</td>\n",
       "      <td>1</td>\n",
       "    </tr>\n",
       "    <tr>\n",
       "      <th>1</th>\n",
       "      <td>2</td>\n",
       "      <td>3043</td>\n",
       "      <td>Leonardo</td>\n",
       "      <td>Hierro</td>\n",
       "      <td>leonardo.hierro@example.com</td>\n",
       "      <td>True</td>\n",
       "      <td>2025-03-01</td>\n",
       "      <td>2025-03-02</td>\n",
       "      <td>23</td>\n",
       "      <td>Madrid</td>\n",
       "      <td>2</td>\n",
       "      <td>ibis Styles Madrid Centro Maravillas</td>\n",
       "      <td>4.7</td>\n",
       "      <td>114.0</td>\n",
       "      <td>2025-02-19</td>\n",
       "      <td>1</td>\n",
       "    </tr>\n",
       "    <tr>\n",
       "      <th>2</th>\n",
       "      <td>3</td>\n",
       "      <td>3946</td>\n",
       "      <td>Judith</td>\n",
       "      <td>Rivas</td>\n",
       "      <td>judith.rivas@example.com</td>\n",
       "      <td>True</td>\n",
       "      <td>2025-03-01</td>\n",
       "      <td>2025-03-02</td>\n",
       "      <td>25</td>\n",
       "      <td>Madrid</td>\n",
       "      <td>8</td>\n",
       "      <td>ibis budget Madrid Calle 30</td>\n",
       "      <td>4.4</td>\n",
       "      <td>79.0</td>\n",
       "      <td>2025-02-19</td>\n",
       "      <td>1</td>\n",
       "    </tr>\n",
       "    <tr>\n",
       "      <th>3</th>\n",
       "      <td>4</td>\n",
       "      <td>13108</td>\n",
       "      <td>Adolfo</td>\n",
       "      <td>Cuervo</td>\n",
       "      <td>adolfo.cuervo@example.com</td>\n",
       "      <td>True</td>\n",
       "      <td>2025-03-01</td>\n",
       "      <td>2025-03-02</td>\n",
       "      <td>21</td>\n",
       "      <td>Madrid</td>\n",
       "      <td>10</td>\n",
       "      <td>ibis Madrid Centro las Ventas</td>\n",
       "      <td>4.5</td>\n",
       "      <td>90.0</td>\n",
       "      <td>2025-02-19</td>\n",
       "      <td>1</td>\n",
       "    </tr>\n",
       "    <tr>\n",
       "      <th>4</th>\n",
       "      <td>5</td>\n",
       "      <td>2393</td>\n",
       "      <td>María Carmen</td>\n",
       "      <td>Navarro</td>\n",
       "      <td>maría carmen.navarro@example.com</td>\n",
       "      <td>True</td>\n",
       "      <td>2025-03-01</td>\n",
       "      <td>2025-03-02</td>\n",
       "      <td>28</td>\n",
       "      <td>Madrid</td>\n",
       "      <td>12</td>\n",
       "      <td>ibis budget Madrid Centro las Ventas</td>\n",
       "      <td>4.3</td>\n",
       "      <td>75.0</td>\n",
       "      <td>2025-02-19</td>\n",
       "      <td>1</td>\n",
       "    </tr>\n",
       "  </tbody>\n",
       "</table>\n",
       "</div>"
      ],
      "text/plain": [
       "   id_reserva  id_cliente        nombre apellido  \\\n",
       "0           1        3043     Feliciana   Cantón   \n",
       "1           2        3043      Leonardo   Hierro   \n",
       "2           3        3946        Judith    Rivas   \n",
       "3           4       13108        Adolfo   Cuervo   \n",
       "4           5        2393  María Carmen  Navarro   \n",
       "\n",
       "                               mail  competencia inicio_estancia  \\\n",
       "0      feliciana.cantón@example.com         True      2025-03-01   \n",
       "1       leonardo.hierro@example.com         True      2025-03-01   \n",
       "2          judith.rivas@example.com         True      2025-03-01   \n",
       "3         adolfo.cuervo@example.com         True      2025-03-01   \n",
       "4  maría carmen.navarro@example.com         True      2025-03-01   \n",
       "\n",
       "  final_estancia  id_hotel  ciudad  id                          nombre_hotel  \\\n",
       "0     2025-03-02        27  Madrid   1    ibis budget Madrid Centro Lavapies   \n",
       "1     2025-03-02        23  Madrid   2  ibis Styles Madrid Centro Maravillas   \n",
       "2     2025-03-02        25  Madrid   8           ibis budget Madrid Calle 30   \n",
       "3     2025-03-02        21  Madrid  10         ibis Madrid Centro las Ventas   \n",
       "4     2025-03-02        28  Madrid  12  ibis budget Madrid Centro las Ventas   \n",
       "\n",
       "   valoracion  precio_noche fecha_reserva  id_ciudad  \n",
       "0         4.3         106.0    2025-02-19          1  \n",
       "1         4.7         114.0    2025-02-19          1  \n",
       "2         4.4          79.0    2025-02-19          1  \n",
       "3         4.5          90.0    2025-02-19          1  \n",
       "4         4.3          75.0    2025-02-19          1  "
      ]
     },
     "execution_count": 43,
     "metadata": {},
     "output_type": "execute_result"
    }
   ],
   "source": [
    "df.head()"
   ]
  },
  {
   "cell_type": "code",
   "execution_count": 44,
   "metadata": {},
   "outputs": [
    {
     "name": "stdout",
     "output_type": "stream",
     "text": [
      "<class 'pandas.core.frame.DataFrame'>\n",
      "RangeIndex: 15098 entries, 0 to 15097\n",
      "Data columns (total 16 columns):\n",
      " #   Column           Non-Null Count  Dtype  \n",
      "---  ------           --------------  -----  \n",
      " 0   id_reserva       15098 non-null  int64  \n",
      " 1   id_cliente       15098 non-null  int64  \n",
      " 2   nombre           15098 non-null  object \n",
      " 3   apellido         15098 non-null  object \n",
      " 4   mail             15098 non-null  object \n",
      " 5   competencia      15098 non-null  bool   \n",
      " 6   inicio_estancia  15098 non-null  object \n",
      " 7   final_estancia   15098 non-null  object \n",
      " 8   id_hotel         15098 non-null  int64  \n",
      " 9   ciudad           15098 non-null  object \n",
      " 10  id               15098 non-null  int64  \n",
      " 11  nombre_hotel     15098 non-null  object \n",
      " 12  valoracion       15098 non-null  float64\n",
      " 13  precio_noche     15098 non-null  float64\n",
      " 14  fecha_reserva    15098 non-null  object \n",
      " 15  id_ciudad        15098 non-null  int64  \n",
      "dtypes: bool(1), float64(2), int64(5), object(8)\n",
      "memory usage: 1.7+ MB\n"
     ]
    }
   ],
   "source": [
    "df.info()"
   ]
  },
  {
   "cell_type": "code",
   "execution_count": null,
   "metadata": {},
   "outputs": [],
   "source": [
    "CREATE TABLE hoteles (\n",
    "    id_hotel SERIAL PRIMARY KEY, -- Puede ser VARCHAR(5)\n",
    "    nombre_hotel TEXT,\n",
    "    competencia BOOL,\n",
    "    valoracion FLOAT CHECK (valoracion BETWEEN 1 AND 5),\n",
    "    id_ciudad INT REFERENCES ciudad(id_ciudad) ON DELETE CASCADE\n",
    ");"
   ]
  },
  {
   "cell_type": "code",
   "execution_count": 47,
   "metadata": {},
   "outputs": [
    {
     "data": {
      "application/vnd.microsoft.datawrangler.viewer.v0+json": {
       "columns": [
        {
         "name": "index",
         "rawType": "int64",
         "type": "integer"
        },
        {
         "name": "id_hotel",
         "rawType": "int64",
         "type": "integer"
        },
        {
         "name": "nombre_hotel",
         "rawType": "object",
         "type": "string"
        },
        {
         "name": "competencia",
         "rawType": "bool",
         "type": "boolean"
        },
        {
         "name": "valoracion",
         "rawType": "float64",
         "type": "float"
        },
        {
         "name": "id_ciudad",
         "rawType": "int64",
         "type": "integer"
        }
       ],
       "conversionMethod": "pd.DataFrame",
       "ref": "876f0827-0c91-470a-8f92-58b9f1bff260",
       "rows": [
        [
         "0",
         "27",
         "ibis budget Madrid Centro Lavapies",
         "True",
         "4.3",
         "1"
        ],
        [
         "1",
         "23",
         "ibis Styles Madrid Centro Maravillas",
         "True",
         "4.7",
         "1"
        ],
        [
         "2",
         "25",
         "ibis budget Madrid Calle 30",
         "True",
         "4.4",
         "1"
        ],
        [
         "3",
         "21",
         "ibis Madrid Centro las Ventas",
         "True",
         "4.5",
         "1"
        ],
        [
         "4",
         "28",
         "ibis budget Madrid Centro las Ventas",
         "True",
         "4.3",
         "1"
        ],
        [
         "5",
         "24",
         "ibis Styles Madrid City Las Ventas",
         "True",
         "4.6",
         "1"
        ],
        [
         "6",
         "21",
         "ibis Madrid Centro las Ventas",
         "True",
         "4.5",
         "1"
        ],
        [
         "7",
         "26",
         "ibis budget Madrid Calle Alcalá",
         "True",
         "4.3",
         "1"
        ],
        [
         "8",
         "20",
         "ibis Madrid Calle Alcalá",
         "True",
         "4.5",
         "1"
        ],
        [
         "9",
         "25",
         "ibis budget Madrid Calle 30",
         "True",
         "4.4",
         "1"
        ],
        [
         "10",
         "28",
         "ibis budget Madrid Centro las Ventas",
         "True",
         "4.3",
         "1"
        ],
        [
         "11",
         "26",
         "ibis budget Madrid Calle Alcalá",
         "True",
         "4.3",
         "1"
        ],
        [
         "12",
         "29",
         "ibis budget Madrid Vallecas",
         "True",
         "4.3",
         "1"
        ],
        [
         "13",
         "27",
         "ibis budget Madrid Centro Lavapies",
         "True",
         "4.3",
         "1"
        ],
        [
         "14",
         "27",
         "ibis budget Madrid Centro Lavapies",
         "True",
         "4.3",
         "1"
        ],
        [
         "15",
         "25",
         "ibis budget Madrid Calle 30",
         "True",
         "4.4",
         "1"
        ],
        [
         "16",
         "20",
         "ibis Madrid Calle Alcalá",
         "True",
         "4.5",
         "1"
        ],
        [
         "17",
         "26",
         "ibis budget Madrid Calle Alcalá",
         "True",
         "4.3",
         "1"
        ],
        [
         "18",
         "28",
         "ibis budget Madrid Centro las Ventas",
         "True",
         "4.3",
         "1"
        ],
        [
         "19",
         "25",
         "ibis budget Madrid Calle 30",
         "True",
         "4.4",
         "1"
        ],
        [
         "20",
         "20",
         "ibis Madrid Calle Alcalá",
         "True",
         "4.5",
         "1"
        ],
        [
         "21",
         "26",
         "ibis budget Madrid Calle Alcalá",
         "True",
         "4.3",
         "1"
        ],
        [
         "22",
         "22",
         "ibis Madrid Getafe",
         "True",
         "4.4",
         "1"
        ],
        [
         "23",
         "20",
         "ibis Madrid Calle Alcalá",
         "True",
         "4.5",
         "1"
        ],
        [
         "24",
         "26",
         "ibis budget Madrid Calle Alcalá",
         "True",
         "4.3",
         "1"
        ],
        [
         "25",
         "29",
         "ibis budget Madrid Vallecas",
         "True",
         "4.3",
         "1"
        ],
        [
         "26",
         "26",
         "ibis budget Madrid Calle Alcalá",
         "True",
         "4.3",
         "1"
        ],
        [
         "27",
         "26",
         "ibis budget Madrid Calle Alcalá",
         "True",
         "4.3",
         "1"
        ],
        [
         "28",
         "29",
         "ibis budget Madrid Vallecas",
         "True",
         "4.3",
         "1"
        ],
        [
         "29",
         "27",
         "ibis budget Madrid Centro Lavapies",
         "True",
         "4.3",
         "1"
        ],
        [
         "30",
         "26",
         "ibis budget Madrid Calle Alcalá",
         "True",
         "4.3",
         "1"
        ],
        [
         "31",
         "27",
         "ibis budget Madrid Centro Lavapies",
         "True",
         "4.3",
         "1"
        ],
        [
         "32",
         "25",
         "ibis budget Madrid Calle 30",
         "True",
         "4.4",
         "1"
        ],
        [
         "33",
         "21",
         "ibis Madrid Centro las Ventas",
         "True",
         "4.5",
         "1"
        ],
        [
         "34",
         "28",
         "ibis budget Madrid Centro las Ventas",
         "True",
         "4.3",
         "1"
        ],
        [
         "35",
         "23",
         "ibis Styles Madrid Centro Maravillas",
         "True",
         "4.7",
         "1"
        ],
        [
         "36",
         "27",
         "ibis budget Madrid Centro Lavapies",
         "True",
         "4.3",
         "1"
        ],
        [
         "37",
         "20",
         "ibis Madrid Calle Alcalá",
         "True",
         "4.5",
         "1"
        ],
        [
         "38",
         "20",
         "ibis Madrid Calle Alcalá",
         "True",
         "4.5",
         "1"
        ],
        [
         "39",
         "20",
         "ibis Madrid Calle Alcalá",
         "True",
         "4.5",
         "1"
        ],
        [
         "40",
         "29",
         "ibis budget Madrid Vallecas",
         "True",
         "4.3",
         "1"
        ],
        [
         "41",
         "25",
         "ibis budget Madrid Calle 30",
         "True",
         "4.4",
         "1"
        ],
        [
         "42",
         "21",
         "ibis Madrid Centro las Ventas",
         "True",
         "4.5",
         "1"
        ],
        [
         "43",
         "23",
         "ibis Styles Madrid Centro Maravillas",
         "True",
         "4.7",
         "1"
        ],
        [
         "44",
         "27",
         "ibis budget Madrid Centro Lavapies",
         "True",
         "4.3",
         "1"
        ],
        [
         "45",
         "23",
         "ibis Styles Madrid Centro Maravillas",
         "True",
         "4.7",
         "1"
        ],
        [
         "46",
         "25",
         "ibis budget Madrid Calle 30",
         "True",
         "4.4",
         "1"
        ],
        [
         "47",
         "24",
         "ibis Styles Madrid City Las Ventas",
         "True",
         "4.6",
         "1"
        ],
        [
         "48",
         "20",
         "ibis Madrid Calle Alcalá",
         "True",
         "4.5",
         "1"
        ],
        [
         "49",
         "22",
         "ibis Madrid Getafe",
         "True",
         "4.4",
         "1"
        ]
       ],
       "shape": {
        "columns": 5,
        "rows": 15098
       }
      },
      "text/html": [
       "<div>\n",
       "<style scoped>\n",
       "    .dataframe tbody tr th:only-of-type {\n",
       "        vertical-align: middle;\n",
       "    }\n",
       "\n",
       "    .dataframe tbody tr th {\n",
       "        vertical-align: top;\n",
       "    }\n",
       "\n",
       "    .dataframe thead th {\n",
       "        text-align: right;\n",
       "    }\n",
       "</style>\n",
       "<table border=\"1\" class=\"dataframe\">\n",
       "  <thead>\n",
       "    <tr style=\"text-align: right;\">\n",
       "      <th></th>\n",
       "      <th>id_hotel</th>\n",
       "      <th>nombre_hotel</th>\n",
       "      <th>competencia</th>\n",
       "      <th>valoracion</th>\n",
       "      <th>id_ciudad</th>\n",
       "    </tr>\n",
       "  </thead>\n",
       "  <tbody>\n",
       "    <tr>\n",
       "      <th>0</th>\n",
       "      <td>27</td>\n",
       "      <td>ibis budget Madrid Centro Lavapies</td>\n",
       "      <td>True</td>\n",
       "      <td>4.3</td>\n",
       "      <td>1</td>\n",
       "    </tr>\n",
       "    <tr>\n",
       "      <th>1</th>\n",
       "      <td>23</td>\n",
       "      <td>ibis Styles Madrid Centro Maravillas</td>\n",
       "      <td>True</td>\n",
       "      <td>4.7</td>\n",
       "      <td>1</td>\n",
       "    </tr>\n",
       "    <tr>\n",
       "      <th>2</th>\n",
       "      <td>25</td>\n",
       "      <td>ibis budget Madrid Calle 30</td>\n",
       "      <td>True</td>\n",
       "      <td>4.4</td>\n",
       "      <td>1</td>\n",
       "    </tr>\n",
       "    <tr>\n",
       "      <th>3</th>\n",
       "      <td>21</td>\n",
       "      <td>ibis Madrid Centro las Ventas</td>\n",
       "      <td>True</td>\n",
       "      <td>4.5</td>\n",
       "      <td>1</td>\n",
       "    </tr>\n",
       "    <tr>\n",
       "      <th>4</th>\n",
       "      <td>28</td>\n",
       "      <td>ibis budget Madrid Centro las Ventas</td>\n",
       "      <td>True</td>\n",
       "      <td>4.3</td>\n",
       "      <td>1</td>\n",
       "    </tr>\n",
       "    <tr>\n",
       "      <th>...</th>\n",
       "      <td>...</td>\n",
       "      <td>...</td>\n",
       "      <td>...</td>\n",
       "      <td>...</td>\n",
       "      <td>...</td>\n",
       "    </tr>\n",
       "    <tr>\n",
       "      <th>15093</th>\n",
       "      <td>7</td>\n",
       "      <td>Hotel Las Estrellas</td>\n",
       "      <td>False</td>\n",
       "      <td>3.0</td>\n",
       "      <td>1</td>\n",
       "    </tr>\n",
       "    <tr>\n",
       "      <th>15094</th>\n",
       "      <td>1</td>\n",
       "      <td>Gran Hotel Madrid</td>\n",
       "      <td>False</td>\n",
       "      <td>4.0</td>\n",
       "      <td>1</td>\n",
       "    </tr>\n",
       "    <tr>\n",
       "      <th>15095</th>\n",
       "      <td>6</td>\n",
       "      <td>Hotel Jardines del Rey</td>\n",
       "      <td>False</td>\n",
       "      <td>2.0</td>\n",
       "      <td>1</td>\n",
       "    </tr>\n",
       "    <tr>\n",
       "      <th>15096</th>\n",
       "      <td>13</td>\n",
       "      <td>Hotel Palacio Imperial</td>\n",
       "      <td>False</td>\n",
       "      <td>1.0</td>\n",
       "      <td>1</td>\n",
       "    </tr>\n",
       "    <tr>\n",
       "      <th>15097</th>\n",
       "      <td>14</td>\n",
       "      <td>Hotel Puerta del Cielo</td>\n",
       "      <td>False</td>\n",
       "      <td>4.0</td>\n",
       "      <td>1</td>\n",
       "    </tr>\n",
       "  </tbody>\n",
       "</table>\n",
       "<p>15098 rows × 5 columns</p>\n",
       "</div>"
      ],
      "text/plain": [
       "       id_hotel                          nombre_hotel  competencia  \\\n",
       "0            27    ibis budget Madrid Centro Lavapies         True   \n",
       "1            23  ibis Styles Madrid Centro Maravillas         True   \n",
       "2            25           ibis budget Madrid Calle 30         True   \n",
       "3            21         ibis Madrid Centro las Ventas         True   \n",
       "4            28  ibis budget Madrid Centro las Ventas         True   \n",
       "...         ...                                   ...          ...   \n",
       "15093         7                   Hotel Las Estrellas        False   \n",
       "15094         1                     Gran Hotel Madrid        False   \n",
       "15095         6                Hotel Jardines del Rey        False   \n",
       "15096        13                Hotel Palacio Imperial        False   \n",
       "15097        14                Hotel Puerta del Cielo        False   \n",
       "\n",
       "       valoracion  id_ciudad  \n",
       "0             4.3          1  \n",
       "1             4.7          1  \n",
       "2             4.4          1  \n",
       "3             4.5          1  \n",
       "4             4.3          1  \n",
       "...           ...        ...  \n",
       "15093         3.0          1  \n",
       "15094         4.0          1  \n",
       "15095         2.0          1  \n",
       "15096         1.0          1  \n",
       "15097         4.0          1  \n",
       "\n",
       "[15098 rows x 5 columns]"
      ]
     },
     "execution_count": 47,
     "metadata": {},
     "output_type": "execute_result"
    }
   ],
   "source": [
    "tabla_hoteles = df[[\"id_hotel\",\"nombre_hotel\",\"competencia\",\"valoracion\",\"id_ciudad\"]]\n",
    "tabla_hoteles"
   ]
  },
  {
   "cell_type": "code",
   "execution_count": 48,
   "metadata": {},
   "outputs": [
    {
     "data": {
      "application/vnd.microsoft.datawrangler.viewer.v0+json": {
       "columns": [
        {
         "name": "index",
         "rawType": "int64",
         "type": "integer"
        },
        {
         "name": "id_hotel",
         "rawType": "int64",
         "type": "integer"
        },
        {
         "name": "nombre_hotel",
         "rawType": "object",
         "type": "string"
        },
        {
         "name": "competencia",
         "rawType": "bool",
         "type": "boolean"
        },
        {
         "name": "valoracion",
         "rawType": "float64",
         "type": "float"
        },
        {
         "name": "id_ciudad",
         "rawType": "int64",
         "type": "integer"
        }
       ],
       "conversionMethod": "pd.DataFrame",
       "ref": "96a726c1-b8bf-4c32-b0d7-6bb426581dd6",
       "rows": [
        [
         "0",
         "27",
         "ibis budget Madrid Centro Lavapies",
         "True",
         "4.3",
         "1"
        ],
        [
         "1",
         "23",
         "ibis Styles Madrid Centro Maravillas",
         "True",
         "4.7",
         "1"
        ],
        [
         "2",
         "25",
         "ibis budget Madrid Calle 30",
         "True",
         "4.4",
         "1"
        ],
        [
         "3",
         "21",
         "ibis Madrid Centro las Ventas",
         "True",
         "4.5",
         "1"
        ],
        [
         "4",
         "28",
         "ibis budget Madrid Centro las Ventas",
         "True",
         "4.3",
         "1"
        ],
        [
         "5",
         "24",
         "ibis Styles Madrid City Las Ventas",
         "True",
         "4.6",
         "1"
        ],
        [
         "7",
         "26",
         "ibis budget Madrid Calle Alcalá",
         "True",
         "4.3",
         "1"
        ],
        [
         "8",
         "20",
         "ibis Madrid Calle Alcalá",
         "True",
         "4.5",
         "1"
        ],
        [
         "12",
         "29",
         "ibis budget Madrid Vallecas",
         "True",
         "4.3",
         "1"
        ],
        [
         "22",
         "22",
         "ibis Madrid Getafe",
         "True",
         "4.4",
         "1"
        ],
        [
         "5172",
         "12",
         "Hotel Monte Verde",
         "False",
         "1.0",
         "1"
        ],
        [
         "5173",
         "2",
         "Hotel Brisas del Mar",
         "False",
         "5.0",
         "1"
        ],
        [
         "5174",
         "3",
         "Hotel Camino del Sol",
         "False",
         "1.0",
         "1"
        ],
        [
         "5175",
         "14",
         "Hotel Puerta del Cielo",
         "False",
         "5.0",
         "1"
        ],
        [
         "5176",
         "5",
         "Hotel Encanto Real",
         "False",
         "1.0",
         "1"
        ],
        [
         "5177",
         "19",
         "Palacio del Sol",
         "False",
         "4.0",
         "1"
        ],
        [
         "5178",
         "6",
         "Hotel Jardines del Rey",
         "False",
         "3.0",
         "1"
        ],
        [
         "5179",
         "7",
         "Hotel Las Estrellas",
         "False",
         "4.0",
         "1"
        ],
        [
         "5180",
         "1",
         "Gran Hotel Madrid",
         "False",
         "2.0",
         "1"
        ],
        [
         "5181",
         "17",
         "Hotel Torre Dorada",
         "False",
         "3.0",
         "1"
        ],
        [
         "5182",
         "13",
         "Hotel Palacio Imperial",
         "False",
         "2.0",
         "1"
        ],
        [
         "5184",
         "9",
         "Hotel Luz de Madrid",
         "False",
         "3.0",
         "1"
        ],
        [
         "5186",
         "8",
         "Hotel Los Almendros",
         "False",
         "5.0",
         "1"
        ],
        [
         "5188",
         "16",
         "Hotel Sol y Luna",
         "False",
         "1.0",
         "1"
        ],
        [
         "5190",
         "11",
         "Hotel Mirador Real",
         "False",
         "5.0",
         "1"
        ],
        [
         "5195",
         "15",
         "Hotel Rincón Sereno",
         "False",
         "1.0",
         "1"
        ],
        [
         "5196",
         "18",
         "Hotel Vista Alegre",
         "False",
         "4.0",
         "1"
        ],
        [
         "5199",
         "4",
         "Hotel Costa Azul",
         "False",
         "2.0",
         "1"
        ],
        [
         "5214",
         "10",
         "Hotel Maravilla Real",
         "False",
         "2.0",
         "1"
        ]
       ],
       "shape": {
        "columns": 5,
        "rows": 29
       }
      },
      "text/html": [
       "<div>\n",
       "<style scoped>\n",
       "    .dataframe tbody tr th:only-of-type {\n",
       "        vertical-align: middle;\n",
       "    }\n",
       "\n",
       "    .dataframe tbody tr th {\n",
       "        vertical-align: top;\n",
       "    }\n",
       "\n",
       "    .dataframe thead th {\n",
       "        text-align: right;\n",
       "    }\n",
       "</style>\n",
       "<table border=\"1\" class=\"dataframe\">\n",
       "  <thead>\n",
       "    <tr style=\"text-align: right;\">\n",
       "      <th></th>\n",
       "      <th>id_hotel</th>\n",
       "      <th>nombre_hotel</th>\n",
       "      <th>competencia</th>\n",
       "      <th>valoracion</th>\n",
       "      <th>id_ciudad</th>\n",
       "    </tr>\n",
       "  </thead>\n",
       "  <tbody>\n",
       "    <tr>\n",
       "      <th>0</th>\n",
       "      <td>27</td>\n",
       "      <td>ibis budget Madrid Centro Lavapies</td>\n",
       "      <td>True</td>\n",
       "      <td>4.3</td>\n",
       "      <td>1</td>\n",
       "    </tr>\n",
       "    <tr>\n",
       "      <th>1</th>\n",
       "      <td>23</td>\n",
       "      <td>ibis Styles Madrid Centro Maravillas</td>\n",
       "      <td>True</td>\n",
       "      <td>4.7</td>\n",
       "      <td>1</td>\n",
       "    </tr>\n",
       "    <tr>\n",
       "      <th>2</th>\n",
       "      <td>25</td>\n",
       "      <td>ibis budget Madrid Calle 30</td>\n",
       "      <td>True</td>\n",
       "      <td>4.4</td>\n",
       "      <td>1</td>\n",
       "    </tr>\n",
       "    <tr>\n",
       "      <th>3</th>\n",
       "      <td>21</td>\n",
       "      <td>ibis Madrid Centro las Ventas</td>\n",
       "      <td>True</td>\n",
       "      <td>4.5</td>\n",
       "      <td>1</td>\n",
       "    </tr>\n",
       "    <tr>\n",
       "      <th>4</th>\n",
       "      <td>28</td>\n",
       "      <td>ibis budget Madrid Centro las Ventas</td>\n",
       "      <td>True</td>\n",
       "      <td>4.3</td>\n",
       "      <td>1</td>\n",
       "    </tr>\n",
       "    <tr>\n",
       "      <th>5</th>\n",
       "      <td>24</td>\n",
       "      <td>ibis Styles Madrid City Las Ventas</td>\n",
       "      <td>True</td>\n",
       "      <td>4.6</td>\n",
       "      <td>1</td>\n",
       "    </tr>\n",
       "    <tr>\n",
       "      <th>7</th>\n",
       "      <td>26</td>\n",
       "      <td>ibis budget Madrid Calle Alcalá</td>\n",
       "      <td>True</td>\n",
       "      <td>4.3</td>\n",
       "      <td>1</td>\n",
       "    </tr>\n",
       "    <tr>\n",
       "      <th>8</th>\n",
       "      <td>20</td>\n",
       "      <td>ibis Madrid Calle Alcalá</td>\n",
       "      <td>True</td>\n",
       "      <td>4.5</td>\n",
       "      <td>1</td>\n",
       "    </tr>\n",
       "    <tr>\n",
       "      <th>12</th>\n",
       "      <td>29</td>\n",
       "      <td>ibis budget Madrid Vallecas</td>\n",
       "      <td>True</td>\n",
       "      <td>4.3</td>\n",
       "      <td>1</td>\n",
       "    </tr>\n",
       "    <tr>\n",
       "      <th>22</th>\n",
       "      <td>22</td>\n",
       "      <td>ibis Madrid Getafe</td>\n",
       "      <td>True</td>\n",
       "      <td>4.4</td>\n",
       "      <td>1</td>\n",
       "    </tr>\n",
       "    <tr>\n",
       "      <th>5172</th>\n",
       "      <td>12</td>\n",
       "      <td>Hotel Monte Verde</td>\n",
       "      <td>False</td>\n",
       "      <td>1.0</td>\n",
       "      <td>1</td>\n",
       "    </tr>\n",
       "    <tr>\n",
       "      <th>5173</th>\n",
       "      <td>2</td>\n",
       "      <td>Hotel Brisas del Mar</td>\n",
       "      <td>False</td>\n",
       "      <td>5.0</td>\n",
       "      <td>1</td>\n",
       "    </tr>\n",
       "    <tr>\n",
       "      <th>5174</th>\n",
       "      <td>3</td>\n",
       "      <td>Hotel Camino del Sol</td>\n",
       "      <td>False</td>\n",
       "      <td>1.0</td>\n",
       "      <td>1</td>\n",
       "    </tr>\n",
       "    <tr>\n",
       "      <th>5175</th>\n",
       "      <td>14</td>\n",
       "      <td>Hotel Puerta del Cielo</td>\n",
       "      <td>False</td>\n",
       "      <td>5.0</td>\n",
       "      <td>1</td>\n",
       "    </tr>\n",
       "    <tr>\n",
       "      <th>5176</th>\n",
       "      <td>5</td>\n",
       "      <td>Hotel Encanto Real</td>\n",
       "      <td>False</td>\n",
       "      <td>1.0</td>\n",
       "      <td>1</td>\n",
       "    </tr>\n",
       "    <tr>\n",
       "      <th>5177</th>\n",
       "      <td>19</td>\n",
       "      <td>Palacio del Sol</td>\n",
       "      <td>False</td>\n",
       "      <td>4.0</td>\n",
       "      <td>1</td>\n",
       "    </tr>\n",
       "    <tr>\n",
       "      <th>5178</th>\n",
       "      <td>6</td>\n",
       "      <td>Hotel Jardines del Rey</td>\n",
       "      <td>False</td>\n",
       "      <td>3.0</td>\n",
       "      <td>1</td>\n",
       "    </tr>\n",
       "    <tr>\n",
       "      <th>5179</th>\n",
       "      <td>7</td>\n",
       "      <td>Hotel Las Estrellas</td>\n",
       "      <td>False</td>\n",
       "      <td>4.0</td>\n",
       "      <td>1</td>\n",
       "    </tr>\n",
       "    <tr>\n",
       "      <th>5180</th>\n",
       "      <td>1</td>\n",
       "      <td>Gran Hotel Madrid</td>\n",
       "      <td>False</td>\n",
       "      <td>2.0</td>\n",
       "      <td>1</td>\n",
       "    </tr>\n",
       "    <tr>\n",
       "      <th>5181</th>\n",
       "      <td>17</td>\n",
       "      <td>Hotel Torre Dorada</td>\n",
       "      <td>False</td>\n",
       "      <td>3.0</td>\n",
       "      <td>1</td>\n",
       "    </tr>\n",
       "    <tr>\n",
       "      <th>5182</th>\n",
       "      <td>13</td>\n",
       "      <td>Hotel Palacio Imperial</td>\n",
       "      <td>False</td>\n",
       "      <td>2.0</td>\n",
       "      <td>1</td>\n",
       "    </tr>\n",
       "    <tr>\n",
       "      <th>5184</th>\n",
       "      <td>9</td>\n",
       "      <td>Hotel Luz de Madrid</td>\n",
       "      <td>False</td>\n",
       "      <td>3.0</td>\n",
       "      <td>1</td>\n",
       "    </tr>\n",
       "    <tr>\n",
       "      <th>5186</th>\n",
       "      <td>8</td>\n",
       "      <td>Hotel Los Almendros</td>\n",
       "      <td>False</td>\n",
       "      <td>5.0</td>\n",
       "      <td>1</td>\n",
       "    </tr>\n",
       "    <tr>\n",
       "      <th>5188</th>\n",
       "      <td>16</td>\n",
       "      <td>Hotel Sol y Luna</td>\n",
       "      <td>False</td>\n",
       "      <td>1.0</td>\n",
       "      <td>1</td>\n",
       "    </tr>\n",
       "    <tr>\n",
       "      <th>5190</th>\n",
       "      <td>11</td>\n",
       "      <td>Hotel Mirador Real</td>\n",
       "      <td>False</td>\n",
       "      <td>5.0</td>\n",
       "      <td>1</td>\n",
       "    </tr>\n",
       "    <tr>\n",
       "      <th>5195</th>\n",
       "      <td>15</td>\n",
       "      <td>Hotel Rincón Sereno</td>\n",
       "      <td>False</td>\n",
       "      <td>1.0</td>\n",
       "      <td>1</td>\n",
       "    </tr>\n",
       "    <tr>\n",
       "      <th>5196</th>\n",
       "      <td>18</td>\n",
       "      <td>Hotel Vista Alegre</td>\n",
       "      <td>False</td>\n",
       "      <td>4.0</td>\n",
       "      <td>1</td>\n",
       "    </tr>\n",
       "    <tr>\n",
       "      <th>5199</th>\n",
       "      <td>4</td>\n",
       "      <td>Hotel Costa Azul</td>\n",
       "      <td>False</td>\n",
       "      <td>2.0</td>\n",
       "      <td>1</td>\n",
       "    </tr>\n",
       "    <tr>\n",
       "      <th>5214</th>\n",
       "      <td>10</td>\n",
       "      <td>Hotel Maravilla Real</td>\n",
       "      <td>False</td>\n",
       "      <td>2.0</td>\n",
       "      <td>1</td>\n",
       "    </tr>\n",
       "  </tbody>\n",
       "</table>\n",
       "</div>"
      ],
      "text/plain": [
       "      id_hotel                          nombre_hotel  competencia  valoracion  \\\n",
       "0           27    ibis budget Madrid Centro Lavapies         True         4.3   \n",
       "1           23  ibis Styles Madrid Centro Maravillas         True         4.7   \n",
       "2           25           ibis budget Madrid Calle 30         True         4.4   \n",
       "3           21         ibis Madrid Centro las Ventas         True         4.5   \n",
       "4           28  ibis budget Madrid Centro las Ventas         True         4.3   \n",
       "5           24    ibis Styles Madrid City Las Ventas         True         4.6   \n",
       "7           26       ibis budget Madrid Calle Alcalá         True         4.3   \n",
       "8           20              ibis Madrid Calle Alcalá         True         4.5   \n",
       "12          29           ibis budget Madrid Vallecas         True         4.3   \n",
       "22          22                    ibis Madrid Getafe         True         4.4   \n",
       "5172        12                     Hotel Monte Verde        False         1.0   \n",
       "5173         2                  Hotel Brisas del Mar        False         5.0   \n",
       "5174         3                  Hotel Camino del Sol        False         1.0   \n",
       "5175        14                Hotel Puerta del Cielo        False         5.0   \n",
       "5176         5                    Hotel Encanto Real        False         1.0   \n",
       "5177        19                       Palacio del Sol        False         4.0   \n",
       "5178         6                Hotel Jardines del Rey        False         3.0   \n",
       "5179         7                   Hotel Las Estrellas        False         4.0   \n",
       "5180         1                     Gran Hotel Madrid        False         2.0   \n",
       "5181        17                    Hotel Torre Dorada        False         3.0   \n",
       "5182        13                Hotel Palacio Imperial        False         2.0   \n",
       "5184         9                   Hotel Luz de Madrid        False         3.0   \n",
       "5186         8                   Hotel Los Almendros        False         5.0   \n",
       "5188        16                      Hotel Sol y Luna        False         1.0   \n",
       "5190        11                    Hotel Mirador Real        False         5.0   \n",
       "5195        15                   Hotel Rincón Sereno        False         1.0   \n",
       "5196        18                    Hotel Vista Alegre        False         4.0   \n",
       "5199         4                      Hotel Costa Azul        False         2.0   \n",
       "5214        10                  Hotel Maravilla Real        False         2.0   \n",
       "\n",
       "      id_ciudad  \n",
       "0             1  \n",
       "1             1  \n",
       "2             1  \n",
       "3             1  \n",
       "4             1  \n",
       "5             1  \n",
       "7             1  \n",
       "8             1  \n",
       "12            1  \n",
       "22            1  \n",
       "5172          1  \n",
       "5173          1  \n",
       "5174          1  \n",
       "5175          1  \n",
       "5176          1  \n",
       "5177          1  \n",
       "5178          1  \n",
       "5179          1  \n",
       "5180          1  \n",
       "5181          1  \n",
       "5182          1  \n",
       "5184          1  \n",
       "5186          1  \n",
       "5188          1  \n",
       "5190          1  \n",
       "5195          1  \n",
       "5196          1  \n",
       "5199          1  \n",
       "5214          1  "
      ]
     },
     "execution_count": 48,
     "metadata": {},
     "output_type": "execute_result"
    }
   ],
   "source": [
    "#Eliminamos los hoteles que tienen un nombre_hotel duplicado:\n",
    "tabla_hoteles = tabla_hoteles.drop_duplicates(subset=[\"nombre_hotel\"], keep=\"first\")\n",
    "tabla_hoteles"
   ]
  },
  {
   "cell_type": "code",
   "execution_count": 49,
   "metadata": {},
   "outputs": [
    {
     "name": "stdout",
     "output_type": "stream",
     "text": [
      "<class 'pandas.core.frame.DataFrame'>\n",
      "Index: 29 entries, 0 to 5214\n",
      "Data columns (total 5 columns):\n",
      " #   Column        Non-Null Count  Dtype  \n",
      "---  ------        --------------  -----  \n",
      " 0   id_hotel      29 non-null     int64  \n",
      " 1   nombre_hotel  29 non-null     object \n",
      " 2   competencia   29 non-null     bool   \n",
      " 3   valoracion    29 non-null     float64\n",
      " 4   id_ciudad     29 non-null     int64  \n",
      "dtypes: bool(1), float64(1), int64(2), object(1)\n",
      "memory usage: 1.2+ KB\n"
     ]
    }
   ],
   "source": [
    "tabla_hoteles.info()"
   ]
  },
  {
   "cell_type": "code",
   "execution_count": 50,
   "metadata": {},
   "outputs": [],
   "source": [
    "data_to_insert = [\n",
    "    (\n",
    "        row[\"id_hotel\"], \n",
    "        row[\"nombre_hotel\"], \n",
    "        row[\"competencia\"], \n",
    "        row[\"valoracion\"],\n",
    "        row[\"id_ciudad\"]\n",
    "    )\n",
    "    for _, row in tabla_hoteles.iterrows()\n",
    "]"
   ]
  },
  {
   "cell_type": "code",
   "execution_count": 51,
   "metadata": {},
   "outputs": [],
   "source": [
    "insert_query = \"\"\"\n",
    "        INSERT INTO hoteles (id_hotel, nombre_hotel, competencia, valoracion, id_ciudad)\n",
    "        VALUES (%s, %s, %s, %s, %s)\n",
    "\"\"\""
   ]
  },
  {
   "cell_type": "code",
   "execution_count": 52,
   "metadata": {},
   "outputs": [],
   "source": [
    "cur.executemany(insert_query, data_to_insert)\n",
    "conn.commit()"
   ]
  },
  {
   "cell_type": "code",
   "execution_count": null,
   "metadata": {},
   "outputs": [],
   "source": [
    "\n",
    "conn.rollback()"
   ]
  },
  {
   "cell_type": "markdown",
   "metadata": {},
   "source": [
    "### CLIENTES"
   ]
  },
  {
   "cell_type": "code",
   "execution_count": null,
   "metadata": {},
   "outputs": [],
   "source": [
    "CREATE TABLE clientes (\n",
    "    id_cliente VARCHAR(50) PRIMARY KEY,\n",
    "    nombre TEXT,\n",
    "    apellido TEXT,\n",
    "    mail TEXT UNIQUE CHECK (mail LIKE '%@%')\n",
    ");"
   ]
  },
  {
   "cell_type": "code",
   "execution_count": 15,
   "metadata": {},
   "outputs": [
    {
     "data": {
      "application/vnd.microsoft.datawrangler.viewer.v0+json": {
       "columns": [
        {
         "name": "index",
         "rawType": "int64",
         "type": "integer"
        },
        {
         "name": "id_reserva",
         "rawType": "int64",
         "type": "integer"
        },
        {
         "name": "id_cliente",
         "rawType": "int64",
         "type": "integer"
        },
        {
         "name": "nombre",
         "rawType": "object",
         "type": "string"
        },
        {
         "name": "apellido",
         "rawType": "object",
         "type": "string"
        },
        {
         "name": "mail",
         "rawType": "object",
         "type": "string"
        },
        {
         "name": "competencia",
         "rawType": "bool",
         "type": "boolean"
        },
        {
         "name": "inicio_estancia",
         "rawType": "object",
         "type": "string"
        },
        {
         "name": "final_estancia",
         "rawType": "object",
         "type": "string"
        },
        {
         "name": "id_hotel",
         "rawType": "int64",
         "type": "integer"
        },
        {
         "name": "ciudad",
         "rawType": "object",
         "type": "string"
        },
        {
         "name": "id",
         "rawType": "int64",
         "type": "integer"
        },
        {
         "name": "nombre_hotel",
         "rawType": "object",
         "type": "string"
        },
        {
         "name": "valoracion",
         "rawType": "float64",
         "type": "float"
        },
        {
         "name": "precio_noche",
         "rawType": "float64",
         "type": "float"
        },
        {
         "name": "fecha_reserva",
         "rawType": "object",
         "type": "string"
        },
        {
         "name": "id_ciudad",
         "rawType": "int64",
         "type": "integer"
        }
       ],
       "conversionMethod": "pd.DataFrame",
       "ref": "20060c31-4270-4675-8ab6-bc063d15ed6d",
       "rows": [
        [
         "0",
         "1",
         "5311",
         "Feliciana",
         "Cantón",
         "feliciana.cantón@example.com",
         "True",
         "2025-03-01",
         "2025-03-02",
         "27",
         "Madrid",
         "1",
         "ibis budget Madrid Centro Lavapies",
         "4.3",
         "106.0",
         "2025-02-19",
         "1"
        ],
        [
         "1",
         "2",
         "8310",
         "Leonardo",
         "Hierro",
         "leonardo.hierro@example.com",
         "True",
         "2025-03-01",
         "2025-03-02",
         "23",
         "Madrid",
         "2",
         "ibis Styles Madrid Centro Maravillas",
         "4.7",
         "114.0",
         "2025-02-19",
         "1"
        ],
        [
         "2",
         "3",
         "8047",
         "Judith",
         "Rivas",
         "judith.rivas@example.com",
         "True",
         "2025-03-01",
         "2025-03-02",
         "25",
         "Madrid",
         "8",
         "ibis budget Madrid Calle 30",
         "4.4",
         "79.0",
         "2025-02-19",
         "1"
        ],
        [
         "3",
         "4",
         "204",
         "Adolfo",
         "Cuervo",
         "adolfo.cuervo@example.com",
         "True",
         "2025-03-01",
         "2025-03-02",
         "21",
         "Madrid",
         "10",
         "ibis Madrid Centro las Ventas",
         "4.5",
         "90.0",
         "2025-02-19",
         "1"
        ],
        [
         "4",
         "5",
         "9762",
         "María Carmen",
         "Navarro",
         "maría carmen.navarro@example.com",
         "True",
         "2025-03-01",
         "2025-03-02",
         "28",
         "Madrid",
         "12",
         "ibis budget Madrid Centro las Ventas",
         "4.3",
         "75.0",
         "2025-02-19",
         "1"
        ]
       ],
       "shape": {
        "columns": 16,
        "rows": 5
       }
      },
      "text/html": [
       "<div>\n",
       "<style scoped>\n",
       "    .dataframe tbody tr th:only-of-type {\n",
       "        vertical-align: middle;\n",
       "    }\n",
       "\n",
       "    .dataframe tbody tr th {\n",
       "        vertical-align: top;\n",
       "    }\n",
       "\n",
       "    .dataframe thead th {\n",
       "        text-align: right;\n",
       "    }\n",
       "</style>\n",
       "<table border=\"1\" class=\"dataframe\">\n",
       "  <thead>\n",
       "    <tr style=\"text-align: right;\">\n",
       "      <th></th>\n",
       "      <th>id_reserva</th>\n",
       "      <th>id_cliente</th>\n",
       "      <th>nombre</th>\n",
       "      <th>apellido</th>\n",
       "      <th>mail</th>\n",
       "      <th>competencia</th>\n",
       "      <th>inicio_estancia</th>\n",
       "      <th>final_estancia</th>\n",
       "      <th>id_hotel</th>\n",
       "      <th>ciudad</th>\n",
       "      <th>id</th>\n",
       "      <th>nombre_hotel</th>\n",
       "      <th>valoracion</th>\n",
       "      <th>precio_noche</th>\n",
       "      <th>fecha_reserva</th>\n",
       "      <th>id_ciudad</th>\n",
       "    </tr>\n",
       "  </thead>\n",
       "  <tbody>\n",
       "    <tr>\n",
       "      <th>0</th>\n",
       "      <td>1</td>\n",
       "      <td>5311</td>\n",
       "      <td>Feliciana</td>\n",
       "      <td>Cantón</td>\n",
       "      <td>feliciana.cantón@example.com</td>\n",
       "      <td>True</td>\n",
       "      <td>2025-03-01</td>\n",
       "      <td>2025-03-02</td>\n",
       "      <td>27</td>\n",
       "      <td>Madrid</td>\n",
       "      <td>1</td>\n",
       "      <td>ibis budget Madrid Centro Lavapies</td>\n",
       "      <td>4.3</td>\n",
       "      <td>106.0</td>\n",
       "      <td>2025-02-19</td>\n",
       "      <td>1</td>\n",
       "    </tr>\n",
       "    <tr>\n",
       "      <th>1</th>\n",
       "      <td>2</td>\n",
       "      <td>8310</td>\n",
       "      <td>Leonardo</td>\n",
       "      <td>Hierro</td>\n",
       "      <td>leonardo.hierro@example.com</td>\n",
       "      <td>True</td>\n",
       "      <td>2025-03-01</td>\n",
       "      <td>2025-03-02</td>\n",
       "      <td>23</td>\n",
       "      <td>Madrid</td>\n",
       "      <td>2</td>\n",
       "      <td>ibis Styles Madrid Centro Maravillas</td>\n",
       "      <td>4.7</td>\n",
       "      <td>114.0</td>\n",
       "      <td>2025-02-19</td>\n",
       "      <td>1</td>\n",
       "    </tr>\n",
       "    <tr>\n",
       "      <th>2</th>\n",
       "      <td>3</td>\n",
       "      <td>8047</td>\n",
       "      <td>Judith</td>\n",
       "      <td>Rivas</td>\n",
       "      <td>judith.rivas@example.com</td>\n",
       "      <td>True</td>\n",
       "      <td>2025-03-01</td>\n",
       "      <td>2025-03-02</td>\n",
       "      <td>25</td>\n",
       "      <td>Madrid</td>\n",
       "      <td>8</td>\n",
       "      <td>ibis budget Madrid Calle 30</td>\n",
       "      <td>4.4</td>\n",
       "      <td>79.0</td>\n",
       "      <td>2025-02-19</td>\n",
       "      <td>1</td>\n",
       "    </tr>\n",
       "    <tr>\n",
       "      <th>3</th>\n",
       "      <td>4</td>\n",
       "      <td>204</td>\n",
       "      <td>Adolfo</td>\n",
       "      <td>Cuervo</td>\n",
       "      <td>adolfo.cuervo@example.com</td>\n",
       "      <td>True</td>\n",
       "      <td>2025-03-01</td>\n",
       "      <td>2025-03-02</td>\n",
       "      <td>21</td>\n",
       "      <td>Madrid</td>\n",
       "      <td>10</td>\n",
       "      <td>ibis Madrid Centro las Ventas</td>\n",
       "      <td>4.5</td>\n",
       "      <td>90.0</td>\n",
       "      <td>2025-02-19</td>\n",
       "      <td>1</td>\n",
       "    </tr>\n",
       "    <tr>\n",
       "      <th>4</th>\n",
       "      <td>5</td>\n",
       "      <td>9762</td>\n",
       "      <td>María Carmen</td>\n",
       "      <td>Navarro</td>\n",
       "      <td>maría carmen.navarro@example.com</td>\n",
       "      <td>True</td>\n",
       "      <td>2025-03-01</td>\n",
       "      <td>2025-03-02</td>\n",
       "      <td>28</td>\n",
       "      <td>Madrid</td>\n",
       "      <td>12</td>\n",
       "      <td>ibis budget Madrid Centro las Ventas</td>\n",
       "      <td>4.3</td>\n",
       "      <td>75.0</td>\n",
       "      <td>2025-02-19</td>\n",
       "      <td>1</td>\n",
       "    </tr>\n",
       "  </tbody>\n",
       "</table>\n",
       "</div>"
      ],
      "text/plain": [
       "   id_reserva  id_cliente        nombre apellido  \\\n",
       "0           1        5311     Feliciana   Cantón   \n",
       "1           2        8310      Leonardo   Hierro   \n",
       "2           3        8047        Judith    Rivas   \n",
       "3           4         204        Adolfo   Cuervo   \n",
       "4           5        9762  María Carmen  Navarro   \n",
       "\n",
       "                               mail  competencia inicio_estancia  \\\n",
       "0      feliciana.cantón@example.com         True      2025-03-01   \n",
       "1       leonardo.hierro@example.com         True      2025-03-01   \n",
       "2          judith.rivas@example.com         True      2025-03-01   \n",
       "3         adolfo.cuervo@example.com         True      2025-03-01   \n",
       "4  maría carmen.navarro@example.com         True      2025-03-01   \n",
       "\n",
       "  final_estancia  id_hotel  ciudad  id                          nombre_hotel  \\\n",
       "0     2025-03-02        27  Madrid   1    ibis budget Madrid Centro Lavapies   \n",
       "1     2025-03-02        23  Madrid   2  ibis Styles Madrid Centro Maravillas   \n",
       "2     2025-03-02        25  Madrid   8           ibis budget Madrid Calle 30   \n",
       "3     2025-03-02        21  Madrid  10         ibis Madrid Centro las Ventas   \n",
       "4     2025-03-02        28  Madrid  12  ibis budget Madrid Centro las Ventas   \n",
       "\n",
       "   valoracion  precio_noche fecha_reserva  id_ciudad  \n",
       "0         4.3         106.0    2025-02-19          1  \n",
       "1         4.7         114.0    2025-02-19          1  \n",
       "2         4.4          79.0    2025-02-19          1  \n",
       "3         4.5          90.0    2025-02-19          1  \n",
       "4         4.3          75.0    2025-02-19          1  "
      ]
     },
     "execution_count": 15,
     "metadata": {},
     "output_type": "execute_result"
    }
   ],
   "source": [
    "df.head()"
   ]
  },
  {
   "cell_type": "code",
   "execution_count": 16,
   "metadata": {},
   "outputs": [
    {
     "data": {
      "application/vnd.microsoft.datawrangler.viewer.v0+json": {
       "columns": [
        {
         "name": "index",
         "rawType": "int64",
         "type": "integer"
        },
        {
         "name": "id_cliente",
         "rawType": "int64",
         "type": "integer"
        },
        {
         "name": "nombre",
         "rawType": "object",
         "type": "string"
        },
        {
         "name": "apellido",
         "rawType": "object",
         "type": "string"
        },
        {
         "name": "mail",
         "rawType": "object",
         "type": "string"
        }
       ],
       "conversionMethod": "pd.DataFrame",
       "ref": "a0380c19-643a-4b97-8eaf-403d6671e44b",
       "rows": [
        [
         "0",
         "5311",
         "Feliciana",
         "Cantón",
         "feliciana.cantón@example.com"
        ],
        [
         "1",
         "8310",
         "Leonardo",
         "Hierro",
         "leonardo.hierro@example.com"
        ],
        [
         "2",
         "8047",
         "Judith",
         "Rivas",
         "judith.rivas@example.com"
        ],
        [
         "3",
         "204",
         "Adolfo",
         "Cuervo",
         "adolfo.cuervo@example.com"
        ],
        [
         "4",
         "9762",
         "María Carmen",
         "Navarro",
         "maría carmen.navarro@example.com"
        ],
        [
         "5",
         "12323",
         "Ricardo",
         "Caballero",
         "ricardo.caballero@example.com"
        ],
        [
         "6",
         "8914",
         "Luna",
         "Segovia",
         "luna.segovia@example.com"
        ],
        [
         "7",
         "8997",
         "Lázaro",
         "Pardo",
         "lázaro.pardo@example.com"
        ],
        [
         "8",
         "1158",
         "Angelina",
         "Priego",
         "angelina.priego@example.com"
        ],
        [
         "9",
         "13863",
         "Tiburcio",
         "Pujol",
         "tiburcio.pujol@example.com"
        ],
        [
         "10",
         "2566",
         "Carolina",
         "Alberdi",
         "carolina.alberdi@example.com"
        ],
        [
         "11",
         "10939",
         "Noé",
         "Cantón",
         "noé.cantón@example.com"
        ],
        [
         "12",
         "9744",
         "María Belén",
         "Escalona",
         "maría belén.escalona@example.com"
        ],
        [
         "13",
         "3504",
         "Curro",
         "Martín",
         "curro.martín@example.com"
        ],
        [
         "14",
         "10121",
         "Melania",
         "Abascal",
         "melania.abascal@example.com"
        ],
        [
         "15",
         "11811",
         "Primitivo",
         "Meléndez",
         "primitivo.meléndez@example.com"
        ],
        [
         "16",
         "764",
         "Amalia",
         "Bayón",
         "amalia.bayón@example.com"
        ],
        [
         "17",
         "396",
         "Aitana",
         "Dalmau",
         "aitana.dalmau@example.com"
        ],
        [
         "18",
         "3856",
         "Dionisia",
         "Grau",
         "dionisia.grau@example.com"
        ],
        [
         "19",
         "6682",
         "Iker",
         "Catalán",
         "iker.catalán@example.com"
        ],
        [
         "20",
         "3150",
         "Cleto",
         "Rosa",
         "cleto.rosa@example.com"
        ],
        [
         "21",
         "1785",
         "Baltasar",
         "Cabello",
         "baltasar.cabello@example.com"
        ],
        [
         "22",
         "12610",
         "Rosalva",
         "Cabañas",
         "rosalva.cabañas@example.com"
        ],
        [
         "23",
         "774",
         "Amalia",
         "Teruel",
         "amalia.teruel@example.com"
        ],
        [
         "24",
         "10265",
         "Miguela",
         "Sanz",
         "miguela.sanz@example.com"
        ],
        [
         "25",
         "1829",
         "Baudelio",
         "Ayllón",
         "baudelio.ayllón@example.com"
        ],
        [
         "26",
         "1217",
         "Ani",
         "Criado",
         "ani.criado@example.com"
        ],
        [
         "27",
         "1372",
         "Apolonia",
         "Bernat",
         "apolonia.bernat@example.com"
        ],
        [
         "28",
         "2184",
         "Bruno",
         "Bayo",
         "bruno.bayo@example.com"
        ],
        [
         "29",
         "13612",
         "Tania",
         "Hoz",
         "tania.hoz@example.com"
        ],
        [
         "30",
         "3615",
         "Dalila",
         "Yáñez",
         "dalila.yáñez@example.com"
        ],
        [
         "31",
         "10039",
         "Mauricio",
         "Gómez",
         "mauricio.gómez@example.com"
        ],
        [
         "32",
         "4247",
         "Eleuterio",
         "Marín",
         "eleuterio.marín@example.com"
        ],
        [
         "33",
         "14894",
         "Úrsula",
         "Belmonte",
         "úrsula.belmonte@example.com"
        ],
        [
         "34",
         "4829",
         "Ester",
         "Cabo",
         "ester.cabo@example.com"
        ],
        [
         "35",
         "10917",
         "Noemí",
         "Ángel",
         "noemí.ángel@example.com"
        ],
        [
         "36",
         "13606",
         "Tania",
         "Campo",
         "tania.campo@example.com"
        ],
        [
         "37",
         "5207",
         "Fabricio",
         "Lladó",
         "fabricio.lladó@example.com"
        ],
        [
         "38",
         "7798",
         "José",
         "Azcona",
         "josé.azcona@example.com"
        ],
        [
         "39",
         "2543",
         "Carmen",
         "Roma",
         "carmen.roma@example.com"
        ],
        [
         "40",
         "3651",
         "Dani",
         "Benet",
         "dani.benet@example.com"
        ],
        [
         "41",
         "11667",
         "Perlita",
         "Peiró",
         "perlita.peiró@example.com"
        ],
        [
         "42",
         "10620",
         "Natividad",
         "Ariño",
         "natividad.ariño@example.com"
        ],
        [
         "43",
         "6614",
         "Humberto",
         "Iborra",
         "humberto.iborra@example.com"
        ],
        [
         "44",
         "9479",
         "Maribel",
         "Cortes",
         "maribel.cortes@example.com"
        ],
        [
         "45",
         "11025",
         "Obdulia",
         "Elorza",
         "obdulia.elorza@example.com"
        ],
        [
         "46",
         "12641",
         "Rosario",
         "Hurtado",
         "rosario.hurtado@example.com"
        ],
        [
         "47",
         "10311",
         "Mirta",
         "Campoy",
         "mirta.campoy@example.com"
        ],
        [
         "48",
         "1316",
         "Antonio",
         "Sosa",
         "antonio.sosa@example.com"
        ],
        [
         "49",
         "11157",
         "Olga",
         "Seguí",
         "olga.seguí@example.com"
        ]
       ],
       "shape": {
        "columns": 4,
        "rows": 15098
       }
      },
      "text/html": [
       "<div>\n",
       "<style scoped>\n",
       "    .dataframe tbody tr th:only-of-type {\n",
       "        vertical-align: middle;\n",
       "    }\n",
       "\n",
       "    .dataframe tbody tr th {\n",
       "        vertical-align: top;\n",
       "    }\n",
       "\n",
       "    .dataframe thead th {\n",
       "        text-align: right;\n",
       "    }\n",
       "</style>\n",
       "<table border=\"1\" class=\"dataframe\">\n",
       "  <thead>\n",
       "    <tr style=\"text-align: right;\">\n",
       "      <th></th>\n",
       "      <th>id_cliente</th>\n",
       "      <th>nombre</th>\n",
       "      <th>apellido</th>\n",
       "      <th>mail</th>\n",
       "    </tr>\n",
       "  </thead>\n",
       "  <tbody>\n",
       "    <tr>\n",
       "      <th>0</th>\n",
       "      <td>5311</td>\n",
       "      <td>Feliciana</td>\n",
       "      <td>Cantón</td>\n",
       "      <td>feliciana.cantón@example.com</td>\n",
       "    </tr>\n",
       "    <tr>\n",
       "      <th>1</th>\n",
       "      <td>8310</td>\n",
       "      <td>Leonardo</td>\n",
       "      <td>Hierro</td>\n",
       "      <td>leonardo.hierro@example.com</td>\n",
       "    </tr>\n",
       "    <tr>\n",
       "      <th>2</th>\n",
       "      <td>8047</td>\n",
       "      <td>Judith</td>\n",
       "      <td>Rivas</td>\n",
       "      <td>judith.rivas@example.com</td>\n",
       "    </tr>\n",
       "    <tr>\n",
       "      <th>3</th>\n",
       "      <td>204</td>\n",
       "      <td>Adolfo</td>\n",
       "      <td>Cuervo</td>\n",
       "      <td>adolfo.cuervo@example.com</td>\n",
       "    </tr>\n",
       "    <tr>\n",
       "      <th>4</th>\n",
       "      <td>9762</td>\n",
       "      <td>María Carmen</td>\n",
       "      <td>Navarro</td>\n",
       "      <td>maría carmen.navarro@example.com</td>\n",
       "    </tr>\n",
       "    <tr>\n",
       "      <th>...</th>\n",
       "      <td>...</td>\n",
       "      <td>...</td>\n",
       "      <td>...</td>\n",
       "      <td>...</td>\n",
       "    </tr>\n",
       "    <tr>\n",
       "      <th>15093</th>\n",
       "      <td>14320</td>\n",
       "      <td>Victoriano</td>\n",
       "      <td>Miralles</td>\n",
       "      <td>victoriano.miralles@example.com</td>\n",
       "    </tr>\n",
       "    <tr>\n",
       "      <th>15094</th>\n",
       "      <td>1082</td>\n",
       "      <td>Anacleto</td>\n",
       "      <td>Toledo</td>\n",
       "      <td>anacleto.toledo@example.com</td>\n",
       "    </tr>\n",
       "    <tr>\n",
       "      <th>15095</th>\n",
       "      <td>10444</td>\n",
       "      <td>Máxima</td>\n",
       "      <td>Mayoral</td>\n",
       "      <td>máxima.mayoral@example.com</td>\n",
       "    </tr>\n",
       "    <tr>\n",
       "      <th>15096</th>\n",
       "      <td>11950</td>\n",
       "      <td>Rafa</td>\n",
       "      <td>Alcaraz</td>\n",
       "      <td>rafa.alcaraz@example.com</td>\n",
       "    </tr>\n",
       "    <tr>\n",
       "      <th>15097</th>\n",
       "      <td>4917</td>\n",
       "      <td>Eugenio</td>\n",
       "      <td>Quintero</td>\n",
       "      <td>eugenio.quintero@example.com</td>\n",
       "    </tr>\n",
       "  </tbody>\n",
       "</table>\n",
       "<p>15098 rows × 4 columns</p>\n",
       "</div>"
      ],
      "text/plain": [
       "       id_cliente        nombre  apellido                              mail\n",
       "0            5311     Feliciana    Cantón      feliciana.cantón@example.com\n",
       "1            8310      Leonardo    Hierro       leonardo.hierro@example.com\n",
       "2            8047        Judith     Rivas          judith.rivas@example.com\n",
       "3             204        Adolfo    Cuervo         adolfo.cuervo@example.com\n",
       "4            9762  María Carmen   Navarro  maría carmen.navarro@example.com\n",
       "...           ...           ...       ...                               ...\n",
       "15093       14320    Victoriano  Miralles   victoriano.miralles@example.com\n",
       "15094        1082      Anacleto    Toledo       anacleto.toledo@example.com\n",
       "15095       10444        Máxima   Mayoral        máxima.mayoral@example.com\n",
       "15096       11950          Rafa   Alcaraz          rafa.alcaraz@example.com\n",
       "15097        4917       Eugenio  Quintero      eugenio.quintero@example.com\n",
       "\n",
       "[15098 rows x 4 columns]"
      ]
     },
     "execution_count": 16,
     "metadata": {},
     "output_type": "execute_result"
    }
   ],
   "source": [
    "tabla_clientes = df[[\"id_cliente\", \"nombre\",\"apellido\",\"mail\"]]\n",
    "tabla_clientes"
   ]
  },
  {
   "cell_type": "code",
   "execution_count": 17,
   "metadata": {},
   "outputs": [
    {
     "name": "stdout",
     "output_type": "stream",
     "text": [
      "14905\n",
      "14905\n"
     ]
    }
   ],
   "source": [
    "#Vemos cuántos valores únicos hay de las columnas id_cliente y mail:\n",
    "print(tabla_clientes[\"id_cliente\"].nunique())\n",
    "print(tabla_clientes[\"mail\"].nunique())"
   ]
  },
  {
   "cell_type": "code",
   "execution_count": 22,
   "metadata": {},
   "outputs": [
    {
     "data": {
      "application/vnd.microsoft.datawrangler.viewer.v0+json": {
       "columns": [
        {
         "name": "index",
         "rawType": "int64",
         "type": "integer"
        },
        {
         "name": "id_cliente",
         "rawType": "int64",
         "type": "integer"
        },
        {
         "name": "nombre",
         "rawType": "object",
         "type": "string"
        },
        {
         "name": "apellido",
         "rawType": "object",
         "type": "string"
        },
        {
         "name": "mail",
         "rawType": "object",
         "type": "string"
        }
       ],
       "conversionMethod": "pd.DataFrame",
       "ref": "f23b669f-6332-4335-b804-cef038159cfd",
       "rows": [
        [
         "0",
         "5311",
         "Feliciana",
         "Cantón",
         "feliciana.cantón@example.com"
        ],
        [
         "1",
         "8310",
         "Leonardo",
         "Hierro",
         "leonardo.hierro@example.com"
        ],
        [
         "2",
         "8047",
         "Judith",
         "Rivas",
         "judith.rivas@example.com"
        ],
        [
         "3",
         "204",
         "Adolfo",
         "Cuervo",
         "adolfo.cuervo@example.com"
        ],
        [
         "4",
         "9762",
         "María Carmen",
         "Navarro",
         "maría carmen.navarro@example.com"
        ],
        [
         "5",
         "12323",
         "Ricardo",
         "Caballero",
         "ricardo.caballero@example.com"
        ],
        [
         "6",
         "8914",
         "Luna",
         "Segovia",
         "luna.segovia@example.com"
        ],
        [
         "7",
         "8997",
         "Lázaro",
         "Pardo",
         "lázaro.pardo@example.com"
        ],
        [
         "8",
         "1158",
         "Angelina",
         "Priego",
         "angelina.priego@example.com"
        ],
        [
         "9",
         "13863",
         "Tiburcio",
         "Pujol",
         "tiburcio.pujol@example.com"
        ],
        [
         "10",
         "2566",
         "Carolina",
         "Alberdi",
         "carolina.alberdi@example.com"
        ],
        [
         "11",
         "10939",
         "Noé",
         "Cantón",
         "noé.cantón@example.com"
        ],
        [
         "12",
         "9744",
         "María Belén",
         "Escalona",
         "maría belén.escalona@example.com"
        ],
        [
         "13",
         "3504",
         "Curro",
         "Martín",
         "curro.martín@example.com"
        ],
        [
         "14",
         "10121",
         "Melania",
         "Abascal",
         "melania.abascal@example.com"
        ],
        [
         "15",
         "11811",
         "Primitivo",
         "Meléndez",
         "primitivo.meléndez@example.com"
        ],
        [
         "16",
         "764",
         "Amalia",
         "Bayón",
         "amalia.bayón@example.com"
        ],
        [
         "17",
         "396",
         "Aitana",
         "Dalmau",
         "aitana.dalmau@example.com"
        ],
        [
         "18",
         "3856",
         "Dionisia",
         "Grau",
         "dionisia.grau@example.com"
        ],
        [
         "19",
         "6682",
         "Iker",
         "Catalán",
         "iker.catalán@example.com"
        ],
        [
         "20",
         "3150",
         "Cleto",
         "Rosa",
         "cleto.rosa@example.com"
        ],
        [
         "21",
         "1785",
         "Baltasar",
         "Cabello",
         "baltasar.cabello@example.com"
        ],
        [
         "22",
         "12610",
         "Rosalva",
         "Cabañas",
         "rosalva.cabañas@example.com"
        ],
        [
         "23",
         "774",
         "Amalia",
         "Teruel",
         "amalia.teruel@example.com"
        ],
        [
         "24",
         "10265",
         "Miguela",
         "Sanz",
         "miguela.sanz@example.com"
        ],
        [
         "25",
         "1829",
         "Baudelio",
         "Ayllón",
         "baudelio.ayllón@example.com"
        ],
        [
         "26",
         "1217",
         "Ani",
         "Criado",
         "ani.criado@example.com"
        ],
        [
         "27",
         "1372",
         "Apolonia",
         "Bernat",
         "apolonia.bernat@example.com"
        ],
        [
         "28",
         "2184",
         "Bruno",
         "Bayo",
         "bruno.bayo@example.com"
        ],
        [
         "29",
         "13612",
         "Tania",
         "Hoz",
         "tania.hoz@example.com"
        ],
        [
         "30",
         "3615",
         "Dalila",
         "Yáñez",
         "dalila.yáñez@example.com"
        ],
        [
         "31",
         "10039",
         "Mauricio",
         "Gómez",
         "mauricio.gómez@example.com"
        ],
        [
         "32",
         "4247",
         "Eleuterio",
         "Marín",
         "eleuterio.marín@example.com"
        ],
        [
         "33",
         "14894",
         "Úrsula",
         "Belmonte",
         "úrsula.belmonte@example.com"
        ],
        [
         "34",
         "4829",
         "Ester",
         "Cabo",
         "ester.cabo@example.com"
        ],
        [
         "35",
         "10917",
         "Noemí",
         "Ángel",
         "noemí.ángel@example.com"
        ],
        [
         "36",
         "13606",
         "Tania",
         "Campo",
         "tania.campo@example.com"
        ],
        [
         "37",
         "5207",
         "Fabricio",
         "Lladó",
         "fabricio.lladó@example.com"
        ],
        [
         "38",
         "7798",
         "José",
         "Azcona",
         "josé.azcona@example.com"
        ],
        [
         "39",
         "2543",
         "Carmen",
         "Roma",
         "carmen.roma@example.com"
        ],
        [
         "40",
         "3651",
         "Dani",
         "Benet",
         "dani.benet@example.com"
        ],
        [
         "41",
         "11667",
         "Perlita",
         "Peiró",
         "perlita.peiró@example.com"
        ],
        [
         "42",
         "10620",
         "Natividad",
         "Ariño",
         "natividad.ariño@example.com"
        ],
        [
         "43",
         "6614",
         "Humberto",
         "Iborra",
         "humberto.iborra@example.com"
        ],
        [
         "44",
         "9479",
         "Maribel",
         "Cortes",
         "maribel.cortes@example.com"
        ],
        [
         "45",
         "11025",
         "Obdulia",
         "Elorza",
         "obdulia.elorza@example.com"
        ],
        [
         "46",
         "12641",
         "Rosario",
         "Hurtado",
         "rosario.hurtado@example.com"
        ],
        [
         "47",
         "10311",
         "Mirta",
         "Campoy",
         "mirta.campoy@example.com"
        ],
        [
         "48",
         "1316",
         "Antonio",
         "Sosa",
         "antonio.sosa@example.com"
        ],
        [
         "49",
         "11157",
         "Olga",
         "Seguí",
         "olga.seguí@example.com"
        ]
       ],
       "shape": {
        "columns": 4,
        "rows": 14905
       }
      },
      "text/html": [
       "<div>\n",
       "<style scoped>\n",
       "    .dataframe tbody tr th:only-of-type {\n",
       "        vertical-align: middle;\n",
       "    }\n",
       "\n",
       "    .dataframe tbody tr th {\n",
       "        vertical-align: top;\n",
       "    }\n",
       "\n",
       "    .dataframe thead th {\n",
       "        text-align: right;\n",
       "    }\n",
       "</style>\n",
       "<table border=\"1\" class=\"dataframe\">\n",
       "  <thead>\n",
       "    <tr style=\"text-align: right;\">\n",
       "      <th></th>\n",
       "      <th>id_cliente</th>\n",
       "      <th>nombre</th>\n",
       "      <th>apellido</th>\n",
       "      <th>mail</th>\n",
       "    </tr>\n",
       "  </thead>\n",
       "  <tbody>\n",
       "    <tr>\n",
       "      <th>0</th>\n",
       "      <td>5311</td>\n",
       "      <td>Feliciana</td>\n",
       "      <td>Cantón</td>\n",
       "      <td>feliciana.cantón@example.com</td>\n",
       "    </tr>\n",
       "    <tr>\n",
       "      <th>1</th>\n",
       "      <td>8310</td>\n",
       "      <td>Leonardo</td>\n",
       "      <td>Hierro</td>\n",
       "      <td>leonardo.hierro@example.com</td>\n",
       "    </tr>\n",
       "    <tr>\n",
       "      <th>2</th>\n",
       "      <td>8047</td>\n",
       "      <td>Judith</td>\n",
       "      <td>Rivas</td>\n",
       "      <td>judith.rivas@example.com</td>\n",
       "    </tr>\n",
       "    <tr>\n",
       "      <th>3</th>\n",
       "      <td>204</td>\n",
       "      <td>Adolfo</td>\n",
       "      <td>Cuervo</td>\n",
       "      <td>adolfo.cuervo@example.com</td>\n",
       "    </tr>\n",
       "    <tr>\n",
       "      <th>4</th>\n",
       "      <td>9762</td>\n",
       "      <td>María Carmen</td>\n",
       "      <td>Navarro</td>\n",
       "      <td>maría carmen.navarro@example.com</td>\n",
       "    </tr>\n",
       "    <tr>\n",
       "      <th>...</th>\n",
       "      <td>...</td>\n",
       "      <td>...</td>\n",
       "      <td>...</td>\n",
       "      <td>...</td>\n",
       "    </tr>\n",
       "    <tr>\n",
       "      <th>14995</th>\n",
       "      <td>232</td>\n",
       "      <td>Adoración</td>\n",
       "      <td>Cuadrado</td>\n",
       "      <td>adoración.cuadrado@example.com</td>\n",
       "    </tr>\n",
       "    <tr>\n",
       "      <th>14996</th>\n",
       "      <td>4100</td>\n",
       "      <td>Edgardo</td>\n",
       "      <td>Sanchez</td>\n",
       "      <td>edgardo.sanchez@example.com</td>\n",
       "    </tr>\n",
       "    <tr>\n",
       "      <th>14997</th>\n",
       "      <td>8630</td>\n",
       "      <td>Lorena</td>\n",
       "      <td>Román</td>\n",
       "      <td>lorena.román@example.com</td>\n",
       "    </tr>\n",
       "    <tr>\n",
       "      <th>14998</th>\n",
       "      <td>10526</td>\n",
       "      <td>Nadia</td>\n",
       "      <td>Verdugo</td>\n",
       "      <td>nadia.verdugo@example.com</td>\n",
       "    </tr>\n",
       "    <tr>\n",
       "      <th>14999</th>\n",
       "      <td>2209</td>\n",
       "      <td>Brígida</td>\n",
       "      <td>Salom</td>\n",
       "      <td>brígida.salom@example.com</td>\n",
       "    </tr>\n",
       "  </tbody>\n",
       "</table>\n",
       "<p>14905 rows × 4 columns</p>\n",
       "</div>"
      ],
      "text/plain": [
       "       id_cliente        nombre  apellido                              mail\n",
       "0            5311     Feliciana    Cantón      feliciana.cantón@example.com\n",
       "1            8310      Leonardo    Hierro       leonardo.hierro@example.com\n",
       "2            8047        Judith     Rivas          judith.rivas@example.com\n",
       "3             204        Adolfo    Cuervo         adolfo.cuervo@example.com\n",
       "4            9762  María Carmen   Navarro  maría carmen.navarro@example.com\n",
       "...           ...           ...       ...                               ...\n",
       "14995         232     Adoración  Cuadrado    adoración.cuadrado@example.com\n",
       "14996        4100       Edgardo   Sanchez       edgardo.sanchez@example.com\n",
       "14997        8630        Lorena     Román          lorena.román@example.com\n",
       "14998       10526         Nadia   Verdugo         nadia.verdugo@example.com\n",
       "14999        2209       Brígida     Salom         brígida.salom@example.com\n",
       "\n",
       "[14905 rows x 4 columns]"
      ]
     },
     "execution_count": 22,
     "metadata": {},
     "output_type": "execute_result"
    }
   ],
   "source": [
    "#Eliminamos duplicados en base a id_cliente y mail:\n",
    "tabla_clientes = tabla_clientes.drop_duplicates(subset=[\"id_cliente\", \"mail\"], keep=\"first\")\n",
    "tabla_clientes"
   ]
  },
  {
   "cell_type": "code",
   "execution_count": 23,
   "metadata": {},
   "outputs": [],
   "source": [
    "data_to_insert = [\n",
    "    (\n",
    "        row[\"id_cliente\"], \n",
    "        row[\"nombre\"], \n",
    "        row[\"apellido\"], \n",
    "        row[\"mail\"]\n",
    "    )\n",
    "    for _, row in tabla_clientes.iterrows()\n",
    "]"
   ]
  },
  {
   "cell_type": "code",
   "execution_count": 24,
   "metadata": {},
   "outputs": [],
   "source": [
    "insert_query = \"\"\"  \n",
    "        INSERT INTO clientes (id_cliente, nombre, apellido, mail)\n",
    "        VALUES (%s, %s, %s, %s)\n",
    "\"\"\""
   ]
  },
  {
   "cell_type": "code",
   "execution_count": 26,
   "metadata": {},
   "outputs": [],
   "source": [
    "cur.executemany(insert_query, data_to_insert)\n",
    "conn.commit()"
   ]
  },
  {
   "cell_type": "code",
   "execution_count": 25,
   "metadata": {},
   "outputs": [],
   "source": [
    "conn.rollback()"
   ]
  },
  {
   "cell_type": "markdown",
   "metadata": {},
   "source": [
    "### RESERVAS"
   ]
  },
  {
   "cell_type": "code",
   "execution_count": null,
   "metadata": {},
   "outputs": [],
   "source": [
    "CREATE TABLE reservas (\n",
    "    id_reserva VARCHAR(50) PRIMARY KEY,\n",
    "    fecha_reserva DATE,\n",
    "    inicio_estancia DATE,\n",
    "    final_estancia DATE,\n",
    "    precio_noche FLOAT CHECK (precio_noche >= 0),\n",
    "    id_cliente VARCHAR(50) REFERENCES clientes(id_cliente) ON DELETE CASCADE,\n",
    "    id_hotel INT REFERENCES hoteles(id_hotel) ON DELETE CASCADE\n",
    "    \n",
    ");"
   ]
  },
  {
   "cell_type": "code",
   "execution_count": 27,
   "metadata": {},
   "outputs": [
    {
     "name": "stdout",
     "output_type": "stream",
     "text": [
      "<class 'pandas.core.frame.DataFrame'>\n",
      "RangeIndex: 15098 entries, 0 to 15097\n",
      "Data columns (total 16 columns):\n",
      " #   Column           Non-Null Count  Dtype  \n",
      "---  ------           --------------  -----  \n",
      " 0   id_reserva       15098 non-null  int64  \n",
      " 1   id_cliente       15098 non-null  int64  \n",
      " 2   nombre           15098 non-null  object \n",
      " 3   apellido         15098 non-null  object \n",
      " 4   mail             15098 non-null  object \n",
      " 5   competencia      15098 non-null  bool   \n",
      " 6   inicio_estancia  15098 non-null  object \n",
      " 7   final_estancia   15098 non-null  object \n",
      " 8   id_hotel         15098 non-null  int64  \n",
      " 9   ciudad           15098 non-null  object \n",
      " 10  id               15098 non-null  int64  \n",
      " 11  nombre_hotel     15098 non-null  object \n",
      " 12  valoracion       15098 non-null  float64\n",
      " 13  precio_noche     15098 non-null  float64\n",
      " 14  fecha_reserva    15098 non-null  object \n",
      " 15  id_ciudad        15098 non-null  int64  \n",
      "dtypes: bool(1), float64(2), int64(5), object(8)\n",
      "memory usage: 1.7+ MB\n"
     ]
    }
   ],
   "source": [
    "df.info()"
   ]
  },
  {
   "cell_type": "code",
   "execution_count": 29,
   "metadata": {},
   "outputs": [
    {
     "name": "stdout",
     "output_type": "stream",
     "text": [
      "<class 'pandas.core.frame.DataFrame'>\n",
      "RangeIndex: 15098 entries, 0 to 15097\n",
      "Data columns (total 7 columns):\n",
      " #   Column           Non-Null Count  Dtype  \n",
      "---  ------           --------------  -----  \n",
      " 0   id_reserva       15098 non-null  int64  \n",
      " 1   fecha_reserva    15098 non-null  object \n",
      " 2   inicio_estancia  15098 non-null  object \n",
      " 3   final_estancia   15098 non-null  object \n",
      " 4   precio_noche     15098 non-null  float64\n",
      " 5   id_cliente       15098 non-null  int64  \n",
      " 6   id_hotel         15098 non-null  int64  \n",
      "dtypes: float64(1), int64(3), object(3)\n",
      "memory usage: 825.8+ KB\n"
     ]
    }
   ],
   "source": [
    "tabla_reservas = df[[\"id_reserva\",\"fecha_reserva\",\"inicio_estancia\",\"final_estancia\",\"precio_noche\", \"id_cliente\", \"id_hotel\"]]\n",
    "tabla_reservas.info()"
   ]
  },
  {
   "cell_type": "code",
   "execution_count": 34,
   "metadata": {},
   "outputs": [
    {
     "name": "stderr",
     "output_type": "stream",
     "text": [
      "/var/folders/_s/kc_rj_092690fgthyqft8hk40000gn/T/ipykernel_2781/4091136663.py:2: SettingWithCopyWarning: \n",
      "A value is trying to be set on a copy of a slice from a DataFrame.\n",
      "Try using .loc[row_indexer,col_indexer] = value instead\n",
      "\n",
      "See the caveats in the documentation: https://pandas.pydata.org/pandas-docs/stable/user_guide/indexing.html#returning-a-view-versus-a-copy\n",
      "  tabla_reservas[\"fecha_reserva\"] = pd.to_datetime(tabla_reservas[\"fecha_reserva\"])\n",
      "/var/folders/_s/kc_rj_092690fgthyqft8hk40000gn/T/ipykernel_2781/4091136663.py:3: SettingWithCopyWarning: \n",
      "A value is trying to be set on a copy of a slice from a DataFrame.\n",
      "Try using .loc[row_indexer,col_indexer] = value instead\n",
      "\n",
      "See the caveats in the documentation: https://pandas.pydata.org/pandas-docs/stable/user_guide/indexing.html#returning-a-view-versus-a-copy\n",
      "  tabla_reservas[\"inicio_estancia\"] = pd.to_datetime(tabla_reservas[\"inicio_estancia\"])\n",
      "/var/folders/_s/kc_rj_092690fgthyqft8hk40000gn/T/ipykernel_2781/4091136663.py:4: SettingWithCopyWarning: \n",
      "A value is trying to be set on a copy of a slice from a DataFrame.\n",
      "Try using .loc[row_indexer,col_indexer] = value instead\n",
      "\n",
      "See the caveats in the documentation: https://pandas.pydata.org/pandas-docs/stable/user_guide/indexing.html#returning-a-view-versus-a-copy\n",
      "  tabla_reservas[\"final_estancia\"] = pd.to_datetime(tabla_reservas[\"final_estancia\"])\n"
     ]
    }
   ],
   "source": [
    "#pasamos a datetime las columnas de fecha_reserva, inicio_estancia y final_estancia:\n",
    "tabla_reservas[\"fecha_reserva\"] = pd.to_datetime(tabla_reservas[\"fecha_reserva\"])\n",
    "tabla_reservas[\"inicio_estancia\"] = pd.to_datetime(tabla_reservas[\"inicio_estancia\"])\n",
    "tabla_reservas[\"final_estancia\"] = pd.to_datetime(tabla_reservas[\"final_estancia\"])"
   ]
  },
  {
   "cell_type": "code",
   "execution_count": 35,
   "metadata": {},
   "outputs": [
    {
     "name": "stdout",
     "output_type": "stream",
     "text": [
      "<class 'pandas.core.frame.DataFrame'>\n",
      "RangeIndex: 15098 entries, 0 to 15097\n",
      "Data columns (total 7 columns):\n",
      " #   Column           Non-Null Count  Dtype         \n",
      "---  ------           --------------  -----         \n",
      " 0   id_reserva       15098 non-null  int64         \n",
      " 1   fecha_reserva    15098 non-null  datetime64[ns]\n",
      " 2   inicio_estancia  15098 non-null  datetime64[ns]\n",
      " 3   final_estancia   15098 non-null  datetime64[ns]\n",
      " 4   precio_noche     15098 non-null  float64       \n",
      " 5   id_cliente       15098 non-null  int64         \n",
      " 6   id_hotel         15098 non-null  int64         \n",
      "dtypes: datetime64[ns](3), float64(1), int64(3)\n",
      "memory usage: 825.8 KB\n"
     ]
    }
   ],
   "source": [
    "tabla_reservas.info()"
   ]
  },
  {
   "cell_type": "code",
   "execution_count": 36,
   "metadata": {},
   "outputs": [],
   "source": [
    "insert_query = \"\"\"\n",
    "        INSERT INTO reservas (id_reserva, fecha_reserva, inicio_estancia, final_estancia, precio_noche,id_cliente, id_hotel)\n",
    "        VALUES (%s, %s, %s, %s, %s, %s, %s)\n",
    "\"\"\""
   ]
  },
  {
   "cell_type": "code",
   "execution_count": 37,
   "metadata": {},
   "outputs": [],
   "source": [
    "data_to_insert = [\n",
    "    ( \n",
    "        row[\"id_reserva\"], \n",
    "        row[\"fecha_reserva\"], \n",
    "        row[\"inicio_estancia\"], \n",
    "        row[\"final_estancia\"], \n",
    "        row[\"precio_noche\"], \n",
    "        row[\"id_cliente\"], \n",
    "        row[\"id_hotel\"]\n",
    "    )\n",
    "    for _, row in tabla_reservas.iterrows()\n",
    "]"
   ]
  },
  {
   "cell_type": "code",
   "execution_count": 38,
   "metadata": {},
   "outputs": [],
   "source": [
    "cur.executemany(insert_query, data_to_insert)\n",
    "conn.commit()"
   ]
  },
  {
   "cell_type": "code",
   "execution_count": 365,
   "metadata": {},
   "outputs": [],
   "source": [
    "conn.rollback()"
   ]
  }
 ],
 "metadata": {
  "kernelspec": {
   "display_name": "venv",
   "language": "python",
   "name": "python3"
  },
  "language_info": {
   "codemirror_mode": {
    "name": "ipython",
    "version": 3
   },
   "file_extension": ".py",
   "mimetype": "text/x-python",
   "name": "python",
   "nbconvert_exporter": "python",
   "pygments_lexer": "ipython3",
   "version": "3.12.4"
  }
 },
 "nbformat": 4,
 "nbformat_minor": 2
}

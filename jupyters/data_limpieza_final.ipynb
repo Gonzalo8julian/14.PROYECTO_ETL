{
 "cells": [
  {
   "cell_type": "code",
   "execution_count": 2,
   "metadata": {},
   "outputs": [],
   "source": [
    "import pandas as pd\n",
    "import numpy as np\n",
    "import matplotlib.pyplot as plt\n",
    "import seaborn as sns"
   ]
  },
  {
   "cell_type": "markdown",
   "metadata": {},
   "source": [
    "### LIMPIEZA"
   ]
  },
  {
   "cell_type": "code",
   "execution_count": 3,
   "metadata": {},
   "outputs": [
    {
     "name": "stdout",
     "output_type": "stream",
     "text": [
      "<class 'pandas.core.frame.DataFrame'>\n",
      "RangeIndex: 15098 entries, 0 to 15097\n",
      "Data columns (total 15 columns):\n",
      " #   Column           Non-Null Count  Dtype  \n",
      "---  ------           --------------  -----  \n",
      " 0   id_reserva       15098 non-null  object \n",
      " 1   id_cliente       15098 non-null  object \n",
      " 2   nombre           15098 non-null  object \n",
      " 3   apellido         15098 non-null  object \n",
      " 4   mail             15098 non-null  object \n",
      " 5   competencia      15098 non-null  bool   \n",
      " 6   inicio_estancia  15098 non-null  object \n",
      " 7   final_estancia   15098 non-null  object \n",
      " 8   id_hotel         15098 non-null  int64  \n",
      " 9   ciudad           15098 non-null  object \n",
      " 10  id               15098 non-null  int64  \n",
      " 11  nombre_hotel     15098 non-null  object \n",
      " 12  valoracion       15098 non-null  float64\n",
      " 13  precio_noche     15046 non-null  float64\n",
      " 14  fecha_reserva    15098 non-null  object \n",
      "dtypes: bool(1), float64(2), int64(2), object(10)\n",
      "memory usage: 1.6+ MB\n"
     ]
    }
   ],
   "source": [
    "df_limpieza = pd.read_csv(\"../data/limpieza_reservas_hoteles.csv\")\n",
    "df_limpieza.info()\n"
   ]
  },
  {
   "cell_type": "code",
   "execution_count": 4,
   "metadata": {},
   "outputs": [
    {
     "name": "stdout",
     "output_type": "stream",
     "text": [
      "<class 'pandas.core.frame.DataFrame'>\n",
      "RangeIndex: 15098 entries, 0 to 15097\n",
      "Data columns (total 15 columns):\n",
      " #   Column           Non-Null Count  Dtype  \n",
      "---  ------           --------------  -----  \n",
      " 0   id_reserva       15098 non-null  object \n",
      " 1   id_cliente       15098 non-null  object \n",
      " 2   nombre           15098 non-null  object \n",
      " 3   apellido         15098 non-null  object \n",
      " 4   mail             15098 non-null  object \n",
      " 5   competencia      15098 non-null  bool   \n",
      " 6   inicio_estancia  15098 non-null  object \n",
      " 7   final_estancia   15098 non-null  object \n",
      " 8   id_hotel         15098 non-null  int64  \n",
      " 9   ciudad           15098 non-null  object \n",
      " 10  id               15098 non-null  int64  \n",
      " 11  nombre_hotel     15098 non-null  object \n",
      " 12  valoracion       15098 non-null  float64\n",
      " 13  precio_noche     15098 non-null  float64\n",
      " 14  fecha_reserva    15098 non-null  object \n",
      "dtypes: bool(1), float64(2), int64(2), object(10)\n",
      "memory usage: 1.6+ MB\n"
     ]
    },
    {
     "name": "stderr",
     "output_type": "stream",
     "text": [
      "/var/folders/_s/kc_rj_092690fgthyqft8hk40000gn/T/ipykernel_2213/822453100.py:3: FutureWarning: A value is trying to be set on a copy of a DataFrame or Series through chained assignment using an inplace method.\n",
      "The behavior will change in pandas 3.0. This inplace method will never work because the intermediate object on which we are setting values always behaves as a copy.\n",
      "\n",
      "For example, when doing 'df[col].method(value, inplace=True)', try using 'df.method({col: value}, inplace=True)' or df[col] = df[col].method(value) instead, to perform the operation inplace on the original object.\n",
      "\n",
      "\n",
      "  df_limpieza[\"precio_noche\"].fillna(media_precio_noche, inplace=True)\n"
     ]
    }
   ],
   "source": [
    "#Completamos los valores vacíos de la columna precio_noche con la media:\n",
    "media_precio_noche = df_limpieza[\"precio_noche\"].mean()\n",
    "df_limpieza[\"precio_noche\"].fillna(media_precio_noche, inplace=True)\n",
    "df_limpieza.info()"
   ]
  },
  {
   "cell_type": "code",
   "execution_count": 9,
   "metadata": {},
   "outputs": [
    {
     "data": {
      "text/plain": [
       "29"
      ]
     },
     "execution_count": 9,
     "metadata": {},
     "output_type": "execute_result"
    }
   ],
   "source": [
    "#En la columna id_hotel hacemos un alista de 1 a n para cada nombre_hotel único:\n",
    "df_limpieza[\"id_hotel\"] = df_limpieza.groupby(\"nombre_hotel\").ngroup()\n",
    "df_limpieza[\"id_hotel\"] = df_limpieza[\"id_hotel\"] + 1\n",
    "df_limpieza[\"id_hotel\"].nunique()"
   ]
  },
  {
   "cell_type": "code",
   "execution_count": 18,
   "metadata": {},
   "outputs": [
    {
     "data": {
      "text/plain": [
       "14905"
      ]
     },
     "execution_count": 18,
     "metadata": {},
     "output_type": "execute_result"
    }
   ],
   "source": [
    "#En la columna id_cliente hacemos un seriado de 1 a n por cada mail de la columna mail:\n",
    "df_limpieza[\"id_cliente\"] = df_limpieza.groupby(\"mail\").ngroup()\n",
    "df_limpieza[\"id_cliente\"] = df_limpieza[\"id_cliente\"] + 1\n",
    "df_limpieza[\"id_cliente\"].nunique()"
   ]
  },
  {
   "cell_type": "code",
   "execution_count": 19,
   "metadata": {},
   "outputs": [
    {
     "data": {
      "application/vnd.microsoft.datawrangler.viewer.v0+json": {
       "columns": [
        {
         "name": "index",
         "rawType": "int64",
         "type": "integer"
        },
        {
         "name": "id_reserva",
         "rawType": "int64",
         "type": "integer"
        },
        {
         "name": "id_cliente",
         "rawType": "int64",
         "type": "integer"
        },
        {
         "name": "nombre",
         "rawType": "object",
         "type": "string"
        },
        {
         "name": "apellido",
         "rawType": "object",
         "type": "string"
        },
        {
         "name": "mail",
         "rawType": "object",
         "type": "string"
        },
        {
         "name": "competencia",
         "rawType": "bool",
         "type": "boolean"
        },
        {
         "name": "inicio_estancia",
         "rawType": "object",
         "type": "string"
        },
        {
         "name": "final_estancia",
         "rawType": "object",
         "type": "string"
        },
        {
         "name": "id_hotel",
         "rawType": "int64",
         "type": "integer"
        },
        {
         "name": "ciudad",
         "rawType": "object",
         "type": "string"
        },
        {
         "name": "id",
         "rawType": "int64",
         "type": "integer"
        },
        {
         "name": "nombre_hotel",
         "rawType": "object",
         "type": "string"
        },
        {
         "name": "valoracion",
         "rawType": "float64",
         "type": "float"
        },
        {
         "name": "precio_noche",
         "rawType": "float64",
         "type": "float"
        },
        {
         "name": "fecha_reserva",
         "rawType": "object",
         "type": "string"
        },
        {
         "name": "id_ciudad",
         "rawType": "int64",
         "type": "integer"
        }
       ],
       "conversionMethod": "pd.DataFrame",
       "ref": "9f855c62-4e7b-41ec-9d83-0118ee03d94e",
       "rows": [
        [
         "0",
         "1",
         "5311",
         "Feliciana",
         "Cantón",
         "feliciana.cantón@example.com",
         "True",
         "2025-03-01",
         "2025-03-02",
         "27",
         "Madrid",
         "1",
         "ibis budget Madrid Centro Lavapies",
         "4.3",
         "106.0",
         "2025-02-19",
         "1"
        ],
        [
         "1",
         "2",
         "8310",
         "Leonardo",
         "Hierro",
         "leonardo.hierro@example.com",
         "True",
         "2025-03-01",
         "2025-03-02",
         "23",
         "Madrid",
         "2",
         "ibis Styles Madrid Centro Maravillas",
         "4.7",
         "114.0",
         "2025-02-19",
         "1"
        ],
        [
         "2",
         "3",
         "8047",
         "Judith",
         "Rivas",
         "judith.rivas@example.com",
         "True",
         "2025-03-01",
         "2025-03-02",
         "25",
         "Madrid",
         "8",
         "ibis budget Madrid Calle 30",
         "4.4",
         "79.0",
         "2025-02-19",
         "1"
        ],
        [
         "3",
         "4",
         "204",
         "Adolfo",
         "Cuervo",
         "adolfo.cuervo@example.com",
         "True",
         "2025-03-01",
         "2025-03-02",
         "21",
         "Madrid",
         "10",
         "ibis Madrid Centro las Ventas",
         "4.5",
         "90.0",
         "2025-02-19",
         "1"
        ],
        [
         "4",
         "5",
         "9762",
         "María Carmen",
         "Navarro",
         "maría carmen.navarro@example.com",
         "True",
         "2025-03-01",
         "2025-03-02",
         "28",
         "Madrid",
         "12",
         "ibis budget Madrid Centro las Ventas",
         "4.3",
         "75.0",
         "2025-02-19",
         "1"
        ]
       ],
       "shape": {
        "columns": 16,
        "rows": 5
       }
      },
      "text/html": [
       "<div>\n",
       "<style scoped>\n",
       "    .dataframe tbody tr th:only-of-type {\n",
       "        vertical-align: middle;\n",
       "    }\n",
       "\n",
       "    .dataframe tbody tr th {\n",
       "        vertical-align: top;\n",
       "    }\n",
       "\n",
       "    .dataframe thead th {\n",
       "        text-align: right;\n",
       "    }\n",
       "</style>\n",
       "<table border=\"1\" class=\"dataframe\">\n",
       "  <thead>\n",
       "    <tr style=\"text-align: right;\">\n",
       "      <th></th>\n",
       "      <th>id_reserva</th>\n",
       "      <th>id_cliente</th>\n",
       "      <th>nombre</th>\n",
       "      <th>apellido</th>\n",
       "      <th>mail</th>\n",
       "      <th>competencia</th>\n",
       "      <th>inicio_estancia</th>\n",
       "      <th>final_estancia</th>\n",
       "      <th>id_hotel</th>\n",
       "      <th>ciudad</th>\n",
       "      <th>id</th>\n",
       "      <th>nombre_hotel</th>\n",
       "      <th>valoracion</th>\n",
       "      <th>precio_noche</th>\n",
       "      <th>fecha_reserva</th>\n",
       "      <th>id_ciudad</th>\n",
       "    </tr>\n",
       "  </thead>\n",
       "  <tbody>\n",
       "    <tr>\n",
       "      <th>0</th>\n",
       "      <td>1</td>\n",
       "      <td>5311</td>\n",
       "      <td>Feliciana</td>\n",
       "      <td>Cantón</td>\n",
       "      <td>feliciana.cantón@example.com</td>\n",
       "      <td>True</td>\n",
       "      <td>2025-03-01</td>\n",
       "      <td>2025-03-02</td>\n",
       "      <td>27</td>\n",
       "      <td>Madrid</td>\n",
       "      <td>1</td>\n",
       "      <td>ibis budget Madrid Centro Lavapies</td>\n",
       "      <td>4.3</td>\n",
       "      <td>106.0</td>\n",
       "      <td>2025-02-19</td>\n",
       "      <td>1</td>\n",
       "    </tr>\n",
       "    <tr>\n",
       "      <th>1</th>\n",
       "      <td>2</td>\n",
       "      <td>8310</td>\n",
       "      <td>Leonardo</td>\n",
       "      <td>Hierro</td>\n",
       "      <td>leonardo.hierro@example.com</td>\n",
       "      <td>True</td>\n",
       "      <td>2025-03-01</td>\n",
       "      <td>2025-03-02</td>\n",
       "      <td>23</td>\n",
       "      <td>Madrid</td>\n",
       "      <td>2</td>\n",
       "      <td>ibis Styles Madrid Centro Maravillas</td>\n",
       "      <td>4.7</td>\n",
       "      <td>114.0</td>\n",
       "      <td>2025-02-19</td>\n",
       "      <td>1</td>\n",
       "    </tr>\n",
       "    <tr>\n",
       "      <th>2</th>\n",
       "      <td>3</td>\n",
       "      <td>8047</td>\n",
       "      <td>Judith</td>\n",
       "      <td>Rivas</td>\n",
       "      <td>judith.rivas@example.com</td>\n",
       "      <td>True</td>\n",
       "      <td>2025-03-01</td>\n",
       "      <td>2025-03-02</td>\n",
       "      <td>25</td>\n",
       "      <td>Madrid</td>\n",
       "      <td>8</td>\n",
       "      <td>ibis budget Madrid Calle 30</td>\n",
       "      <td>4.4</td>\n",
       "      <td>79.0</td>\n",
       "      <td>2025-02-19</td>\n",
       "      <td>1</td>\n",
       "    </tr>\n",
       "    <tr>\n",
       "      <th>3</th>\n",
       "      <td>4</td>\n",
       "      <td>204</td>\n",
       "      <td>Adolfo</td>\n",
       "      <td>Cuervo</td>\n",
       "      <td>adolfo.cuervo@example.com</td>\n",
       "      <td>True</td>\n",
       "      <td>2025-03-01</td>\n",
       "      <td>2025-03-02</td>\n",
       "      <td>21</td>\n",
       "      <td>Madrid</td>\n",
       "      <td>10</td>\n",
       "      <td>ibis Madrid Centro las Ventas</td>\n",
       "      <td>4.5</td>\n",
       "      <td>90.0</td>\n",
       "      <td>2025-02-19</td>\n",
       "      <td>1</td>\n",
       "    </tr>\n",
       "    <tr>\n",
       "      <th>4</th>\n",
       "      <td>5</td>\n",
       "      <td>9762</td>\n",
       "      <td>María Carmen</td>\n",
       "      <td>Navarro</td>\n",
       "      <td>maría carmen.navarro@example.com</td>\n",
       "      <td>True</td>\n",
       "      <td>2025-03-01</td>\n",
       "      <td>2025-03-02</td>\n",
       "      <td>28</td>\n",
       "      <td>Madrid</td>\n",
       "      <td>12</td>\n",
       "      <td>ibis budget Madrid Centro las Ventas</td>\n",
       "      <td>4.3</td>\n",
       "      <td>75.0</td>\n",
       "      <td>2025-02-19</td>\n",
       "      <td>1</td>\n",
       "    </tr>\n",
       "  </tbody>\n",
       "</table>\n",
       "</div>"
      ],
      "text/plain": [
       "   id_reserva  id_cliente        nombre apellido  \\\n",
       "0           1        5311     Feliciana   Cantón   \n",
       "1           2        8310      Leonardo   Hierro   \n",
       "2           3        8047        Judith    Rivas   \n",
       "3           4         204        Adolfo   Cuervo   \n",
       "4           5        9762  María Carmen  Navarro   \n",
       "\n",
       "                               mail  competencia inicio_estancia  \\\n",
       "0      feliciana.cantón@example.com         True      2025-03-01   \n",
       "1       leonardo.hierro@example.com         True      2025-03-01   \n",
       "2          judith.rivas@example.com         True      2025-03-01   \n",
       "3         adolfo.cuervo@example.com         True      2025-03-01   \n",
       "4  maría carmen.navarro@example.com         True      2025-03-01   \n",
       "\n",
       "  final_estancia  id_hotel  ciudad  id                          nombre_hotel  \\\n",
       "0     2025-03-02        27  Madrid   1    ibis budget Madrid Centro Lavapies   \n",
       "1     2025-03-02        23  Madrid   2  ibis Styles Madrid Centro Maravillas   \n",
       "2     2025-03-02        25  Madrid   8           ibis budget Madrid Calle 30   \n",
       "3     2025-03-02        21  Madrid  10         ibis Madrid Centro las Ventas   \n",
       "4     2025-03-02        28  Madrid  12  ibis budget Madrid Centro las Ventas   \n",
       "\n",
       "   valoracion  precio_noche fecha_reserva  id_ciudad  \n",
       "0         4.3         106.0    2025-02-19          1  \n",
       "1         4.7         114.0    2025-02-19          1  \n",
       "2         4.4          79.0    2025-02-19          1  \n",
       "3         4.5          90.0    2025-02-19          1  \n",
       "4         4.3          75.0    2025-02-19          1  "
      ]
     },
     "execution_count": 19,
     "metadata": {},
     "output_type": "execute_result"
    }
   ],
   "source": [
    "df_limpieza.head(\n",
    ")"
   ]
  },
  {
   "cell_type": "code",
   "execution_count": 20,
   "metadata": {},
   "outputs": [
    {
     "data": {
      "application/vnd.microsoft.datawrangler.viewer.v0+json": {
       "columns": [
        {
         "name": "index",
         "rawType": "int64",
         "type": "integer"
        },
        {
         "name": "id_reserva",
         "rawType": "int64",
         "type": "integer"
        },
        {
         "name": "id_cliente",
         "rawType": "int64",
         "type": "integer"
        },
        {
         "name": "nombre",
         "rawType": "object",
         "type": "string"
        },
        {
         "name": "apellido",
         "rawType": "object",
         "type": "string"
        },
        {
         "name": "mail",
         "rawType": "object",
         "type": "string"
        },
        {
         "name": "competencia",
         "rawType": "bool",
         "type": "boolean"
        },
        {
         "name": "inicio_estancia",
         "rawType": "object",
         "type": "string"
        },
        {
         "name": "final_estancia",
         "rawType": "object",
         "type": "string"
        },
        {
         "name": "id_hotel",
         "rawType": "int64",
         "type": "integer"
        },
        {
         "name": "ciudad",
         "rawType": "object",
         "type": "string"
        },
        {
         "name": "id",
         "rawType": "int64",
         "type": "integer"
        },
        {
         "name": "nombre_hotel",
         "rawType": "object",
         "type": "string"
        },
        {
         "name": "valoracion",
         "rawType": "float64",
         "type": "float"
        },
        {
         "name": "precio_noche",
         "rawType": "float64",
         "type": "float"
        },
        {
         "name": "fecha_reserva",
         "rawType": "object",
         "type": "string"
        },
        {
         "name": "id_ciudad",
         "rawType": "int64",
         "type": "integer"
        }
       ],
       "conversionMethod": "pd.DataFrame",
       "ref": "eff31c7e-ef1f-4ad3-8d29-0a528b1d5cc6",
       "rows": [
        [
         "0",
         "1",
         "5311",
         "Feliciana",
         "Cantón",
         "feliciana.cantón@example.com",
         "True",
         "2025-03-01",
         "2025-03-02",
         "27",
         "Madrid",
         "1",
         "ibis budget Madrid Centro Lavapies",
         "4.3",
         "106.0",
         "2025-02-19",
         "1"
        ],
        [
         "1",
         "2",
         "8310",
         "Leonardo",
         "Hierro",
         "leonardo.hierro@example.com",
         "True",
         "2025-03-01",
         "2025-03-02",
         "23",
         "Madrid",
         "2",
         "ibis Styles Madrid Centro Maravillas",
         "4.7",
         "114.0",
         "2025-02-19",
         "1"
        ],
        [
         "2",
         "3",
         "8047",
         "Judith",
         "Rivas",
         "judith.rivas@example.com",
         "True",
         "2025-03-01",
         "2025-03-02",
         "25",
         "Madrid",
         "8",
         "ibis budget Madrid Calle 30",
         "4.4",
         "79.0",
         "2025-02-19",
         "1"
        ],
        [
         "3",
         "4",
         "204",
         "Adolfo",
         "Cuervo",
         "adolfo.cuervo@example.com",
         "True",
         "2025-03-01",
         "2025-03-02",
         "21",
         "Madrid",
         "10",
         "ibis Madrid Centro las Ventas",
         "4.5",
         "90.0",
         "2025-02-19",
         "1"
        ],
        [
         "4",
         "5",
         "9762",
         "María Carmen",
         "Navarro",
         "maría carmen.navarro@example.com",
         "True",
         "2025-03-01",
         "2025-03-02",
         "28",
         "Madrid",
         "12",
         "ibis budget Madrid Centro las Ventas",
         "4.3",
         "75.0",
         "2025-02-19",
         "1"
        ]
       ],
       "shape": {
        "columns": 16,
        "rows": 5
       }
      },
      "text/html": [
       "<div>\n",
       "<style scoped>\n",
       "    .dataframe tbody tr th:only-of-type {\n",
       "        vertical-align: middle;\n",
       "    }\n",
       "\n",
       "    .dataframe tbody tr th {\n",
       "        vertical-align: top;\n",
       "    }\n",
       "\n",
       "    .dataframe thead th {\n",
       "        text-align: right;\n",
       "    }\n",
       "</style>\n",
       "<table border=\"1\" class=\"dataframe\">\n",
       "  <thead>\n",
       "    <tr style=\"text-align: right;\">\n",
       "      <th></th>\n",
       "      <th>id_reserva</th>\n",
       "      <th>id_cliente</th>\n",
       "      <th>nombre</th>\n",
       "      <th>apellido</th>\n",
       "      <th>mail</th>\n",
       "      <th>competencia</th>\n",
       "      <th>inicio_estancia</th>\n",
       "      <th>final_estancia</th>\n",
       "      <th>id_hotel</th>\n",
       "      <th>ciudad</th>\n",
       "      <th>id</th>\n",
       "      <th>nombre_hotel</th>\n",
       "      <th>valoracion</th>\n",
       "      <th>precio_noche</th>\n",
       "      <th>fecha_reserva</th>\n",
       "      <th>id_ciudad</th>\n",
       "    </tr>\n",
       "  </thead>\n",
       "  <tbody>\n",
       "    <tr>\n",
       "      <th>0</th>\n",
       "      <td>1</td>\n",
       "      <td>5311</td>\n",
       "      <td>Feliciana</td>\n",
       "      <td>Cantón</td>\n",
       "      <td>feliciana.cantón@example.com</td>\n",
       "      <td>True</td>\n",
       "      <td>2025-03-01</td>\n",
       "      <td>2025-03-02</td>\n",
       "      <td>27</td>\n",
       "      <td>Madrid</td>\n",
       "      <td>1</td>\n",
       "      <td>ibis budget Madrid Centro Lavapies</td>\n",
       "      <td>4.3</td>\n",
       "      <td>106.0</td>\n",
       "      <td>2025-02-19</td>\n",
       "      <td>1</td>\n",
       "    </tr>\n",
       "    <tr>\n",
       "      <th>1</th>\n",
       "      <td>2</td>\n",
       "      <td>8310</td>\n",
       "      <td>Leonardo</td>\n",
       "      <td>Hierro</td>\n",
       "      <td>leonardo.hierro@example.com</td>\n",
       "      <td>True</td>\n",
       "      <td>2025-03-01</td>\n",
       "      <td>2025-03-02</td>\n",
       "      <td>23</td>\n",
       "      <td>Madrid</td>\n",
       "      <td>2</td>\n",
       "      <td>ibis Styles Madrid Centro Maravillas</td>\n",
       "      <td>4.7</td>\n",
       "      <td>114.0</td>\n",
       "      <td>2025-02-19</td>\n",
       "      <td>1</td>\n",
       "    </tr>\n",
       "    <tr>\n",
       "      <th>2</th>\n",
       "      <td>3</td>\n",
       "      <td>8047</td>\n",
       "      <td>Judith</td>\n",
       "      <td>Rivas</td>\n",
       "      <td>judith.rivas@example.com</td>\n",
       "      <td>True</td>\n",
       "      <td>2025-03-01</td>\n",
       "      <td>2025-03-02</td>\n",
       "      <td>25</td>\n",
       "      <td>Madrid</td>\n",
       "      <td>8</td>\n",
       "      <td>ibis budget Madrid Calle 30</td>\n",
       "      <td>4.4</td>\n",
       "      <td>79.0</td>\n",
       "      <td>2025-02-19</td>\n",
       "      <td>1</td>\n",
       "    </tr>\n",
       "    <tr>\n",
       "      <th>3</th>\n",
       "      <td>4</td>\n",
       "      <td>204</td>\n",
       "      <td>Adolfo</td>\n",
       "      <td>Cuervo</td>\n",
       "      <td>adolfo.cuervo@example.com</td>\n",
       "      <td>True</td>\n",
       "      <td>2025-03-01</td>\n",
       "      <td>2025-03-02</td>\n",
       "      <td>21</td>\n",
       "      <td>Madrid</td>\n",
       "      <td>10</td>\n",
       "      <td>ibis Madrid Centro las Ventas</td>\n",
       "      <td>4.5</td>\n",
       "      <td>90.0</td>\n",
       "      <td>2025-02-19</td>\n",
       "      <td>1</td>\n",
       "    </tr>\n",
       "    <tr>\n",
       "      <th>4</th>\n",
       "      <td>5</td>\n",
       "      <td>9762</td>\n",
       "      <td>María Carmen</td>\n",
       "      <td>Navarro</td>\n",
       "      <td>maría carmen.navarro@example.com</td>\n",
       "      <td>True</td>\n",
       "      <td>2025-03-01</td>\n",
       "      <td>2025-03-02</td>\n",
       "      <td>28</td>\n",
       "      <td>Madrid</td>\n",
       "      <td>12</td>\n",
       "      <td>ibis budget Madrid Centro las Ventas</td>\n",
       "      <td>4.3</td>\n",
       "      <td>75.0</td>\n",
       "      <td>2025-02-19</td>\n",
       "      <td>1</td>\n",
       "    </tr>\n",
       "  </tbody>\n",
       "</table>\n",
       "</div>"
      ],
      "text/plain": [
       "   id_reserva  id_cliente        nombre apellido  \\\n",
       "0           1        5311     Feliciana   Cantón   \n",
       "1           2        8310      Leonardo   Hierro   \n",
       "2           3        8047        Judith    Rivas   \n",
       "3           4         204        Adolfo   Cuervo   \n",
       "4           5        9762  María Carmen  Navarro   \n",
       "\n",
       "                               mail  competencia inicio_estancia  \\\n",
       "0      feliciana.cantón@example.com         True      2025-03-01   \n",
       "1       leonardo.hierro@example.com         True      2025-03-01   \n",
       "2          judith.rivas@example.com         True      2025-03-01   \n",
       "3         adolfo.cuervo@example.com         True      2025-03-01   \n",
       "4  maría carmen.navarro@example.com         True      2025-03-01   \n",
       "\n",
       "  final_estancia  id_hotel  ciudad  id                          nombre_hotel  \\\n",
       "0     2025-03-02        27  Madrid   1    ibis budget Madrid Centro Lavapies   \n",
       "1     2025-03-02        23  Madrid   2  ibis Styles Madrid Centro Maravillas   \n",
       "2     2025-03-02        25  Madrid   8           ibis budget Madrid Calle 30   \n",
       "3     2025-03-02        21  Madrid  10         ibis Madrid Centro las Ventas   \n",
       "4     2025-03-02        28  Madrid  12  ibis budget Madrid Centro las Ventas   \n",
       "\n",
       "   valoracion  precio_noche fecha_reserva  id_ciudad  \n",
       "0         4.3         106.0    2025-02-19          1  \n",
       "1         4.7         114.0    2025-02-19          1  \n",
       "2         4.4          79.0    2025-02-19          1  \n",
       "3         4.5          90.0    2025-02-19          1  \n",
       "4         4.3          75.0    2025-02-19          1  "
      ]
     },
     "execution_count": 20,
     "metadata": {},
     "output_type": "execute_result"
    }
   ],
   "source": [
    "#Por último, hacemos una lista de 1 a n por cada reserva en la columna id_reserva:\n",
    "df_limpieza[\"id_reserva\"] = df_limpieza.index + 1\n",
    "df_limpieza.head()"
   ]
  },
  {
   "cell_type": "code",
   "execution_count": 21,
   "metadata": {},
   "outputs": [
    {
     "data": {
      "text/plain": [
       "1"
      ]
     },
     "execution_count": 21,
     "metadata": {},
     "output_type": "execute_result"
    }
   ],
   "source": [
    "#Añadimos una columna con id_ciudad para cada ciudad única:\n",
    "df_limpieza[\"id_ciudad\"] = df_limpieza.groupby(\"ciudad\").ngroup()\n",
    "df_limpieza[\"id_ciudad\"] = df_limpieza[\"id_ciudad\"] + 1\n",
    "df_limpieza[\"id_ciudad\"].nunique()\n"
   ]
  },
  {
   "cell_type": "code",
   "execution_count": 22,
   "metadata": {},
   "outputs": [
    {
     "data": {
      "application/vnd.microsoft.datawrangler.viewer.v0+json": {
       "columns": [
        {
         "name": "index",
         "rawType": "int64",
         "type": "integer"
        },
        {
         "name": "id_reserva",
         "rawType": "int64",
         "type": "integer"
        },
        {
         "name": "id_cliente",
         "rawType": "int64",
         "type": "integer"
        },
        {
         "name": "nombre",
         "rawType": "object",
         "type": "string"
        },
        {
         "name": "apellido",
         "rawType": "object",
         "type": "string"
        },
        {
         "name": "mail",
         "rawType": "object",
         "type": "string"
        },
        {
         "name": "competencia",
         "rawType": "bool",
         "type": "boolean"
        },
        {
         "name": "inicio_estancia",
         "rawType": "object",
         "type": "string"
        },
        {
         "name": "final_estancia",
         "rawType": "object",
         "type": "string"
        },
        {
         "name": "id_hotel",
         "rawType": "int64",
         "type": "integer"
        },
        {
         "name": "ciudad",
         "rawType": "object",
         "type": "string"
        },
        {
         "name": "id",
         "rawType": "int64",
         "type": "integer"
        },
        {
         "name": "nombre_hotel",
         "rawType": "object",
         "type": "string"
        },
        {
         "name": "valoracion",
         "rawType": "float64",
         "type": "float"
        },
        {
         "name": "precio_noche",
         "rawType": "float64",
         "type": "float"
        },
        {
         "name": "fecha_reserva",
         "rawType": "object",
         "type": "string"
        },
        {
         "name": "id_ciudad",
         "rawType": "int64",
         "type": "integer"
        }
       ],
       "conversionMethod": "pd.DataFrame",
       "ref": "91fbd74c-5340-497a-ac23-d3d0e739e257",
       "rows": [
        [
         "0",
         "1",
         "5311",
         "Feliciana",
         "Cantón",
         "feliciana.cantón@example.com",
         "True",
         "2025-03-01",
         "2025-03-02",
         "27",
         "Madrid",
         "1",
         "ibis budget Madrid Centro Lavapies",
         "4.3",
         "106.0",
         "2025-02-19",
         "1"
        ],
        [
         "1",
         "2",
         "8310",
         "Leonardo",
         "Hierro",
         "leonardo.hierro@example.com",
         "True",
         "2025-03-01",
         "2025-03-02",
         "23",
         "Madrid",
         "2",
         "ibis Styles Madrid Centro Maravillas",
         "4.7",
         "114.0",
         "2025-02-19",
         "1"
        ],
        [
         "2",
         "3",
         "8047",
         "Judith",
         "Rivas",
         "judith.rivas@example.com",
         "True",
         "2025-03-01",
         "2025-03-02",
         "25",
         "Madrid",
         "8",
         "ibis budget Madrid Calle 30",
         "4.4",
         "79.0",
         "2025-02-19",
         "1"
        ],
        [
         "3",
         "4",
         "204",
         "Adolfo",
         "Cuervo",
         "adolfo.cuervo@example.com",
         "True",
         "2025-03-01",
         "2025-03-02",
         "21",
         "Madrid",
         "10",
         "ibis Madrid Centro las Ventas",
         "4.5",
         "90.0",
         "2025-02-19",
         "1"
        ],
        [
         "4",
         "5",
         "9762",
         "María Carmen",
         "Navarro",
         "maría carmen.navarro@example.com",
         "True",
         "2025-03-01",
         "2025-03-02",
         "28",
         "Madrid",
         "12",
         "ibis budget Madrid Centro las Ventas",
         "4.3",
         "75.0",
         "2025-02-19",
         "1"
        ]
       ],
       "shape": {
        "columns": 16,
        "rows": 5
       }
      },
      "text/html": [
       "<div>\n",
       "<style scoped>\n",
       "    .dataframe tbody tr th:only-of-type {\n",
       "        vertical-align: middle;\n",
       "    }\n",
       "\n",
       "    .dataframe tbody tr th {\n",
       "        vertical-align: top;\n",
       "    }\n",
       "\n",
       "    .dataframe thead th {\n",
       "        text-align: right;\n",
       "    }\n",
       "</style>\n",
       "<table border=\"1\" class=\"dataframe\">\n",
       "  <thead>\n",
       "    <tr style=\"text-align: right;\">\n",
       "      <th></th>\n",
       "      <th>id_reserva</th>\n",
       "      <th>id_cliente</th>\n",
       "      <th>nombre</th>\n",
       "      <th>apellido</th>\n",
       "      <th>mail</th>\n",
       "      <th>competencia</th>\n",
       "      <th>inicio_estancia</th>\n",
       "      <th>final_estancia</th>\n",
       "      <th>id_hotel</th>\n",
       "      <th>ciudad</th>\n",
       "      <th>id</th>\n",
       "      <th>nombre_hotel</th>\n",
       "      <th>valoracion</th>\n",
       "      <th>precio_noche</th>\n",
       "      <th>fecha_reserva</th>\n",
       "      <th>id_ciudad</th>\n",
       "    </tr>\n",
       "  </thead>\n",
       "  <tbody>\n",
       "    <tr>\n",
       "      <th>0</th>\n",
       "      <td>1</td>\n",
       "      <td>5311</td>\n",
       "      <td>Feliciana</td>\n",
       "      <td>Cantón</td>\n",
       "      <td>feliciana.cantón@example.com</td>\n",
       "      <td>True</td>\n",
       "      <td>2025-03-01</td>\n",
       "      <td>2025-03-02</td>\n",
       "      <td>27</td>\n",
       "      <td>Madrid</td>\n",
       "      <td>1</td>\n",
       "      <td>ibis budget Madrid Centro Lavapies</td>\n",
       "      <td>4.3</td>\n",
       "      <td>106.0</td>\n",
       "      <td>2025-02-19</td>\n",
       "      <td>1</td>\n",
       "    </tr>\n",
       "    <tr>\n",
       "      <th>1</th>\n",
       "      <td>2</td>\n",
       "      <td>8310</td>\n",
       "      <td>Leonardo</td>\n",
       "      <td>Hierro</td>\n",
       "      <td>leonardo.hierro@example.com</td>\n",
       "      <td>True</td>\n",
       "      <td>2025-03-01</td>\n",
       "      <td>2025-03-02</td>\n",
       "      <td>23</td>\n",
       "      <td>Madrid</td>\n",
       "      <td>2</td>\n",
       "      <td>ibis Styles Madrid Centro Maravillas</td>\n",
       "      <td>4.7</td>\n",
       "      <td>114.0</td>\n",
       "      <td>2025-02-19</td>\n",
       "      <td>1</td>\n",
       "    </tr>\n",
       "    <tr>\n",
       "      <th>2</th>\n",
       "      <td>3</td>\n",
       "      <td>8047</td>\n",
       "      <td>Judith</td>\n",
       "      <td>Rivas</td>\n",
       "      <td>judith.rivas@example.com</td>\n",
       "      <td>True</td>\n",
       "      <td>2025-03-01</td>\n",
       "      <td>2025-03-02</td>\n",
       "      <td>25</td>\n",
       "      <td>Madrid</td>\n",
       "      <td>8</td>\n",
       "      <td>ibis budget Madrid Calle 30</td>\n",
       "      <td>4.4</td>\n",
       "      <td>79.0</td>\n",
       "      <td>2025-02-19</td>\n",
       "      <td>1</td>\n",
       "    </tr>\n",
       "    <tr>\n",
       "      <th>3</th>\n",
       "      <td>4</td>\n",
       "      <td>204</td>\n",
       "      <td>Adolfo</td>\n",
       "      <td>Cuervo</td>\n",
       "      <td>adolfo.cuervo@example.com</td>\n",
       "      <td>True</td>\n",
       "      <td>2025-03-01</td>\n",
       "      <td>2025-03-02</td>\n",
       "      <td>21</td>\n",
       "      <td>Madrid</td>\n",
       "      <td>10</td>\n",
       "      <td>ibis Madrid Centro las Ventas</td>\n",
       "      <td>4.5</td>\n",
       "      <td>90.0</td>\n",
       "      <td>2025-02-19</td>\n",
       "      <td>1</td>\n",
       "    </tr>\n",
       "    <tr>\n",
       "      <th>4</th>\n",
       "      <td>5</td>\n",
       "      <td>9762</td>\n",
       "      <td>María Carmen</td>\n",
       "      <td>Navarro</td>\n",
       "      <td>maría carmen.navarro@example.com</td>\n",
       "      <td>True</td>\n",
       "      <td>2025-03-01</td>\n",
       "      <td>2025-03-02</td>\n",
       "      <td>28</td>\n",
       "      <td>Madrid</td>\n",
       "      <td>12</td>\n",
       "      <td>ibis budget Madrid Centro las Ventas</td>\n",
       "      <td>4.3</td>\n",
       "      <td>75.0</td>\n",
       "      <td>2025-02-19</td>\n",
       "      <td>1</td>\n",
       "    </tr>\n",
       "  </tbody>\n",
       "</table>\n",
       "</div>"
      ],
      "text/plain": [
       "   id_reserva  id_cliente        nombre apellido  \\\n",
       "0           1        5311     Feliciana   Cantón   \n",
       "1           2        8310      Leonardo   Hierro   \n",
       "2           3        8047        Judith    Rivas   \n",
       "3           4         204        Adolfo   Cuervo   \n",
       "4           5        9762  María Carmen  Navarro   \n",
       "\n",
       "                               mail  competencia inicio_estancia  \\\n",
       "0      feliciana.cantón@example.com         True      2025-03-01   \n",
       "1       leonardo.hierro@example.com         True      2025-03-01   \n",
       "2          judith.rivas@example.com         True      2025-03-01   \n",
       "3         adolfo.cuervo@example.com         True      2025-03-01   \n",
       "4  maría carmen.navarro@example.com         True      2025-03-01   \n",
       "\n",
       "  final_estancia  id_hotel  ciudad  id                          nombre_hotel  \\\n",
       "0     2025-03-02        27  Madrid   1    ibis budget Madrid Centro Lavapies   \n",
       "1     2025-03-02        23  Madrid   2  ibis Styles Madrid Centro Maravillas   \n",
       "2     2025-03-02        25  Madrid   8           ibis budget Madrid Calle 30   \n",
       "3     2025-03-02        21  Madrid  10         ibis Madrid Centro las Ventas   \n",
       "4     2025-03-02        28  Madrid  12  ibis budget Madrid Centro las Ventas   \n",
       "\n",
       "   valoracion  precio_noche fecha_reserva  id_ciudad  \n",
       "0         4.3         106.0    2025-02-19          1  \n",
       "1         4.7         114.0    2025-02-19          1  \n",
       "2         4.4          79.0    2025-02-19          1  \n",
       "3         4.5          90.0    2025-02-19          1  \n",
       "4         4.3          75.0    2025-02-19          1  "
      ]
     },
     "execution_count": 22,
     "metadata": {},
     "output_type": "execute_result"
    }
   ],
   "source": [
    "df_limpieza.head()"
   ]
  },
  {
   "cell_type": "code",
   "execution_count": 23,
   "metadata": {},
   "outputs": [],
   "source": [
    "#guardamos el df:\n",
    "df_limpieza.to_csv(\"../data/limpieza_reservas_hoteles.csv\", index=False)"
   ]
  }
 ],
 "metadata": {
  "kernelspec": {
   "display_name": "venv",
   "language": "python",
   "name": "python3"
  },
  "language_info": {
   "codemirror_mode": {
    "name": "ipython",
    "version": 3
   },
   "file_extension": ".py",
   "mimetype": "text/x-python",
   "name": "python",
   "nbconvert_exporter": "python",
   "pygments_lexer": "ipython3",
   "version": "3.12.4"
  }
 },
 "nbformat": 4,
 "nbformat_minor": 2
}

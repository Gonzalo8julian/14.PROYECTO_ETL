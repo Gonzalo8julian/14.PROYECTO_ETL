{
 "cells": [
  {
   "cell_type": "code",
   "execution_count": 59,
   "metadata": {},
   "outputs": [],
   "source": [
    "import pandas as pd\n",
    "import numpy as np\n",
    "from bs4 import BeautifulSoup as bs \n",
    "import requests"
   ]
  },
  {
   "cell_type": "code",
   "execution_count": 60,
   "metadata": {},
   "outputs": [],
   "source": [
    "url_hoteles = \"https://ibis.accor.com/es/destination/city/hotels-madrid-v2418.html\""
   ]
  },
  {
   "cell_type": "code",
   "execution_count": 61,
   "metadata": {},
   "outputs": [
    {
     "data": {
      "text/plain": [
       "200"
      ]
     },
     "execution_count": 61,
     "metadata": {},
     "output_type": "execute_result"
    }
   ],
   "source": [
    "respuesta_hoteles = requests.get(url_hoteles)\n",
    "respuesta_hoteles.status_code"
   ]
  },
  {
   "cell_type": "code",
   "execution_count": 62,
   "metadata": {},
   "outputs": [],
   "source": [
    "sopa_hoteles = bs(respuesta_hoteles.content, \"html.parser\")"
   ]
  },
  {
   "cell_type": "code",
   "execution_count": 63,
   "metadata": {},
   "outputs": [
    {
     "data": {
      "text/plain": [
       "10"
      ]
     },
     "execution_count": 63,
     "metadata": {},
     "output_type": "execute_result"
    }
   ],
   "source": [
    "hoteles = sopa_hoteles.find_all(\"li\", class_=\"aem-GridColumn aem-GridColumn--default--3\")[:10]\n",
    "len(hoteles)"
   ]
  },
  {
   "cell_type": "code",
   "execution_count": 64,
   "metadata": {},
   "outputs": [],
   "source": [
    "dictio_scrap = {\n",
    "    \"nombre_hotel\": [],\n",
    "    \"descripcion\": [],\n",
    "    \"valoracion\": []}"
   ]
  },
  {
   "cell_type": "code",
   "execution_count": 65,
   "metadata": {},
   "outputs": [],
   "source": [
    "for hotel in hoteles:\n",
    "    # Nombre del hotel (Ejemplo: en un <h2>, <h3> o <a>)\n",
    "    nombre = hotel.find(\"h3\")\n",
    "    nombre_hotel = nombre.get_text(strip=True) if nombre else \"Sin nombre\"\n",
    "\n",
    "    # Descripción (Ejemplo: en un <p>) \n",
    "    descripcion = hotel.find(\"p\")\n",
    "    descripcion_texto = descripcion.get_text(strip=True) if descripcion else \"Sin descripción\"\n",
    "\n",
    "    # Valoración (Ejemplo: en un <span> con una clase específica)\n",
    "    valoracion = hotel.find(\"span\", class_=\"cmp-teaser__rating-score\")  # Buscar la clase correcta\n",
    "    valoracion_texto = valoracion.get_text(strip=True) if valoracion else \"Sin valoración\"\n",
    "    if valoracion_texto != \"Sin valoración\":\n",
    "        valoracion_texto = valoracion_texto.split(\"/\")[0]  # Tomar solo el número antes de \"/\"\n",
    "        valoracion_texto = valoracion_texto.replace(\",\", \".\")  # Convertir \"4,7\" a \"4.7\"\n",
    "        valoracion_texto = float(valoracion_texto)  # Convertir a número flotante\n",
    "\n",
    "    # Agregar los datos al diccionario\n",
    "    dictio_scrap[\"nombre_hotel\"].append(nombre_hotel)\n",
    "    dictio_scrap[\"descripcion\"].append(descripcion_texto)\n",
    "    dictio_scrap[\"valoracion\"].append(valoracion_texto)"
   ]
  },
  {
   "cell_type": "code",
   "execution_count": 66,
   "metadata": {},
   "outputs": [
    {
     "data": {
      "application/vnd.microsoft.datawrangler.viewer.v0+json": {
       "columns": [
        {
         "name": "index",
         "rawType": "int64",
         "type": "integer"
        },
        {
         "name": "nombre_hotel",
         "rawType": "object",
         "type": "string"
        },
        {
         "name": "descripcion",
         "rawType": "object",
         "type": "string"
        },
        {
         "name": "valoracion",
         "rawType": "float64",
         "type": "float"
        }
       ],
       "conversionMethod": "pd.DataFrame",
       "ref": "74ea3b96-b980-4b4f-91de-a183f5531edc",
       "rows": [
        [
         "0",
         "ibis Styles Madrid Prado",
         "Estamos en el centro de Madrid, con una ubicación privilegiada en el Barrio de las Letras. Podrás visitar a pié  los principales puntos más turísticos.\nAntes de ir a tus reuniones del día o descubrir la ciudad, comienza el día lleno de energía con nuestro desayuno buffet, en el que tenemos una amplia variedad de productos de calidad.\nLas 48 habitaciones tienen una decoración sencilla, alegre y dinámica y ofrecen funcionalidad y comodidad.  Los niños hasta 15 años se alojan gratis.  \nHotel pet-friendly.",
         "4.7"
        ],
        [
         "1",
         "ibis budget Madrid Centro Lavapies",
         "Nuestra ubicación te permitirá descubrir por tu propio pie la historia de Madrid. Si te gusta caminar, podrás llegar a la Puerta del Sol en tan solo 15 minutos, y si lo tuyo es aprovechar el transporte público, estamos a una parada de metro.\nDisfruta del momento de tu  desayuno en la tranquilidad de nuestro patio interior.\nNuestras habitaciones ofrecen lo esencial que necesita para disfrutar de tu visita a Madrid.\nNo dudes en acudir a recepción para lo que necesites, estamos 24 horas a tu disposición.",
         "4.3"
        ],
        [
         "2",
         "ibis Styles Madrid Centro Maravillas",
         "ibis Styles Madrid Centro Maravillas es un hotel boutique en Malasaña inspirado en el histórico Teatro Maravillas, ideal para explorar Madrid a pie. Situado junto al metro de Bilbao permite un rápido acceso a la Puerta del Sol, Palacio Real, Parque del Retiro y Museos como el Prado y el Reina Sofía. Cuenta con 64 habitaciones con cómodas camas Sweet Bed by Ibis, wifi gratuito, recepción 24h y snack bar todo el día. El lugar perfecto para descubrir el corazón cultural de Madrid y su vida nocturna.",
         "4.7"
        ],
        [
         "3",
         "ibis budget Madrid Calle 30",
         "Tú, si tú! buscas un hotel ibis budget Madrid Calle 30 ¡tu mejor opción de hotel económico en el centro de Madrid y junto a las estaciones de Méndez Álvaro y Atocha! Para tus viajes, elige dormir en una habitación cómoda, moderna, 100%  No fumador, equipada con ducha, aseo, TV, y  WIFI gratuito, todo al mejor precio. Por la mañana, disfruta  de un completo y equilibrado desayuno buffet. En las inmediaciones dispones de un parking de pago.  También puedes traer a tu mascota a tu hotel favorito.",
         "4.3"
        ],
        [
         "4",
         "ibis Madrid Centro las Ventas",
         "El hotel ibis Madrid Centro las Ventas tiene un perfecto acceso el centro histórico de Madrid. Se encuentra junto  a la emblemática Plaza de Toros de las Ventas y goza de una perfecta comunicación con el Metro. Podrá acercarse en pocos minutos al Museo del Prado y al bullicioso entorno de la Puerta del Sol,  donde podrá disfrutar de magníficos restaurantes tradicionales o modernos y los grandes almacenes más importantes de Madrid para hacer sus compras.",
         "4.5"
        ],
        [
         "5",
         "ibis budget Madrid Centro las Ventas",
         "Ibis budget Madrid Centro está situado a 15 minutos del recinto ferial IFEMA y a 5 km del aeropuerto. Si buscas un hotel económico en Madrid, este es ideal! Situado junto a Las Ventas y la Calle Alcalá, frente al metro El Carmen, bien conectado con el centro ciudad. Las habitaciones  están equipadas con aire acond, calefacción ,WIFI y desayuno buffet. El parking cuenta con plazas limitadas y no se garantiza este servicio. Contactar por teléfono el mismo día de llegada para reservar una si está disponible.",
         "4.3"
        ],
        [
         "6",
         "ibis Styles Madrid City Las Ventas",
         "Junto  a la principal arteria madrileña está ubicado nuestro ibis Styles, el diseño del hotel es moderno y sorprendente y con  un ambiente dinámico y desenfaado.\nLas habitaciones están diseñadas para su ofrecer el mayor confort. \nDispone de 96 habitaciones, totalmente renovadas, WIFI Gratuito , recepción 24h, piscina de verano, restaurante, bar y parking. Un hotel innovador con facil acceso al aeropueto, Ifema, Palacio de congresos o los mejores museos de Madrid.",
         "4.6"
        ],
        [
         "7",
         "ibis budget Madrid Calle Alcalá",
         "El ibis budget Madrid Calle Alcalá es el punto de partida perfecto desde el que visitar el centro de Madrid o el recinto ferial de IFEMA. ¿O tal vez vienes a animar a tu equipo en su próximo partido en el estadio Riyad Air Metropolitano? No importa si viajas por ocio o por negocios, empieza el día con el delicioso desayuno tipo bufé con café, bollería, frutas o cereales, y planea tus actividades desde el salón común o desde el escritorio de tu habitación, gracias al wifi gratuito en todo el hotel.",
         "4.3"
        ],
        [
         "8",
         "ibis Madrid Calle Alcalá",
         "Bienvenido al hotel ibis Madrid Calle Alcalá, ideal para tus viajes de ocio en familia y de negocio. Recorre Madrid desde nuestro hotel gracias a su ubicación en plena calle Alcalá, puedes estar en el centro en menos de 30 minutos. Además, podrás disponer de habitaciones muy cómodas y equipadas con WIFI gratuito, calefacción o aire acondicionado (según temporada), preparadas para el descanso, con una cama de lujo \"Sweet Bed by ibis\".  Siempre te recibirá personal muy atento.",
         "4.5"
        ],
        [
         "9",
         "ibis budget Madrid Vallecas",
         "ibis budget Madrid Vallecas es un hotel moderno a solo 20 minutos del centro de Madrid. Nuestras 98 habitaciones, cómodas y funcionales, están totalmente equipadas para estancias tanto de ocio como de negocios. Aprovecha nuestra ubicación para olvidarte del coche en nuestro parking privado subterráneo y desplazarte en metro o bus. Empieza el día con un delicioso desayuno bufé continental y planifica tu jornada gracias a nuestro wifi gratuito de alta velocidad, disponible en todas nuestras instalaciones.",
         "4.2"
        ]
       ],
       "shape": {
        "columns": 3,
        "rows": 10
       }
      },
      "text/html": [
       "<div>\n",
       "<style scoped>\n",
       "    .dataframe tbody tr th:only-of-type {\n",
       "        vertical-align: middle;\n",
       "    }\n",
       "\n",
       "    .dataframe tbody tr th {\n",
       "        vertical-align: top;\n",
       "    }\n",
       "\n",
       "    .dataframe thead th {\n",
       "        text-align: right;\n",
       "    }\n",
       "</style>\n",
       "<table border=\"1\" class=\"dataframe\">\n",
       "  <thead>\n",
       "    <tr style=\"text-align: right;\">\n",
       "      <th></th>\n",
       "      <th>nombre_hotel</th>\n",
       "      <th>descripcion</th>\n",
       "      <th>valoracion</th>\n",
       "    </tr>\n",
       "  </thead>\n",
       "  <tbody>\n",
       "    <tr>\n",
       "      <th>0</th>\n",
       "      <td>ibis Styles Madrid Prado</td>\n",
       "      <td>Estamos en el centro de Madrid, con una ubicac...</td>\n",
       "      <td>4.7</td>\n",
       "    </tr>\n",
       "    <tr>\n",
       "      <th>1</th>\n",
       "      <td>ibis budget Madrid Centro Lavapies</td>\n",
       "      <td>Nuestra ubicación te permitirá descubrir por t...</td>\n",
       "      <td>4.3</td>\n",
       "    </tr>\n",
       "    <tr>\n",
       "      <th>2</th>\n",
       "      <td>ibis Styles Madrid Centro Maravillas</td>\n",
       "      <td>ibis Styles Madrid Centro Maravillas es un hot...</td>\n",
       "      <td>4.7</td>\n",
       "    </tr>\n",
       "    <tr>\n",
       "      <th>3</th>\n",
       "      <td>ibis budget Madrid Calle 30</td>\n",
       "      <td>Tú, si tú! buscas un hotel ibis budget Madrid ...</td>\n",
       "      <td>4.3</td>\n",
       "    </tr>\n",
       "    <tr>\n",
       "      <th>4</th>\n",
       "      <td>ibis Madrid Centro las Ventas</td>\n",
       "      <td>El hotel ibis Madrid Centro las Ventas tiene u...</td>\n",
       "      <td>4.5</td>\n",
       "    </tr>\n",
       "    <tr>\n",
       "      <th>5</th>\n",
       "      <td>ibis budget Madrid Centro las Ventas</td>\n",
       "      <td>Ibis budget Madrid Centro está situado a 15 mi...</td>\n",
       "      <td>4.3</td>\n",
       "    </tr>\n",
       "    <tr>\n",
       "      <th>6</th>\n",
       "      <td>ibis Styles Madrid City Las Ventas</td>\n",
       "      <td>Junto  a la principal arteria madrileña está u...</td>\n",
       "      <td>4.6</td>\n",
       "    </tr>\n",
       "    <tr>\n",
       "      <th>7</th>\n",
       "      <td>ibis budget Madrid Calle Alcalá</td>\n",
       "      <td>El ibis budget Madrid Calle Alcalá es el punto...</td>\n",
       "      <td>4.3</td>\n",
       "    </tr>\n",
       "    <tr>\n",
       "      <th>8</th>\n",
       "      <td>ibis Madrid Calle Alcalá</td>\n",
       "      <td>Bienvenido al hotel ibis Madrid Calle Alcalá, ...</td>\n",
       "      <td>4.5</td>\n",
       "    </tr>\n",
       "    <tr>\n",
       "      <th>9</th>\n",
       "      <td>ibis budget Madrid Vallecas</td>\n",
       "      <td>ibis budget Madrid Vallecas es un hotel modern...</td>\n",
       "      <td>4.2</td>\n",
       "    </tr>\n",
       "  </tbody>\n",
       "</table>\n",
       "</div>"
      ],
      "text/plain": [
       "                           nombre_hotel  \\\n",
       "0              ibis Styles Madrid Prado   \n",
       "1    ibis budget Madrid Centro Lavapies   \n",
       "2  ibis Styles Madrid Centro Maravillas   \n",
       "3           ibis budget Madrid Calle 30   \n",
       "4         ibis Madrid Centro las Ventas   \n",
       "5  ibis budget Madrid Centro las Ventas   \n",
       "6    ibis Styles Madrid City Las Ventas   \n",
       "7       ibis budget Madrid Calle Alcalá   \n",
       "8              ibis Madrid Calle Alcalá   \n",
       "9           ibis budget Madrid Vallecas   \n",
       "\n",
       "                                         descripcion  valoracion  \n",
       "0  Estamos en el centro de Madrid, con una ubicac...         4.7  \n",
       "1  Nuestra ubicación te permitirá descubrir por t...         4.3  \n",
       "2  ibis Styles Madrid Centro Maravillas es un hot...         4.7  \n",
       "3  Tú, si tú! buscas un hotel ibis budget Madrid ...         4.3  \n",
       "4  El hotel ibis Madrid Centro las Ventas tiene u...         4.5  \n",
       "5  Ibis budget Madrid Centro está situado a 15 mi...         4.3  \n",
       "6  Junto  a la principal arteria madrileña está u...         4.6  \n",
       "7  El ibis budget Madrid Calle Alcalá es el punto...         4.3  \n",
       "8  Bienvenido al hotel ibis Madrid Calle Alcalá, ...         4.5  \n",
       "9  ibis budget Madrid Vallecas es un hotel modern...         4.2  "
      ]
     },
     "execution_count": 66,
     "metadata": {},
     "output_type": "execute_result"
    }
   ],
   "source": [
    "df_hoteles = pd.DataFrame(dictio_scrap)\n",
    "df_hoteles"
   ]
  },
  {
   "cell_type": "code",
   "execution_count": 67,
   "metadata": {},
   "outputs": [
    {
     "name": "stdout",
     "output_type": "stream",
     "text": [
      "<class 'pandas.core.frame.DataFrame'>\n",
      "RangeIndex: 10 entries, 0 to 9\n",
      "Data columns (total 3 columns):\n",
      " #   Column        Non-Null Count  Dtype  \n",
      "---  ------        --------------  -----  \n",
      " 0   nombre_hotel  10 non-null     object \n",
      " 1   descripcion   10 non-null     object \n",
      " 2   valoracion    10 non-null     float64\n",
      "dtypes: float64(1), object(2)\n",
      "memory usage: 372.0+ bytes\n"
     ]
    }
   ],
   "source": [
    "df_hoteles.info()"
   ]
  },
  {
   "cell_type": "code",
   "execution_count": 68,
   "metadata": {},
   "outputs": [],
   "source": [
    "def scrap_info_hoteles(url):\n",
    "    dictio_scrap = {\n",
    "        \"nombre_hotel\": [],\n",
    "        \"id_hotel\": [],\n",
    "        \"descripcion\": [],\n",
    "        \"valoracion\": []\n",
    "    }\n",
    "\n",
    "    res_hoteles = requests.get(url)\n",
    "\n",
    "    if res_hoteles.status_code == 200:\n",
    "        sopa_hoteles = bs(res_hoteles.content, \"html.parser\")\n",
    "\n",
    "        # Buscar los hoteles y manejar caso en que la lista esté vacía\n",
    "        hoteles = sopa_hoteles.find_all(\"li\", class_=\"aem-GridColumn aem-GridColumn--default--3\")\n",
    "        hoteles = hoteles[:9] if hoteles else []  # Evita errores de slicing si está vacío\n",
    "\n",
    "        for hotel in hoteles:\n",
    "            # Extraer nombre del hotel\n",
    "            nombre = hotel.find(\"h3\")\n",
    "            nombre_hotel = nombre.get_text(strip=True) if nombre else \"Sin nombre\"\n",
    "\n",
    "            # Extraer descripción\n",
    "            descripcion = hotel.find(\"p\")\n",
    "            descripcion_texto = descripcion.get_text(strip=True) if descripcion else \"Sin descripción\"\n",
    "\n",
    "            # Extraer valoración\n",
    "            valoracion = hotel.find(\"span\", class_=\"cmp-teaser__rating-score\")\n",
    "            valoracion_texto = valoracion.get_text(strip=True) if valoracion else \"Sin valoración\"\n",
    "\n",
    "            # Limpiar y convertir la valoración a float\n",
    "            if valoracion_texto != \"Sin valoración\":\n",
    "                valoracion_texto = valoracion_texto.split(\"/\")[0]  # Tomar solo el número antes de \"/\"\n",
    "                valoracion_texto = valoracion_texto.replace(\",\", \".\")  # Convertir \"4,7\" a \"4.7\"\n",
    "                try:\n",
    "                    valoracion_texto = float(valoracion_texto)\n",
    "                except ValueError:\n",
    "                    valoracion_texto = \"Error en conversión\"\n",
    "\n",
    "            ids_hoteles = []\n",
    "            # Extraer el ID desde el atributo \"data-product-id\" para poder sacar el precio_noche de cada hotel.\n",
    "            div_info = hotel.find(\"div\", class_=\"cmp-teaser ace-callout-component ace-callout-component-default\")\n",
    "            \n",
    "            if div_info and \"data-product-id\" in div_info.attrs:\n",
    "                id_hotel = div_info[\"data-product-id\"]\n",
    "            else:\n",
    "                id_hotel = \"Sin ID\"\n",
    "\n",
    "            # Agregar datos al diccionario\n",
    "            dictio_scrap[\"nombre_hotel\"].append(nombre_hotel)\n",
    "            dictio_scrap[\"id_hotel\"].append(id_hotel)\n",
    "            dictio_scrap[\"descripcion\"].append(descripcion_texto)\n",
    "            dictio_scrap[\"valoracion\"].append(valoracion_texto)\n",
    "\n",
    "    return dictio_scrap"
   ]
  },
  {
   "cell_type": "code",
   "execution_count": 69,
   "metadata": {},
   "outputs": [
    {
     "data": {
      "application/vnd.microsoft.datawrangler.viewer.v0+json": {
       "columns": [
        {
         "name": "index",
         "rawType": "int64",
         "type": "integer"
        },
        {
         "name": "nombre_hotel",
         "rawType": "object",
         "type": "string"
        },
        {
         "name": "id_hotel",
         "rawType": "object",
         "type": "string"
        },
        {
         "name": "descripcion",
         "rawType": "object",
         "type": "string"
        },
        {
         "name": "valoracion",
         "rawType": "float64",
         "type": "float"
        }
       ],
       "conversionMethod": "pd.DataFrame",
       "ref": "dd004208-8a7c-45fd-8f90-1628d3ca8a0b",
       "rows": [
        [
         "0",
         "ibis Styles Madrid Prado",
         "8052",
         "Estamos en el centro de Madrid, con una ubicación privilegiada en el Barrio de las Letras. Podrás visitar a pié  los principales puntos más turísticos.\nAntes de ir a tus reuniones del día o descubrir la ciudad, comienza el día lleno de energía con nuestro desayuno buffet, en el que tenemos una amplia variedad de productos de calidad.\nLas 48 habitaciones tienen una decoración sencilla, alegre y dinámica y ofrecen funcionalidad y comodidad.  Los niños hasta 15 años se alojan gratis.  \nHotel pet-friendly.",
         "4.7"
        ],
        [
         "1",
         "ibis budget Madrid Centro Lavapies",
         "A0F2",
         "Nuestra ubicación te permitirá descubrir por tu propio pie la historia de Madrid. Si te gusta caminar, podrás llegar a la Puerta del Sol en tan solo 15 minutos, y si lo tuyo es aprovechar el transporte público, estamos a una parada de metro.\nDisfruta del momento de tu  desayuno en la tranquilidad de nuestro patio interior.\nNuestras habitaciones ofrecen lo esencial que necesita para disfrutar de tu visita a Madrid.\nNo dudes en acudir a recepción para lo que necesites, estamos 24 horas a tu disposición.",
         "4.3"
        ],
        [
         "2",
         "ibis Styles Madrid Centro Maravillas",
         "3318",
         "ibis Styles Madrid Centro Maravillas es un hotel boutique en Malasaña inspirado en el histórico Teatro Maravillas, ideal para explorar Madrid a pie. Situado junto al metro de Bilbao permite un rápido acceso a la Puerta del Sol, Palacio Real, Parque del Retiro y Museos como el Prado y el Reina Sofía. Cuenta con 64 habitaciones con cómodas camas Sweet Bed by Ibis, wifi gratuito, recepción 24h y snack bar todo el día. El lugar perfecto para descubrir el corazón cultural de Madrid y su vida nocturna.",
         "4.7"
        ],
        [
         "3",
         "ibis budget Madrid Calle 30",
         "8718",
         "Tú, si tú! buscas un hotel ibis budget Madrid Calle 30 ¡tu mejor opción de hotel económico en el centro de Madrid y junto a las estaciones de Méndez Álvaro y Atocha! Para tus viajes, elige dormir en una habitación cómoda, moderna, 100%  No fumador, equipada con ducha, aseo, TV, y  WIFI gratuito, todo al mejor precio. Por la mañana, disfruta  de un completo y equilibrado desayuno buffet. En las inmediaciones dispones de un parking de pago.  También puedes traer a tu mascota a tu hotel favorito.",
         "4.3"
        ],
        [
         "4",
         "ibis Madrid Centro las Ventas",
         "7438",
         "El hotel ibis Madrid Centro las Ventas tiene un perfecto acceso el centro histórico de Madrid. Se encuentra junto  a la emblemática Plaza de Toros de las Ventas y goza de una perfecta comunicación con el Metro. Podrá acercarse en pocos minutos al Museo del Prado y al bullicioso entorno de la Puerta del Sol,  donde podrá disfrutar de magníficos restaurantes tradicionales o modernos y los grandes almacenes más importantes de Madrid para hacer sus compras.",
         "4.5"
        ],
        [
         "5",
         "ibis budget Madrid Centro las Ventas",
         "6506",
         "Ibis budget Madrid Centro está situado a 15 minutos del recinto ferial IFEMA y a 5 km del aeropuerto. Si buscas un hotel económico en Madrid, este es ideal! Situado junto a Las Ventas y la Calle Alcalá, frente al metro El Carmen, bien conectado con el centro ciudad. Las habitaciones  están equipadas con aire acond, calefacción ,WIFI y desayuno buffet. El parking cuenta con plazas limitadas y no se garantiza este servicio. Contactar por teléfono el mismo día de llegada para reservar una si está disponible.",
         "4.3"
        ],
        [
         "6",
         "ibis Styles Madrid City Las Ventas",
         "B4U5",
         "Junto  a la principal arteria madrileña está ubicado nuestro ibis Styles, el diseño del hotel es moderno y sorprendente y con  un ambiente dinámico y desenfaado.\nLas habitaciones están diseñadas para su ofrecer el mayor confort. \nDispone de 96 habitaciones, totalmente renovadas, WIFI Gratuito , recepción 24h, piscina de verano, restaurante, bar y parking. Un hotel innovador con facil acceso al aeropueto, Ifema, Palacio de congresos o los mejores museos de Madrid.",
         "4.6"
        ],
        [
         "7",
         "ibis budget Madrid Calle Alcalá",
         "5100",
         "El ibis budget Madrid Calle Alcalá es el punto de partida perfecto desde el que visitar el centro de Madrid o el recinto ferial de IFEMA. ¿O tal vez vienes a animar a tu equipo en su próximo partido en el estadio Riyad Air Metropolitano? No importa si viajas por ocio o por negocios, empieza el día con el delicioso desayuno tipo bufé con café, bollería, frutas o cereales, y planea tus actividades desde el salón común o desde el escritorio de tu habitación, gracias al wifi gratuito en todo el hotel.",
         "4.3"
        ],
        [
         "8",
         "ibis Madrid Calle Alcalá",
         "3312",
         "Bienvenido al hotel ibis Madrid Calle Alcalá, ideal para tus viajes de ocio en familia y de negocio. Recorre Madrid desde nuestro hotel gracias a su ubicación en plena calle Alcalá, puedes estar en el centro en menos de 30 minutos. Además, podrás disponer de habitaciones muy cómodas y equipadas con WIFI gratuito, calefacción o aire acondicionado (según temporada), preparadas para el descanso, con una cama de lujo \"Sweet Bed by ibis\".  Siempre te recibirá personal muy atento.",
         "4.5"
        ]
       ],
       "shape": {
        "columns": 4,
        "rows": 9
       }
      },
      "text/html": [
       "<div>\n",
       "<style scoped>\n",
       "    .dataframe tbody tr th:only-of-type {\n",
       "        vertical-align: middle;\n",
       "    }\n",
       "\n",
       "    .dataframe tbody tr th {\n",
       "        vertical-align: top;\n",
       "    }\n",
       "\n",
       "    .dataframe thead th {\n",
       "        text-align: right;\n",
       "    }\n",
       "</style>\n",
       "<table border=\"1\" class=\"dataframe\">\n",
       "  <thead>\n",
       "    <tr style=\"text-align: right;\">\n",
       "      <th></th>\n",
       "      <th>nombre_hotel</th>\n",
       "      <th>id_hotel</th>\n",
       "      <th>descripcion</th>\n",
       "      <th>valoracion</th>\n",
       "    </tr>\n",
       "  </thead>\n",
       "  <tbody>\n",
       "    <tr>\n",
       "      <th>0</th>\n",
       "      <td>ibis Styles Madrid Prado</td>\n",
       "      <td>8052</td>\n",
       "      <td>Estamos en el centro de Madrid, con una ubicac...</td>\n",
       "      <td>4.7</td>\n",
       "    </tr>\n",
       "    <tr>\n",
       "      <th>1</th>\n",
       "      <td>ibis budget Madrid Centro Lavapies</td>\n",
       "      <td>A0F2</td>\n",
       "      <td>Nuestra ubicación te permitirá descubrir por t...</td>\n",
       "      <td>4.3</td>\n",
       "    </tr>\n",
       "    <tr>\n",
       "      <th>2</th>\n",
       "      <td>ibis Styles Madrid Centro Maravillas</td>\n",
       "      <td>3318</td>\n",
       "      <td>ibis Styles Madrid Centro Maravillas es un hot...</td>\n",
       "      <td>4.7</td>\n",
       "    </tr>\n",
       "    <tr>\n",
       "      <th>3</th>\n",
       "      <td>ibis budget Madrid Calle 30</td>\n",
       "      <td>8718</td>\n",
       "      <td>Tú, si tú! buscas un hotel ibis budget Madrid ...</td>\n",
       "      <td>4.3</td>\n",
       "    </tr>\n",
       "    <tr>\n",
       "      <th>4</th>\n",
       "      <td>ibis Madrid Centro las Ventas</td>\n",
       "      <td>7438</td>\n",
       "      <td>El hotel ibis Madrid Centro las Ventas tiene u...</td>\n",
       "      <td>4.5</td>\n",
       "    </tr>\n",
       "    <tr>\n",
       "      <th>5</th>\n",
       "      <td>ibis budget Madrid Centro las Ventas</td>\n",
       "      <td>6506</td>\n",
       "      <td>Ibis budget Madrid Centro está situado a 15 mi...</td>\n",
       "      <td>4.3</td>\n",
       "    </tr>\n",
       "    <tr>\n",
       "      <th>6</th>\n",
       "      <td>ibis Styles Madrid City Las Ventas</td>\n",
       "      <td>B4U5</td>\n",
       "      <td>Junto  a la principal arteria madrileña está u...</td>\n",
       "      <td>4.6</td>\n",
       "    </tr>\n",
       "    <tr>\n",
       "      <th>7</th>\n",
       "      <td>ibis budget Madrid Calle Alcalá</td>\n",
       "      <td>5100</td>\n",
       "      <td>El ibis budget Madrid Calle Alcalá es el punto...</td>\n",
       "      <td>4.3</td>\n",
       "    </tr>\n",
       "    <tr>\n",
       "      <th>8</th>\n",
       "      <td>ibis Madrid Calle Alcalá</td>\n",
       "      <td>3312</td>\n",
       "      <td>Bienvenido al hotel ibis Madrid Calle Alcalá, ...</td>\n",
       "      <td>4.5</td>\n",
       "    </tr>\n",
       "  </tbody>\n",
       "</table>\n",
       "</div>"
      ],
      "text/plain": [
       "                           nombre_hotel id_hotel  \\\n",
       "0              ibis Styles Madrid Prado     8052   \n",
       "1    ibis budget Madrid Centro Lavapies     A0F2   \n",
       "2  ibis Styles Madrid Centro Maravillas     3318   \n",
       "3           ibis budget Madrid Calle 30     8718   \n",
       "4         ibis Madrid Centro las Ventas     7438   \n",
       "5  ibis budget Madrid Centro las Ventas     6506   \n",
       "6    ibis Styles Madrid City Las Ventas     B4U5   \n",
       "7       ibis budget Madrid Calle Alcalá     5100   \n",
       "8              ibis Madrid Calle Alcalá     3312   \n",
       "\n",
       "                                         descripcion  valoracion  \n",
       "0  Estamos en el centro de Madrid, con una ubicac...         4.7  \n",
       "1  Nuestra ubicación te permitirá descubrir por t...         4.3  \n",
       "2  ibis Styles Madrid Centro Maravillas es un hot...         4.7  \n",
       "3  Tú, si tú! buscas un hotel ibis budget Madrid ...         4.3  \n",
       "4  El hotel ibis Madrid Centro las Ventas tiene u...         4.5  \n",
       "5  Ibis budget Madrid Centro está situado a 15 mi...         4.3  \n",
       "6  Junto  a la principal arteria madrileña está u...         4.6  \n",
       "7  El ibis budget Madrid Calle Alcalá es el punto...         4.3  \n",
       "8  Bienvenido al hotel ibis Madrid Calle Alcalá, ...         4.5  "
      ]
     },
     "execution_count": 69,
     "metadata": {},
     "output_type": "execute_result"
    }
   ],
   "source": [
    "dictio_final = scrap_info_hoteles(url_hoteles)\n",
    "df = pd.DataFrame(dictio_final)\n",
    "df"
   ]
  },
  {
   "cell_type": "code",
   "execution_count": 70,
   "metadata": {},
   "outputs": [
    {
     "name": "stdout",
     "output_type": "stream",
     "text": [
      "<class 'pandas.core.frame.DataFrame'>\n",
      "RangeIndex: 9 entries, 0 to 8\n",
      "Data columns (total 4 columns):\n",
      " #   Column        Non-Null Count  Dtype  \n",
      "---  ------        --------------  -----  \n",
      " 0   nombre_hotel  9 non-null      object \n",
      " 1   id_hotel      9 non-null      object \n",
      " 2   descripcion   9 non-null      object \n",
      " 3   valoracion    9 non-null      float64\n",
      "dtypes: float64(1), object(3)\n",
      "memory usage: 420.0+ bytes\n"
     ]
    }
   ],
   "source": [
    "df.info()"
   ]
  },
  {
   "cell_type": "code",
   "execution_count": 71,
   "metadata": {},
   "outputs": [],
   "source": [
    "df.to_csv(\"../data/10_hoteles_competencia.csv\", index=False)"
   ]
  },
  {
   "cell_type": "code",
   "execution_count": 72,
   "metadata": {},
   "outputs": [],
   "source": [
    "# Lista para almacenar los ID de los hoteles\n",
    "ids_hoteles = []\n",
    "\n",
    "# Iterar sobre cada hotel y extraer el ID\n",
    "for hotel in hoteles:\n",
    "    # Extraer el ID desde el atributo \"data-product-id\"\n",
    "    div_info = hotel.find(\"div\", class_=\"cmp-teaser ace-callout-component ace-callout-component-default\")\n",
    "    \n",
    "    if div_info and \"data-product-id\" in div_info.attrs:\n",
    "        id_hotel = div_info[\"data-product-id\"]\n",
    "    else:\n",
    "        id_hotel = \"Sin ID\"\n",
    "\n",
    "    ids_hoteles.append(id_hotel)\n"
   ]
  },
  {
   "cell_type": "code",
   "execution_count": 73,
   "metadata": {},
   "outputs": [],
   "source": [
    "url_id = \"https://all.accor.com/hotel/8052/index.es.shtml\""
   ]
  },
  {
   "cell_type": "code",
   "execution_count": 78,
   "metadata": {},
   "outputs": [
    {
     "data": {
      "text/plain": [
       "200"
      ]
     },
     "execution_count": 78,
     "metadata": {},
     "output_type": "execute_result"
    }
   ],
   "source": [
    "respuesta_id = requests.get(url_id)\n",
    "respuesta_id.status_code"
   ]
  },
  {
   "cell_type": "code",
   "execution_count": 79,
   "metadata": {},
   "outputs": [],
   "source": [
    "sopa_id = bs(respuesta_id.content, \"html.parser\")"
   ]
  },
  {
   "cell_type": "code",
   "execution_count": 84,
   "metadata": {},
   "outputs": [],
   "source": [
    "precio = sopa_id.find(\"span\", class_=\"amount\")"
   ]
  },
  {
   "cell_type": "code",
   "execution_count": 85,
   "metadata": {},
   "outputs": [
    {
     "data": {
      "text/plain": [
       "<span class=\"amount\">NaN</span>"
      ]
     },
     "execution_count": 85,
     "metadata": {},
     "output_type": "execute_result"
    }
   ],
   "source": [
    "if precio:\n",
    "    noche_hotel = precio.get_text(strip=True)\n",
    "\n",
    "precio\n"
   ]
  },
  {
   "cell_type": "code",
   "execution_count": 95,
   "metadata": {},
   "outputs": [],
   "source": [
    "def obtener_precio_hotel(codigo_hotel):\n",
    "    \"\"\"\n",
    "    Extrae el precio por noche desde la página individual del hotel.\n",
    "\n",
    "    Parámetros:\n",
    "    - codigo_hotel (str): Código único del hotel en la URL.\n",
    "\n",
    "    Retorna:\n",
    "    - float o \"Sin precio\": Precio por noche si se encuentra, o un mensaje de error.\n",
    "    \"\"\"\n",
    "    url_hotel = f\"https://all.accor.com/hotel/{codigo_hotel}/index.es.shtml\"\n",
    "    res = requests.get(url_hotel)\n",
    "\n",
    "    if res.status_code != 200:\n",
    "        return \"Sin precio\"\n",
    "\n",
    "    sopa = bs(res.content, \"html.parser\")\n",
    "\n",
    "    # Buscar el precio dentro del <span class=\"amount\">\n",
    "    precio = sopa.find(\"span\", class_=\"amount\")\n",
    "\n",
    "    if precio:\n",
    "        noche_hotel = precio.get_text(strip=True)\n",
    "\n",
    "        # Convertir el precio a número si se encuentra\n",
    "        try:\n",
    "            noche_hotel = float(noche_hotel.replace(\",\", \".\").strip())  # Reemplazar coma por punto para formato numérico\n",
    "        except ValueError:\n",
    "            noche_hotel = \"Error en conversión\"\n",
    "    else:\n",
    "        noche_hotel = \"Sin precio\"\n",
    "\n",
    "    return noche_hotel"
   ]
  },
  {
   "cell_type": "code",
   "execution_count": 96,
   "metadata": {},
   "outputs": [
    {
     "data": {
      "text/plain": [
       "nan"
      ]
     },
     "execution_count": 96,
     "metadata": {},
     "output_type": "execute_result"
    }
   ],
   "source": [
    "id_hotel = df[\"id_hotel\"][4]\n",
    "obtener_precio_hotel(id_hotel)"
   ]
  },
  {
   "cell_type": "code",
   "execution_count": 97,
   "metadata": {},
   "outputs": [],
   "source": [
    "def scrap_info_hoteles(url):\n",
    "    \"\"\"\n",
    "    Extrae información de hoteles desde la página de lista y obtiene el precio por noche de cada uno.\n",
    "\n",
    "    Parámetros:\n",
    "    - url (str): URL de la página con la lista de hoteles.\n",
    "\n",
    "    Retorna:\n",
    "    - dict: Un diccionario con la información y el precio de cada hotel.\n",
    "    \"\"\"\n",
    "    dictio_scrap = {\n",
    "        \"nombre_hotel\": [],\n",
    "        \"id_hotel\": [],\n",
    "        \"descripcion\": [],\n",
    "        \"valoracion\": [],\n",
    "        \"precio_noche\": []  # ✅ Se añade la columna de precio\n",
    "    }\n",
    "\n",
    "    res_hoteles = requests.get(url)\n",
    "\n",
    "    if res_hoteles.status_code == 200:\n",
    "        sopa_hoteles = bs(res_hoteles.content, \"html.parser\")\n",
    "\n",
    "        # Buscar los hoteles y manejar caso en que la lista esté vacía\n",
    "        hoteles = sopa_hoteles.find_all(\"li\", class_=\"aem-GridColumn aem-GridColumn--default--3\")\n",
    "        hoteles = hoteles[:9] if hoteles else []  # Evita errores de slicing si está vacío\n",
    "\n",
    "        for hotel in hoteles:\n",
    "            # Extraer nombre del hotel\n",
    "            nombre = hotel.find(\"h3\")\n",
    "            nombre_hotel = nombre.get_text(strip=True) if nombre else \"Sin nombre\"\n",
    "\n",
    "            # Extraer descripción\n",
    "            descripcion = hotel.find(\"p\")\n",
    "            descripcion_texto = descripcion.get_text(strip=True) if descripcion else \"Sin descripción\"\n",
    "\n",
    "            # Extraer valoración\n",
    "            valoracion = hotel.find(\"span\", class_=\"cmp-teaser__rating-score\")\n",
    "            valoracion_texto = valoracion.get_text(strip=True) if valoracion else \"Sin valoración\"\n",
    "\n",
    "            # Limpiar y convertir la valoración a float\n",
    "            if valoracion_texto != \"Sin valoración\":\n",
    "                valoracion_texto = valoracion_texto.split(\"/\")[0]  # Tomar solo el número antes de \"/\"\n",
    "                valoracion_texto = valoracion_texto.replace(\",\", \".\")  # Convertir \"4,7\" a \"4.7\"\n",
    "                try:\n",
    "                    valoracion_texto = float(valoracion_texto)\n",
    "                except ValueError:\n",
    "                    valoracion_texto = \"Error en conversión\"\n",
    "\n",
    "            # Extraer el ID del hotel\n",
    "            div_info = hotel.find(\"div\", class_=\"cmp-teaser ace-callout-component ace-callout-component-default\")\n",
    "            if div_info and \"data-product-id\" in div_info.attrs:\n",
    "                id_hotel = div_info[\"data-product-id\"]\n",
    "            else:\n",
    "                id_hotel = \"Sin ID\"\n",
    "\n",
    "            # ✅ Obtener el precio del hotel usando el ID\n",
    "            precio_noche = obtener_precio_hotel(id_hotel) if id_hotel != \"Sin ID\" else \"Sin precio\"\n",
    "\n",
    "            # Agregar datos al diccionario\n",
    "            dictio_scrap[\"nombre_hotel\"].append(nombre_hotel)\n",
    "            dictio_scrap[\"id_hotel\"].append(id_hotel)\n",
    "            dictio_scrap[\"descripcion\"].append(descripcion_texto)\n",
    "            dictio_scrap[\"valoracion\"].append(valoracion_texto)\n",
    "            dictio_scrap[\"precio_noche\"].append(precio_noche)  # ✅ Se añade el precio\n",
    "\n",
    "    return dictio_scrap"
   ]
  },
  {
   "cell_type": "code",
   "execution_count": 98,
   "metadata": {},
   "outputs": [
    {
     "data": {
      "application/vnd.microsoft.datawrangler.viewer.v0+json": {
       "columns": [
        {
         "name": "index",
         "rawType": "int64",
         "type": "integer"
        },
        {
         "name": "nombre_hotel",
         "rawType": "object",
         "type": "string"
        },
        {
         "name": "id_hotel",
         "rawType": "object",
         "type": "string"
        },
        {
         "name": "descripcion",
         "rawType": "object",
         "type": "string"
        },
        {
         "name": "valoracion",
         "rawType": "float64",
         "type": "float"
        },
        {
         "name": "precio_noche",
         "rawType": "float64",
         "type": "float"
        }
       ],
       "conversionMethod": "pd.DataFrame",
       "ref": "d5c54a36-291e-4506-842e-b4d0e42b1578",
       "rows": [
        [
         "0",
         "ibis Styles Madrid Prado",
         "8052",
         "Estamos en el centro de Madrid, con una ubicación privilegiada en el Barrio de las Letras. Podrás visitar a pié  los principales puntos más turísticos.\nAntes de ir a tus reuniones del día o descubrir la ciudad, comienza el día lleno de energía con nuestro desayuno buffet, en el que tenemos una amplia variedad de productos de calidad.\nLas 48 habitaciones tienen una decoración sencilla, alegre y dinámica y ofrecen funcionalidad y comodidad.  Los niños hasta 15 años se alojan gratis.  \nHotel pet-friendly.",
         "4.7",
         null
        ],
        [
         "1",
         "ibis budget Madrid Centro Lavapies",
         "A0F2",
         "Nuestra ubicación te permitirá descubrir por tu propio pie la historia de Madrid. Si te gusta caminar, podrás llegar a la Puerta del Sol en tan solo 15 minutos, y si lo tuyo es aprovechar el transporte público, estamos a una parada de metro.\nDisfruta del momento de tu  desayuno en la tranquilidad de nuestro patio interior.\nNuestras habitaciones ofrecen lo esencial que necesita para disfrutar de tu visita a Madrid.\nNo dudes en acudir a recepción para lo que necesites, estamos 24 horas a tu disposición.",
         "4.3",
         null
        ],
        [
         "2",
         "ibis Styles Madrid Centro Maravillas",
         "3318",
         "ibis Styles Madrid Centro Maravillas es un hotel boutique en Malasaña inspirado en el histórico Teatro Maravillas, ideal para explorar Madrid a pie. Situado junto al metro de Bilbao permite un rápido acceso a la Puerta del Sol, Palacio Real, Parque del Retiro y Museos como el Prado y el Reina Sofía. Cuenta con 64 habitaciones con cómodas camas Sweet Bed by Ibis, wifi gratuito, recepción 24h y snack bar todo el día. El lugar perfecto para descubrir el corazón cultural de Madrid y su vida nocturna.",
         "4.7",
         null
        ],
        [
         "3",
         "ibis budget Madrid Calle 30",
         "8718",
         "Tú, si tú! buscas un hotel ibis budget Madrid Calle 30 ¡tu mejor opción de hotel económico en el centro de Madrid y junto a las estaciones de Méndez Álvaro y Atocha! Para tus viajes, elige dormir en una habitación cómoda, moderna, 100%  No fumador, equipada con ducha, aseo, TV, y  WIFI gratuito, todo al mejor precio. Por la mañana, disfruta  de un completo y equilibrado desayuno buffet. En las inmediaciones dispones de un parking de pago.  También puedes traer a tu mascota a tu hotel favorito.",
         "4.3",
         null
        ],
        [
         "4",
         "ibis Madrid Centro las Ventas",
         "7438",
         "El hotel ibis Madrid Centro las Ventas tiene un perfecto acceso el centro histórico de Madrid. Se encuentra junto  a la emblemática Plaza de Toros de las Ventas y goza de una perfecta comunicación con el Metro. Podrá acercarse en pocos minutos al Museo del Prado y al bullicioso entorno de la Puerta del Sol,  donde podrá disfrutar de magníficos restaurantes tradicionales o modernos y los grandes almacenes más importantes de Madrid para hacer sus compras.",
         "4.5",
         null
        ],
        [
         "5",
         "ibis budget Madrid Centro las Ventas",
         "6506",
         "Ibis budget Madrid Centro está situado a 15 minutos del recinto ferial IFEMA y a 5 km del aeropuerto. Si buscas un hotel económico en Madrid, este es ideal! Situado junto a Las Ventas y la Calle Alcalá, frente al metro El Carmen, bien conectado con el centro ciudad. Las habitaciones  están equipadas con aire acond, calefacción ,WIFI y desayuno buffet. El parking cuenta con plazas limitadas y no se garantiza este servicio. Contactar por teléfono el mismo día de llegada para reservar una si está disponible.",
         "4.3",
         null
        ],
        [
         "6",
         "ibis Styles Madrid City Las Ventas",
         "B4U5",
         "Junto  a la principal arteria madrileña está ubicado nuestro ibis Styles, el diseño del hotel es moderno y sorprendente y con  un ambiente dinámico y desenfaado.\nLas habitaciones están diseñadas para su ofrecer el mayor confort. \nDispone de 96 habitaciones, totalmente renovadas, WIFI Gratuito , recepción 24h, piscina de verano, restaurante, bar y parking. Un hotel innovador con facil acceso al aeropueto, Ifema, Palacio de congresos o los mejores museos de Madrid.",
         "4.6",
         null
        ],
        [
         "7",
         "ibis budget Madrid Calle Alcalá",
         "5100",
         "El ibis budget Madrid Calle Alcalá es el punto de partida perfecto desde el que visitar el centro de Madrid o el recinto ferial de IFEMA. ¿O tal vez vienes a animar a tu equipo en su próximo partido en el estadio Riyad Air Metropolitano? No importa si viajas por ocio o por negocios, empieza el día con el delicioso desayuno tipo bufé con café, bollería, frutas o cereales, y planea tus actividades desde el salón común o desde el escritorio de tu habitación, gracias al wifi gratuito en todo el hotel.",
         "4.3",
         null
        ],
        [
         "8",
         "ibis Madrid Calle Alcalá",
         "3312",
         "Bienvenido al hotel ibis Madrid Calle Alcalá, ideal para tus viajes de ocio en familia y de negocio. Recorre Madrid desde nuestro hotel gracias a su ubicación en plena calle Alcalá, puedes estar en el centro en menos de 30 minutos. Además, podrás disponer de habitaciones muy cómodas y equipadas con WIFI gratuito, calefacción o aire acondicionado (según temporada), preparadas para el descanso, con una cama de lujo \"Sweet Bed by ibis\".  Siempre te recibirá personal muy atento.",
         "4.5",
         null
        ]
       ],
       "shape": {
        "columns": 5,
        "rows": 9
       }
      },
      "text/html": [
       "<div>\n",
       "<style scoped>\n",
       "    .dataframe tbody tr th:only-of-type {\n",
       "        vertical-align: middle;\n",
       "    }\n",
       "\n",
       "    .dataframe tbody tr th {\n",
       "        vertical-align: top;\n",
       "    }\n",
       "\n",
       "    .dataframe thead th {\n",
       "        text-align: right;\n",
       "    }\n",
       "</style>\n",
       "<table border=\"1\" class=\"dataframe\">\n",
       "  <thead>\n",
       "    <tr style=\"text-align: right;\">\n",
       "      <th></th>\n",
       "      <th>nombre_hotel</th>\n",
       "      <th>id_hotel</th>\n",
       "      <th>descripcion</th>\n",
       "      <th>valoracion</th>\n",
       "      <th>precio_noche</th>\n",
       "    </tr>\n",
       "  </thead>\n",
       "  <tbody>\n",
       "    <tr>\n",
       "      <th>0</th>\n",
       "      <td>ibis Styles Madrid Prado</td>\n",
       "      <td>8052</td>\n",
       "      <td>Estamos en el centro de Madrid, con una ubicac...</td>\n",
       "      <td>4.7</td>\n",
       "      <td>NaN</td>\n",
       "    </tr>\n",
       "    <tr>\n",
       "      <th>1</th>\n",
       "      <td>ibis budget Madrid Centro Lavapies</td>\n",
       "      <td>A0F2</td>\n",
       "      <td>Nuestra ubicación te permitirá descubrir por t...</td>\n",
       "      <td>4.3</td>\n",
       "      <td>NaN</td>\n",
       "    </tr>\n",
       "    <tr>\n",
       "      <th>2</th>\n",
       "      <td>ibis Styles Madrid Centro Maravillas</td>\n",
       "      <td>3318</td>\n",
       "      <td>ibis Styles Madrid Centro Maravillas es un hot...</td>\n",
       "      <td>4.7</td>\n",
       "      <td>NaN</td>\n",
       "    </tr>\n",
       "    <tr>\n",
       "      <th>3</th>\n",
       "      <td>ibis budget Madrid Calle 30</td>\n",
       "      <td>8718</td>\n",
       "      <td>Tú, si tú! buscas un hotel ibis budget Madrid ...</td>\n",
       "      <td>4.3</td>\n",
       "      <td>NaN</td>\n",
       "    </tr>\n",
       "    <tr>\n",
       "      <th>4</th>\n",
       "      <td>ibis Madrid Centro las Ventas</td>\n",
       "      <td>7438</td>\n",
       "      <td>El hotel ibis Madrid Centro las Ventas tiene u...</td>\n",
       "      <td>4.5</td>\n",
       "      <td>NaN</td>\n",
       "    </tr>\n",
       "    <tr>\n",
       "      <th>5</th>\n",
       "      <td>ibis budget Madrid Centro las Ventas</td>\n",
       "      <td>6506</td>\n",
       "      <td>Ibis budget Madrid Centro está situado a 15 mi...</td>\n",
       "      <td>4.3</td>\n",
       "      <td>NaN</td>\n",
       "    </tr>\n",
       "    <tr>\n",
       "      <th>6</th>\n",
       "      <td>ibis Styles Madrid City Las Ventas</td>\n",
       "      <td>B4U5</td>\n",
       "      <td>Junto  a la principal arteria madrileña está u...</td>\n",
       "      <td>4.6</td>\n",
       "      <td>NaN</td>\n",
       "    </tr>\n",
       "    <tr>\n",
       "      <th>7</th>\n",
       "      <td>ibis budget Madrid Calle Alcalá</td>\n",
       "      <td>5100</td>\n",
       "      <td>El ibis budget Madrid Calle Alcalá es el punto...</td>\n",
       "      <td>4.3</td>\n",
       "      <td>NaN</td>\n",
       "    </tr>\n",
       "    <tr>\n",
       "      <th>8</th>\n",
       "      <td>ibis Madrid Calle Alcalá</td>\n",
       "      <td>3312</td>\n",
       "      <td>Bienvenido al hotel ibis Madrid Calle Alcalá, ...</td>\n",
       "      <td>4.5</td>\n",
       "      <td>NaN</td>\n",
       "    </tr>\n",
       "  </tbody>\n",
       "</table>\n",
       "</div>"
      ],
      "text/plain": [
       "                           nombre_hotel id_hotel  \\\n",
       "0              ibis Styles Madrid Prado     8052   \n",
       "1    ibis budget Madrid Centro Lavapies     A0F2   \n",
       "2  ibis Styles Madrid Centro Maravillas     3318   \n",
       "3           ibis budget Madrid Calle 30     8718   \n",
       "4         ibis Madrid Centro las Ventas     7438   \n",
       "5  ibis budget Madrid Centro las Ventas     6506   \n",
       "6    ibis Styles Madrid City Las Ventas     B4U5   \n",
       "7       ibis budget Madrid Calle Alcalá     5100   \n",
       "8              ibis Madrid Calle Alcalá     3312   \n",
       "\n",
       "                                         descripcion  valoracion  precio_noche  \n",
       "0  Estamos en el centro de Madrid, con una ubicac...         4.7           NaN  \n",
       "1  Nuestra ubicación te permitirá descubrir por t...         4.3           NaN  \n",
       "2  ibis Styles Madrid Centro Maravillas es un hot...         4.7           NaN  \n",
       "3  Tú, si tú! buscas un hotel ibis budget Madrid ...         4.3           NaN  \n",
       "4  El hotel ibis Madrid Centro las Ventas tiene u...         4.5           NaN  \n",
       "5  Ibis budget Madrid Centro está situado a 15 mi...         4.3           NaN  \n",
       "6  Junto  a la principal arteria madrileña está u...         4.6           NaN  \n",
       "7  El ibis budget Madrid Calle Alcalá es el punto...         4.3           NaN  \n",
       "8  Bienvenido al hotel ibis Madrid Calle Alcalá, ...         4.5           NaN  "
      ]
     },
     "execution_count": 98,
     "metadata": {},
     "output_type": "execute_result"
    }
   ],
   "source": [
    "dictio_final = scrap_info_hoteles(url_hoteles)\n",
    "df = pd.DataFrame(dictio_final)\n",
    "df"
   ]
  }
 ],
 "metadata": {
  "kernelspec": {
   "display_name": "venv",
   "language": "python",
   "name": "python3"
  },
  "language_info": {
   "codemirror_mode": {
    "name": "ipython",
    "version": 3
   },
   "file_extension": ".py",
   "mimetype": "text/x-python",
   "name": "python",
   "nbconvert_exporter": "python",
   "pygments_lexer": "ipython3",
   "version": "3.12.4"
  }
 },
 "nbformat": 4,
 "nbformat_minor": 2
}

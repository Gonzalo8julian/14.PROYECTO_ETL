{
 "cells": [
  {
   "cell_type": "code",
   "execution_count": 1,
   "metadata": {},
   "outputs": [],
   "source": [
    "import pandas as pd\n",
    "import numpy as np\n",
    "from bs4 import BeautifulSoup as bs \n",
    "import requests"
   ]
  },
  {
   "cell_type": "code",
   "execution_count": 2,
   "metadata": {},
   "outputs": [],
   "source": [
    "url_hoteles = \"https://ibis.accor.com/es/destination/city/hotels-madrid-v2418.html\""
   ]
  },
  {
   "cell_type": "code",
   "execution_count": 3,
   "metadata": {},
   "outputs": [
    {
     "data": {
      "text/plain": [
       "200"
      ]
     },
     "execution_count": 3,
     "metadata": {},
     "output_type": "execute_result"
    }
   ],
   "source": [
    "respuesta_hoteles = requests.get(url_hoteles)\n",
    "respuesta_hoteles.status_code"
   ]
  },
  {
   "cell_type": "code",
   "execution_count": 4,
   "metadata": {},
   "outputs": [],
   "source": [
    "sopa_hoteles = bs(respuesta_hoteles.content, \"html.parser\")"
   ]
  },
  {
   "cell_type": "code",
   "execution_count": 31,
   "metadata": {},
   "outputs": [
    {
     "data": {
      "text/plain": [
       "10"
      ]
     },
     "execution_count": 31,
     "metadata": {},
     "output_type": "execute_result"
    }
   ],
   "source": [
    "hoteles = sopa_hoteles.find_all(\"li\", class_=\"aem-GridColumn aem-GridColumn--default--3\")[:10]\n",
    "len(hoteles)"
   ]
  },
  {
   "cell_type": "code",
   "execution_count": 32,
   "metadata": {},
   "outputs": [],
   "source": [
    "dictio_scrap = {\n",
    "    \"nombre_hotel\": [],\n",
    "    \"descripcion\": [],\n",
    "    \"valoracion\": []}"
   ]
  },
  {
   "cell_type": "code",
   "execution_count": 33,
   "metadata": {},
   "outputs": [],
   "source": [
    "for hotel in hoteles:\n",
    "    # Nombre del hotel (Ejemplo: en un <h2>, <h3> o <a>)\n",
    "    nombre = hotel.find(\"h3\")\n",
    "    nombre_hotel = nombre.get_text(strip=True) if nombre else \"Sin nombre\"\n",
    "\n",
    "    # Descripción (Ejemplo: en un <p>) \n",
    "    descripcion = hotel.find(\"p\")\n",
    "    descripcion_texto = descripcion.get_text(strip=True) if descripcion else \"Sin descripción\"\n",
    "\n",
    "    # Valoración (Ejemplo: en un <span> con una clase específica)\n",
    "    valoracion = hotel.find(\"span\", class_=\"cmp-teaser__rating-score\")  # Buscar la clase correcta\n",
    "    valoracion_texto = valoracion.get_text(strip=True) if valoracion else \"Sin valoración\"\n",
    "    if valoracion_texto != \"Sin valoración\":\n",
    "        valoracion_texto = valoracion_texto.split(\"/\")[0]  # Tomar solo el número antes de \"/\"\n",
    "        valoracion_texto = valoracion_texto.replace(\",\", \".\")  # Convertir \"4,7\" a \"4.7\"\n",
    "        valoracion_texto = float(valoracion_texto)  # Convertir a número flotante\n",
    "\n",
    "    # Agregar los datos al diccionario\n",
    "    dictio_scrap[\"nombre_hotel\"].append(nombre_hotel)\n",
    "    dictio_scrap[\"descripcion\"].append(descripcion_texto)\n",
    "    dictio_scrap[\"valoracion\"].append(valoracion_texto)"
   ]
  },
  {
   "cell_type": "code",
   "execution_count": 35,
   "metadata": {},
   "outputs": [
    {
     "data": {
      "application/vnd.microsoft.datawrangler.viewer.v0+json": {
       "columns": [
        {
         "name": "index",
         "rawType": "int64",
         "type": "integer"
        },
        {
         "name": "nombre_hotel",
         "rawType": "object",
         "type": "string"
        },
        {
         "name": "descripcion",
         "rawType": "object",
         "type": "string"
        },
        {
         "name": "valoracion",
         "rawType": "float64",
         "type": "float"
        }
       ],
       "conversionMethod": "pd.DataFrame",
       "ref": "23b9f8e8-7ea7-4da7-8604-53a4e60f6d1d",
       "rows": [
        [
         "0",
         "ibis Styles Madrid Prado",
         "Estamos en el centro de Madrid, con una ubicación privilegiada en el Barrio de las Letras. Podrás visitar a pié  los principales puntos más turísticos.\nAntes de ir a tus reuniones del día o descubrir la ciudad, comienza el día lleno de energía con nuestro desayuno buffet, en el que tenemos una amplia variedad de productos de calidad.\nLas 48 habitaciones tienen una decoración sencilla, alegre y dinámica y ofrecen funcionalidad y comodidad.  Los niños hasta 15 años se alojan gratis.  \nHotel pet-friendly.",
         "4.7"
        ],
        [
         "1",
         "ibis budget Madrid Centro Lavapies",
         "Nuestra ubicación te permitirá descubrir por tu propio pie la historia de Madrid. Si te gusta caminar, podrás llegar a la Puerta del Sol en tan solo 15 minutos, y si lo tuyo es aprovechar el transporte público, estamos a una parada de metro.\nDisfruta del momento de tu  desayuno en la tranquilidad de nuestro patio interior.\nNuestras habitaciones ofrecen lo esencial que necesita para disfrutar de tu visita a Madrid.\nNo dudes en acudir a recepción para lo que necesites, estamos 24 horas a tu disposición.",
         "4.3"
        ],
        [
         "2",
         "ibis Styles Madrid Centro Maravillas",
         "ibis Styles Madrid Centro Maravillas es un hotel boutique en Malasaña inspirado en el histórico Teatro Maravillas, ideal para explorar Madrid a pie. Situado junto al metro de Bilbao permite un rápido acceso a la Puerta del Sol, Palacio Real, Parque del Retiro y Museos como el Prado y el Reina Sofía. Cuenta con 64 habitaciones con cómodas camas Sweet Bed by Ibis, wifi gratuito, recepción 24h y snack bar todo el día. El lugar perfecto para descubrir el corazón cultural de Madrid y su vida nocturna.",
         "4.7"
        ],
        [
         "3",
         "ibis budget Madrid Calle 30",
         "Tú, si tú! buscas un hotel ibis budget Madrid Calle 30 ¡tu mejor opción de hotel económico en el centro de Madrid y junto a las estaciones de Méndez Álvaro y Atocha! Para tus viajes, elige dormir en una habitación cómoda, moderna, 100%  No fumador, equipada con ducha, aseo, TV, y  WIFI gratuito, todo al mejor precio. Por la mañana, disfruta  de un completo y equilibrado desayuno buffet. En las inmediaciones dispones de un parking de pago.  También puedes traer a tu mascota a tu hotel favorito.",
         "4.3"
        ],
        [
         "4",
         "ibis Madrid Centro las Ventas",
         "El hotel ibis Madrid Centro las Ventas tiene un perfecto acceso el centro histórico de Madrid. Se encuentra junto  a la emblemática Plaza de Toros de las Ventas y goza de una perfecta comunicación con el Metro. Podrá acercarse en pocos minutos al Museo del Prado y al bullicioso entorno de la Puerta del Sol,  donde podrá disfrutar de magníficos restaurantes tradicionales o modernos y los grandes almacenes más importantes de Madrid para hacer sus compras.",
         "4.5"
        ],
        [
         "5",
         "ibis budget Madrid Centro las Ventas",
         "Ibis budget Madrid Centro está situado a 15 minutos del recinto ferial IFEMA y a 5 km del aeropuerto. Si buscas un hotel económico en Madrid, este es ideal! Situado junto a Las Ventas y la Calle Alcalá, frente al metro El Carmen, bien conectado con el centro ciudad. Las habitaciones  están equipadas con aire acond, calefacción ,WIFI y desayuno buffet. El parking cuenta con plazas limitadas y no se garantiza este servicio. Contactar por teléfono el mismo día de llegada para reservar una si está disponible.",
         "4.3"
        ],
        [
         "6",
         "ibis Styles Madrid City Las Ventas",
         "Junto  a la principal arteria madrileña está ubicado nuestro ibis Styles, el diseño del hotel es moderno y sorprendente y con  un ambiente dinámico y desenfaado.\nLas habitaciones están diseñadas para su ofrecer el mayor confort. \nDispone de 96 habitaciones, totalmente renovadas, WIFI Gratuito , recepción 24h, piscina de verano, restaurante, bar y parking. Un hotel innovador con facil acceso al aeropueto, Ifema, Palacio de congresos o los mejores museos de Madrid.",
         "4.6"
        ],
        [
         "7",
         "ibis budget Madrid Calle Alcalá",
         "El ibis budget Madrid Calle Alcalá es el punto de partida perfecto desde el que visitar el centro de Madrid o el recinto ferial de IFEMA. ¿O tal vez vienes a animar a tu equipo en su próximo partido en el estadio Riyad Air Metropolitano? No importa si viajas por ocio o por negocios, empieza el día con el delicioso desayuno tipo bufé con café, bollería, frutas o cereales, y planea tus actividades desde el salón común o desde el escritorio de tu habitación, gracias al wifi gratuito en todo el hotel.",
         "4.3"
        ],
        [
         "8",
         "ibis Madrid Calle Alcalá",
         "Bienvenido al hotel ibis Madrid Calle Alcalá, ideal para tus viajes de ocio en familia y de negocio. Recorre Madrid desde nuestro hotel gracias a su ubicación en plena calle Alcalá, puedes estar en el centro en menos de 30 minutos. Además, podrás disponer de habitaciones muy cómodas y equipadas con WIFI gratuito, calefacción o aire acondicionado (según temporada), preparadas para el descanso, con una cama de lujo \"Sweet Bed by ibis\".  Siempre te recibirá personal muy atento.",
         "4.5"
        ],
        [
         "9",
         "ibis budget Madrid Vallecas",
         "ibis budget Madrid Vallecas es un hotel moderno a solo 20 minutos del centro de Madrid. Nuestras 98 habitaciones, cómodas y funcionales, están totalmente equipadas para estancias tanto de ocio como de negocios. Aprovecha nuestra ubicación para olvidarte del coche en nuestro parking privado subterráneo y desplazarte en metro o bus. Empieza el día con un delicioso desayuno bufé continental y planifica tu jornada gracias a nuestro wifi gratuito de alta velocidad, disponible en todas nuestras instalaciones.",
         "4.2"
        ]
       ],
       "shape": {
        "columns": 3,
        "rows": 10
       }
      },
      "text/html": [
       "<div>\n",
       "<style scoped>\n",
       "    .dataframe tbody tr th:only-of-type {\n",
       "        vertical-align: middle;\n",
       "    }\n",
       "\n",
       "    .dataframe tbody tr th {\n",
       "        vertical-align: top;\n",
       "    }\n",
       "\n",
       "    .dataframe thead th {\n",
       "        text-align: right;\n",
       "    }\n",
       "</style>\n",
       "<table border=\"1\" class=\"dataframe\">\n",
       "  <thead>\n",
       "    <tr style=\"text-align: right;\">\n",
       "      <th></th>\n",
       "      <th>nombre_hotel</th>\n",
       "      <th>descripcion</th>\n",
       "      <th>valoracion</th>\n",
       "    </tr>\n",
       "  </thead>\n",
       "  <tbody>\n",
       "    <tr>\n",
       "      <th>0</th>\n",
       "      <td>ibis Styles Madrid Prado</td>\n",
       "      <td>Estamos en el centro de Madrid, con una ubicac...</td>\n",
       "      <td>4.7</td>\n",
       "    </tr>\n",
       "    <tr>\n",
       "      <th>1</th>\n",
       "      <td>ibis budget Madrid Centro Lavapies</td>\n",
       "      <td>Nuestra ubicación te permitirá descubrir por t...</td>\n",
       "      <td>4.3</td>\n",
       "    </tr>\n",
       "    <tr>\n",
       "      <th>2</th>\n",
       "      <td>ibis Styles Madrid Centro Maravillas</td>\n",
       "      <td>ibis Styles Madrid Centro Maravillas es un hot...</td>\n",
       "      <td>4.7</td>\n",
       "    </tr>\n",
       "    <tr>\n",
       "      <th>3</th>\n",
       "      <td>ibis budget Madrid Calle 30</td>\n",
       "      <td>Tú, si tú! buscas un hotel ibis budget Madrid ...</td>\n",
       "      <td>4.3</td>\n",
       "    </tr>\n",
       "    <tr>\n",
       "      <th>4</th>\n",
       "      <td>ibis Madrid Centro las Ventas</td>\n",
       "      <td>El hotel ibis Madrid Centro las Ventas tiene u...</td>\n",
       "      <td>4.5</td>\n",
       "    </tr>\n",
       "    <tr>\n",
       "      <th>5</th>\n",
       "      <td>ibis budget Madrid Centro las Ventas</td>\n",
       "      <td>Ibis budget Madrid Centro está situado a 15 mi...</td>\n",
       "      <td>4.3</td>\n",
       "    </tr>\n",
       "    <tr>\n",
       "      <th>6</th>\n",
       "      <td>ibis Styles Madrid City Las Ventas</td>\n",
       "      <td>Junto  a la principal arteria madrileña está u...</td>\n",
       "      <td>4.6</td>\n",
       "    </tr>\n",
       "    <tr>\n",
       "      <th>7</th>\n",
       "      <td>ibis budget Madrid Calle Alcalá</td>\n",
       "      <td>El ibis budget Madrid Calle Alcalá es el punto...</td>\n",
       "      <td>4.3</td>\n",
       "    </tr>\n",
       "    <tr>\n",
       "      <th>8</th>\n",
       "      <td>ibis Madrid Calle Alcalá</td>\n",
       "      <td>Bienvenido al hotel ibis Madrid Calle Alcalá, ...</td>\n",
       "      <td>4.5</td>\n",
       "    </tr>\n",
       "    <tr>\n",
       "      <th>9</th>\n",
       "      <td>ibis budget Madrid Vallecas</td>\n",
       "      <td>ibis budget Madrid Vallecas es un hotel modern...</td>\n",
       "      <td>4.2</td>\n",
       "    </tr>\n",
       "  </tbody>\n",
       "</table>\n",
       "</div>"
      ],
      "text/plain": [
       "                           nombre_hotel  \\\n",
       "0              ibis Styles Madrid Prado   \n",
       "1    ibis budget Madrid Centro Lavapies   \n",
       "2  ibis Styles Madrid Centro Maravillas   \n",
       "3           ibis budget Madrid Calle 30   \n",
       "4         ibis Madrid Centro las Ventas   \n",
       "5  ibis budget Madrid Centro las Ventas   \n",
       "6    ibis Styles Madrid City Las Ventas   \n",
       "7       ibis budget Madrid Calle Alcalá   \n",
       "8              ibis Madrid Calle Alcalá   \n",
       "9           ibis budget Madrid Vallecas   \n",
       "\n",
       "                                         descripcion  valoracion  \n",
       "0  Estamos en el centro de Madrid, con una ubicac...         4.7  \n",
       "1  Nuestra ubicación te permitirá descubrir por t...         4.3  \n",
       "2  ibis Styles Madrid Centro Maravillas es un hot...         4.7  \n",
       "3  Tú, si tú! buscas un hotel ibis budget Madrid ...         4.3  \n",
       "4  El hotel ibis Madrid Centro las Ventas tiene u...         4.5  \n",
       "5  Ibis budget Madrid Centro está situado a 15 mi...         4.3  \n",
       "6  Junto  a la principal arteria madrileña está u...         4.6  \n",
       "7  El ibis budget Madrid Calle Alcalá es el punto...         4.3  \n",
       "8  Bienvenido al hotel ibis Madrid Calle Alcalá, ...         4.5  \n",
       "9  ibis budget Madrid Vallecas es un hotel modern...         4.2  "
      ]
     },
     "execution_count": 35,
     "metadata": {},
     "output_type": "execute_result"
    }
   ],
   "source": [
    "df_hoteles = pd.DataFrame(dictio_scrap)\n",
    "df_hoteles"
   ]
  },
  {
   "cell_type": "code",
   "execution_count": 28,
   "metadata": {},
   "outputs": [
    {
     "name": "stdout",
     "output_type": "stream",
     "text": [
      "<class 'pandas.core.frame.DataFrame'>\n",
      "RangeIndex: 126 entries, 0 to 125\n",
      "Data columns (total 3 columns):\n",
      " #   Column        Non-Null Count  Dtype \n",
      "---  ------        --------------  ----- \n",
      " 0   nombre_hotel  126 non-null    object\n",
      " 1   descripcion   126 non-null    object\n",
      " 2   valoracion    126 non-null    object\n",
      "dtypes: object(3)\n",
      "memory usage: 3.1+ KB\n"
     ]
    }
   ],
   "source": [
    "df_hoteles.info()"
   ]
  },
  {
   "cell_type": "code",
   "execution_count": 48,
   "metadata": {},
   "outputs": [],
   "source": [
    "def scrap_info_hoteles(url):\n",
    "    dictio_scrap = {\n",
    "        \"nombre_hotel\": [],\n",
    "        \"descripcion\": [],\n",
    "        \"valoracion\": []\n",
    "    }\n",
    "\n",
    "    res_hoteles = requests.get(url)\n",
    "\n",
    "    if res_hoteles.status_code == 200:\n",
    "        sopa_hoteles = bs(res_hoteles.content, \"html.parser\")\n",
    "\n",
    "        # Buscar los hoteles y manejar caso en que la lista esté vacía\n",
    "        hoteles = sopa_hoteles.find_all(\"li\", class_=\"aem-GridColumn aem-GridColumn--default--3\")\n",
    "        hoteles = hoteles[:9] if hoteles else []  # Evita errores de slicing si está vacío\n",
    "\n",
    "        for hotel in hoteles:\n",
    "            # Extraer nombre del hotel\n",
    "            nombre = hotel.find(\"h3\")\n",
    "            nombre_hotel = nombre.get_text(strip=True) if nombre else \"Sin nombre\"\n",
    "\n",
    "            # Extraer descripción\n",
    "            descripcion = hotel.find(\"p\")\n",
    "            descripcion_texto = descripcion.get_text(strip=True) if descripcion else \"Sin descripción\"\n",
    "\n",
    "            # Extraer valoración\n",
    "            valoracion = hotel.find(\"span\", class_=\"cmp-teaser__rating-score\")\n",
    "            valoracion_texto = valoracion.get_text(strip=True) if valoracion else \"Sin valoración\"\n",
    "\n",
    "            # Limpiar y convertir la valoración a float\n",
    "            if valoracion_texto != \"Sin valoración\":\n",
    "                valoracion_texto = valoracion_texto.split(\"/\")[0]  # Tomar solo el número antes de \"/\"\n",
    "                valoracion_texto = valoracion_texto.replace(\",\", \".\")  # Convertir \"4,7\" a \"4.7\"\n",
    "                try:\n",
    "                    valoracion_texto = float(valoracion_texto)\n",
    "                except ValueError:\n",
    "                    valoracion_texto = \"Error en conversión\"\n",
    "\n",
    "            # Agregar datos al diccionario\n",
    "            dictio_scrap[\"nombre_hotel\"].append(nombre_hotel)\n",
    "            dictio_scrap[\"descripcion\"].append(descripcion_texto)\n",
    "            dictio_scrap[\"valoracion\"].append(valoracion_texto)\n",
    "\n",
    "    return dictio_scrap"
   ]
  },
  {
   "cell_type": "code",
   "execution_count": 50,
   "metadata": {},
   "outputs": [
    {
     "data": {
      "application/vnd.microsoft.datawrangler.viewer.v0+json": {
       "columns": [
        {
         "name": "index",
         "rawType": "int64",
         "type": "integer"
        },
        {
         "name": "nombre_hotel",
         "rawType": "object",
         "type": "string"
        },
        {
         "name": "descripcion",
         "rawType": "object",
         "type": "string"
        },
        {
         "name": "valoracion",
         "rawType": "float64",
         "type": "float"
        }
       ],
       "conversionMethod": "pd.DataFrame",
       "ref": "dee537c2-6530-4b1a-9ecb-7e52444be08f",
       "rows": [
        [
         "0",
         "ibis Styles Madrid Prado",
         "Estamos en el centro de Madrid, con una ubicación privilegiada en el Barrio de las Letras. Podrás visitar a pié  los principales puntos más turísticos.\nAntes de ir a tus reuniones del día o descubrir la ciudad, comienza el día lleno de energía con nuestro desayuno buffet, en el que tenemos una amplia variedad de productos de calidad.\nLas 48 habitaciones tienen una decoración sencilla, alegre y dinámica y ofrecen funcionalidad y comodidad.  Los niños hasta 15 años se alojan gratis.  \nHotel pet-friendly.",
         "4.7"
        ],
        [
         "1",
         "ibis budget Madrid Centro Lavapies",
         "Nuestra ubicación te permitirá descubrir por tu propio pie la historia de Madrid. Si te gusta caminar, podrás llegar a la Puerta del Sol en tan solo 15 minutos, y si lo tuyo es aprovechar el transporte público, estamos a una parada de metro.\nDisfruta del momento de tu  desayuno en la tranquilidad de nuestro patio interior.\nNuestras habitaciones ofrecen lo esencial que necesita para disfrutar de tu visita a Madrid.\nNo dudes en acudir a recepción para lo que necesites, estamos 24 horas a tu disposición.",
         "4.3"
        ],
        [
         "2",
         "ibis Styles Madrid Centro Maravillas",
         "ibis Styles Madrid Centro Maravillas es un hotel boutique en Malasaña inspirado en el histórico Teatro Maravillas, ideal para explorar Madrid a pie. Situado junto al metro de Bilbao permite un rápido acceso a la Puerta del Sol, Palacio Real, Parque del Retiro y Museos como el Prado y el Reina Sofía. Cuenta con 64 habitaciones con cómodas camas Sweet Bed by Ibis, wifi gratuito, recepción 24h y snack bar todo el día. El lugar perfecto para descubrir el corazón cultural de Madrid y su vida nocturna.",
         "4.7"
        ],
        [
         "3",
         "ibis budget Madrid Calle 30",
         "Tú, si tú! buscas un hotel ibis budget Madrid Calle 30 ¡tu mejor opción de hotel económico en el centro de Madrid y junto a las estaciones de Méndez Álvaro y Atocha! Para tus viajes, elige dormir en una habitación cómoda, moderna, 100%  No fumador, equipada con ducha, aseo, TV, y  WIFI gratuito, todo al mejor precio. Por la mañana, disfruta  de un completo y equilibrado desayuno buffet. En las inmediaciones dispones de un parking de pago.  También puedes traer a tu mascota a tu hotel favorito.",
         "4.3"
        ],
        [
         "4",
         "ibis Madrid Centro las Ventas",
         "El hotel ibis Madrid Centro las Ventas tiene un perfecto acceso el centro histórico de Madrid. Se encuentra junto  a la emblemática Plaza de Toros de las Ventas y goza de una perfecta comunicación con el Metro. Podrá acercarse en pocos minutos al Museo del Prado y al bullicioso entorno de la Puerta del Sol,  donde podrá disfrutar de magníficos restaurantes tradicionales o modernos y los grandes almacenes más importantes de Madrid para hacer sus compras.",
         "4.5"
        ],
        [
         "5",
         "ibis budget Madrid Centro las Ventas",
         "Ibis budget Madrid Centro está situado a 15 minutos del recinto ferial IFEMA y a 5 km del aeropuerto. Si buscas un hotel económico en Madrid, este es ideal! Situado junto a Las Ventas y la Calle Alcalá, frente al metro El Carmen, bien conectado con el centro ciudad. Las habitaciones  están equipadas con aire acond, calefacción ,WIFI y desayuno buffet. El parking cuenta con plazas limitadas y no se garantiza este servicio. Contactar por teléfono el mismo día de llegada para reservar una si está disponible.",
         "4.3"
        ],
        [
         "6",
         "ibis Styles Madrid City Las Ventas",
         "Junto  a la principal arteria madrileña está ubicado nuestro ibis Styles, el diseño del hotel es moderno y sorprendente y con  un ambiente dinámico y desenfaado.\nLas habitaciones están diseñadas para su ofrecer el mayor confort. \nDispone de 96 habitaciones, totalmente renovadas, WIFI Gratuito , recepción 24h, piscina de verano, restaurante, bar y parking. Un hotel innovador con facil acceso al aeropueto, Ifema, Palacio de congresos o los mejores museos de Madrid.",
         "4.6"
        ],
        [
         "7",
         "ibis budget Madrid Calle Alcalá",
         "El ibis budget Madrid Calle Alcalá es el punto de partida perfecto desde el que visitar el centro de Madrid o el recinto ferial de IFEMA. ¿O tal vez vienes a animar a tu equipo en su próximo partido en el estadio Riyad Air Metropolitano? No importa si viajas por ocio o por negocios, empieza el día con el delicioso desayuno tipo bufé con café, bollería, frutas o cereales, y planea tus actividades desde el salón común o desde el escritorio de tu habitación, gracias al wifi gratuito en todo el hotel.",
         "4.3"
        ],
        [
         "8",
         "ibis Madrid Calle Alcalá",
         "Bienvenido al hotel ibis Madrid Calle Alcalá, ideal para tus viajes de ocio en familia y de negocio. Recorre Madrid desde nuestro hotel gracias a su ubicación en plena calle Alcalá, puedes estar en el centro en menos de 30 minutos. Además, podrás disponer de habitaciones muy cómodas y equipadas con WIFI gratuito, calefacción o aire acondicionado (según temporada), preparadas para el descanso, con una cama de lujo \"Sweet Bed by ibis\".  Siempre te recibirá personal muy atento.",
         "4.5"
        ]
       ],
       "shape": {
        "columns": 3,
        "rows": 9
       }
      },
      "text/html": [
       "<div>\n",
       "<style scoped>\n",
       "    .dataframe tbody tr th:only-of-type {\n",
       "        vertical-align: middle;\n",
       "    }\n",
       "\n",
       "    .dataframe tbody tr th {\n",
       "        vertical-align: top;\n",
       "    }\n",
       "\n",
       "    .dataframe thead th {\n",
       "        text-align: right;\n",
       "    }\n",
       "</style>\n",
       "<table border=\"1\" class=\"dataframe\">\n",
       "  <thead>\n",
       "    <tr style=\"text-align: right;\">\n",
       "      <th></th>\n",
       "      <th>nombre_hotel</th>\n",
       "      <th>descripcion</th>\n",
       "      <th>valoracion</th>\n",
       "    </tr>\n",
       "  </thead>\n",
       "  <tbody>\n",
       "    <tr>\n",
       "      <th>0</th>\n",
       "      <td>ibis Styles Madrid Prado</td>\n",
       "      <td>Estamos en el centro de Madrid, con una ubicac...</td>\n",
       "      <td>4.7</td>\n",
       "    </tr>\n",
       "    <tr>\n",
       "      <th>1</th>\n",
       "      <td>ibis budget Madrid Centro Lavapies</td>\n",
       "      <td>Nuestra ubicación te permitirá descubrir por t...</td>\n",
       "      <td>4.3</td>\n",
       "    </tr>\n",
       "    <tr>\n",
       "      <th>2</th>\n",
       "      <td>ibis Styles Madrid Centro Maravillas</td>\n",
       "      <td>ibis Styles Madrid Centro Maravillas es un hot...</td>\n",
       "      <td>4.7</td>\n",
       "    </tr>\n",
       "    <tr>\n",
       "      <th>3</th>\n",
       "      <td>ibis budget Madrid Calle 30</td>\n",
       "      <td>Tú, si tú! buscas un hotel ibis budget Madrid ...</td>\n",
       "      <td>4.3</td>\n",
       "    </tr>\n",
       "    <tr>\n",
       "      <th>4</th>\n",
       "      <td>ibis Madrid Centro las Ventas</td>\n",
       "      <td>El hotel ibis Madrid Centro las Ventas tiene u...</td>\n",
       "      <td>4.5</td>\n",
       "    </tr>\n",
       "    <tr>\n",
       "      <th>5</th>\n",
       "      <td>ibis budget Madrid Centro las Ventas</td>\n",
       "      <td>Ibis budget Madrid Centro está situado a 15 mi...</td>\n",
       "      <td>4.3</td>\n",
       "    </tr>\n",
       "    <tr>\n",
       "      <th>6</th>\n",
       "      <td>ibis Styles Madrid City Las Ventas</td>\n",
       "      <td>Junto  a la principal arteria madrileña está u...</td>\n",
       "      <td>4.6</td>\n",
       "    </tr>\n",
       "    <tr>\n",
       "      <th>7</th>\n",
       "      <td>ibis budget Madrid Calle Alcalá</td>\n",
       "      <td>El ibis budget Madrid Calle Alcalá es el punto...</td>\n",
       "      <td>4.3</td>\n",
       "    </tr>\n",
       "    <tr>\n",
       "      <th>8</th>\n",
       "      <td>ibis Madrid Calle Alcalá</td>\n",
       "      <td>Bienvenido al hotel ibis Madrid Calle Alcalá, ...</td>\n",
       "      <td>4.5</td>\n",
       "    </tr>\n",
       "  </tbody>\n",
       "</table>\n",
       "</div>"
      ],
      "text/plain": [
       "                           nombre_hotel  \\\n",
       "0              ibis Styles Madrid Prado   \n",
       "1    ibis budget Madrid Centro Lavapies   \n",
       "2  ibis Styles Madrid Centro Maravillas   \n",
       "3           ibis budget Madrid Calle 30   \n",
       "4         ibis Madrid Centro las Ventas   \n",
       "5  ibis budget Madrid Centro las Ventas   \n",
       "6    ibis Styles Madrid City Las Ventas   \n",
       "7       ibis budget Madrid Calle Alcalá   \n",
       "8              ibis Madrid Calle Alcalá   \n",
       "\n",
       "                                         descripcion  valoracion  \n",
       "0  Estamos en el centro de Madrid, con una ubicac...         4.7  \n",
       "1  Nuestra ubicación te permitirá descubrir por t...         4.3  \n",
       "2  ibis Styles Madrid Centro Maravillas es un hot...         4.7  \n",
       "3  Tú, si tú! buscas un hotel ibis budget Madrid ...         4.3  \n",
       "4  El hotel ibis Madrid Centro las Ventas tiene u...         4.5  \n",
       "5  Ibis budget Madrid Centro está situado a 15 mi...         4.3  \n",
       "6  Junto  a la principal arteria madrileña está u...         4.6  \n",
       "7  El ibis budget Madrid Calle Alcalá es el punto...         4.3  \n",
       "8  Bienvenido al hotel ibis Madrid Calle Alcalá, ...         4.5  "
      ]
     },
     "execution_count": 50,
     "metadata": {},
     "output_type": "execute_result"
    }
   ],
   "source": [
    "dictio_final = scrap_info_hoteles(url_hoteles)\n",
    "df = pd.DataFrame(dictio_final)\n",
    "df"
   ]
  },
  {
   "cell_type": "code",
   "execution_count": 51,
   "metadata": {},
   "outputs": [
    {
     "name": "stdout",
     "output_type": "stream",
     "text": [
      "<class 'pandas.core.frame.DataFrame'>\n",
      "RangeIndex: 9 entries, 0 to 8\n",
      "Data columns (total 3 columns):\n",
      " #   Column        Non-Null Count  Dtype  \n",
      "---  ------        --------------  -----  \n",
      " 0   nombre_hotel  9 non-null      object \n",
      " 1   descripcion   9 non-null      object \n",
      " 2   valoracion    9 non-null      float64\n",
      "dtypes: float64(1), object(2)\n",
      "memory usage: 348.0+ bytes\n"
     ]
    }
   ],
   "source": [
    "df.info()"
   ]
  },
  {
   "cell_type": "code",
   "execution_count": 52,
   "metadata": {},
   "outputs": [],
   "source": [
    "df.to_csv(\"../data/10_hoteles_competencia.csv\", index=False)"
   ]
  }
 ],
 "metadata": {
  "kernelspec": {
   "display_name": "venv",
   "language": "python",
   "name": "python3"
  },
  "language_info": {
   "codemirror_mode": {
    "name": "ipython",
    "version": 3
   },
   "file_extension": ".py",
   "mimetype": "text/x-python",
   "name": "python",
   "nbconvert_exporter": "python",
   "pygments_lexer": "ipython3",
   "version": "3.12.4"
  }
 },
 "nbformat": 4,
 "nbformat_minor": 2
}

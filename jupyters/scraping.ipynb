{
 "cells": [
  {
   "cell_type": "code",
   "execution_count": 1,
   "metadata": {},
   "outputs": [],
   "source": [
    "import pandas as pd\n",
    "import numpy as np\n",
    "import pyarrow \n",
    "import seaborn as sb\n",
    "import requests\n",
    "from bs4 import BeautifulSoup as bs\n",
    "from selenium import webdriver\n",
    "from selenium.webdriver.chrome.service import Service\n",
    "from selenium.webdriver.chrome.options import Options\n",
    "from selenium.webdriver.common.by import By\n",
    "from selenium.webdriver.support.ui import WebDriverWait\n",
    "from selenium.webdriver.support import expected_conditions as EC\n",
    "from webdriver_manager.chrome import ChromeDriverManager\n",
    "import time"
   ]
  },
  {
   "cell_type": "code",
   "execution_count": 2,
   "metadata": {},
   "outputs": [],
   "source": [
    "url_hoteles = \"https://all.accor.com/ssr/app/ibis/hotels/madrid-spain/index.es.shtml?compositions=1&stayplus=false&snu=false&hideWDR=false&accessibleRooms=false&hideHotelDetails=false&dateIn=2025-03-01&nights=1&destination=madrid-spain\""
   ]
  },
  {
   "cell_type": "code",
   "execution_count": 3,
   "metadata": {},
   "outputs": [
    {
     "data": {
      "text/plain": [
       "200"
      ]
     },
     "execution_count": 3,
     "metadata": {},
     "output_type": "execute_result"
    }
   ],
   "source": [
    "respuesta_hoteles = requests.get(url_hoteles)\n",
    "respuesta_hoteles.status_code"
   ]
  },
  {
   "cell_type": "code",
   "execution_count": 4,
   "metadata": {},
   "outputs": [],
   "source": [
    "sopa_hoteles = bs(respuesta_hoteles.content, \"html.parser\")"
   ]
  },
  {
   "cell_type": "code",
   "execution_count": 5,
   "metadata": {},
   "outputs": [
    {
     "data": {
      "text/plain": [
       "10"
      ]
     },
     "execution_count": 5,
     "metadata": {},
     "output_type": "execute_result"
    }
   ],
   "source": [
    "hoteles = sopa_hoteles.find_all(\"a\", class_=\"title__link\")[:10]\n",
    "len(hoteles)"
   ]
  },
  {
   "cell_type": "code",
   "execution_count": 6,
   "metadata": {},
   "outputs": [],
   "source": [
    "dictio_scrap = {\n",
    "    \"nombre_hotel\": [],\n",
    "    \"estrellas\": [],\n",
    "    \"precio_noche\": []}"
   ]
  },
  {
   "cell_type": "code",
   "execution_count": 7,
   "metadata": {},
   "outputs": [],
   "source": [
    "for hotel in hoteles:\n",
    "    #Nombre del hotel\n",
    "    nombre = hotel.find(\"h2\")\n",
    "    nombre_hotel = nombre.get_text(strip=True) if nombre else \"Sin nombre\"\n",
    "\n",
    "    #Estrsellas\n",
    "    estrellas = hotel.find(\"span\", class_=\"sr-only\") #Buscar el número de estrellas\n",
    "    estrellas_hotel = estrellas.get_text(strip=True) if estrellas else \"Sin estrellas\"\n",
    "\n",
    "    precio = hotel.find(\"span\", class_=\"booking-price__number mcp-price-number\") #Buscar el precio del hotel\n",
    "    precio_noche = precio.get_text(strip=True) if precio else \"Sin precio\"\n",
    "\n",
    "    dictio_scrap[\"nombre_hotel\"].append(nombre_hotel)\n",
    "    dictio_scrap[\"estrellas\"].append(estrellas_hotel)\n",
    "    dictio_scrap[\"precio_noche\"].append(precio_noche)"
   ]
  },
  {
   "cell_type": "code",
   "execution_count": 8,
   "metadata": {},
   "outputs": [],
   "source": [
    "def scrap_info_hoteles(url):\n",
    "# Diccionario para almacenar los datos\n",
    "    dictio_scrap = {\n",
    "        \"nombre_hotel\": [],\n",
    "        \"estrellas\": [],\n",
    "        \"precio_noche\": []  # ✅ Agregamos una lista para el precio\n",
    "    }\n",
    "    # URL de ejemplo (ajusta según la web que estás scrapeando)\n",
    "    res = requests.get(url)\n",
    "\n",
    "    if res.status_code == 200:\n",
    "        sopa = bs(res.content, \"html.parser\")\n",
    "\n",
    "        # Encontrar todos los hoteles en la página\n",
    "        hoteles = sopa.find_all(\"a\", class_=\"title__link\")[:10]\n",
    "\n",
    "        for hotel in hoteles:\n",
    "            # ✅ Nombre del hotel\n",
    "            nombre_hotel = hotel.contents[0].strip() if hotel else \"Sin nombre\"\n",
    "\n",
    "            # ✅ Estrellas del hotel\n",
    "            estrellas = hotel.find(\"span\", class_=\"sr-only\")\n",
    "            estrellas_hotel = estrellas.get_text(strip=True) if estrellas else \"Sin estrellas\"\n",
    "\n",
    "            # ✅ Precio por noche\n",
    "            precio = hotel.find(\"span\", class_=\"booking-price__number mcp-price-number\")\n",
    "            precio_noche = precio.get_text(strip=True) if precio else \"Sin precio\"\n",
    "\n",
    "            # ✅ Agregar cada dato en su lista correspondiente\n",
    "            dictio_scrap[\"nombre_hotel\"].append(nombre_hotel)\n",
    "            dictio_scrap[\"estrellas\"].append(estrellas_hotel)\n",
    "            dictio_scrap[\"precio_noche\"].append(precio_noche)  # ✅ Ahora el precio va en la lista correcta\n",
    "    return dictio_scrap"
   ]
  },
  {
   "cell_type": "code",
   "execution_count": 9,
   "metadata": {},
   "outputs": [],
   "source": [
    "url = \"https://all.accor.com/ssr/app/ibis/hotels/madrid-spain/index.es.shtml?compositions=1&stayplus=false&snu=false&hideWDR=false&accessibleRooms=false&hideHotelDetails=false&dateIn=2025-03-01&nights=1&destination=madrid-spain\""
   ]
  },
  {
   "cell_type": "code",
   "execution_count": 10,
   "metadata": {},
   "outputs": [
    {
     "data": {
      "application/vnd.microsoft.datawrangler.viewer.v0+json": {
       "columns": [
        {
         "name": "index",
         "rawType": "int64",
         "type": "integer"
        },
        {
         "name": "nombre_hotel",
         "rawType": "object",
         "type": "string"
        },
        {
         "name": "estrellas",
         "rawType": "object",
         "type": "string"
        },
        {
         "name": "precio_noche",
         "rawType": "object",
         "type": "string"
        }
       ],
       "conversionMethod": "pd.DataFrame",
       "ref": "07a27559-5320-40e7-bf94-5f4277e64b3a",
       "rows": [
        [
         "0",
         "ibis Styles Madrid Prado",
         "3 Estrellas",
         "Sin precio"
        ],
        [
         "1",
         "Mercure Madrid Centro",
         "4 Estrellas",
         "Sin precio"
        ],
        [
         "2",
         "ibis budget Madrid Centro Lavapies",
         "1 Estrellas",
         "Sin precio"
        ],
        [
         "3",
         "ibis Styles Madrid Centro Maravillas",
         "2 Estrellas",
         "Sin precio"
        ],
        [
         "4",
         "Novotel Madrid Center",
         "4 Estrellas",
         "Sin precio"
        ],
        [
         "5",
         "ibis budget Madrid Calle 30",
         "1 Estrellas",
         "Sin precio"
        ],
        [
         "6",
         "ibis Madrid Centro las Ventas",
         "2 Estrellas",
         "Sin precio"
        ],
        [
         "7",
         "ibis budget Madrid Centro las Ventas",
         "1 Estrellas",
         "Sin precio"
        ],
        [
         "8",
         "Novotel Madrid City Las Ventas",
         "4 Estrellas",
         "Sin precio"
        ],
        [
         "9",
         "ibis Styles Madrid City Las Ventas",
         "4 Estrellas",
         "Sin precio"
        ]
       ],
       "shape": {
        "columns": 3,
        "rows": 10
       }
      },
      "text/html": [
       "<div>\n",
       "<style scoped>\n",
       "    .dataframe tbody tr th:only-of-type {\n",
       "        vertical-align: middle;\n",
       "    }\n",
       "\n",
       "    .dataframe tbody tr th {\n",
       "        vertical-align: top;\n",
       "    }\n",
       "\n",
       "    .dataframe thead th {\n",
       "        text-align: right;\n",
       "    }\n",
       "</style>\n",
       "<table border=\"1\" class=\"dataframe\">\n",
       "  <thead>\n",
       "    <tr style=\"text-align: right;\">\n",
       "      <th></th>\n",
       "      <th>nombre_hotel</th>\n",
       "      <th>estrellas</th>\n",
       "      <th>precio_noche</th>\n",
       "    </tr>\n",
       "  </thead>\n",
       "  <tbody>\n",
       "    <tr>\n",
       "      <th>0</th>\n",
       "      <td>ibis Styles Madrid Prado</td>\n",
       "      <td>3 Estrellas</td>\n",
       "      <td>Sin precio</td>\n",
       "    </tr>\n",
       "    <tr>\n",
       "      <th>1</th>\n",
       "      <td>Mercure Madrid Centro</td>\n",
       "      <td>4 Estrellas</td>\n",
       "      <td>Sin precio</td>\n",
       "    </tr>\n",
       "    <tr>\n",
       "      <th>2</th>\n",
       "      <td>ibis budget Madrid Centro Lavapies</td>\n",
       "      <td>1 Estrellas</td>\n",
       "      <td>Sin precio</td>\n",
       "    </tr>\n",
       "    <tr>\n",
       "      <th>3</th>\n",
       "      <td>ibis Styles Madrid Centro Maravillas</td>\n",
       "      <td>2 Estrellas</td>\n",
       "      <td>Sin precio</td>\n",
       "    </tr>\n",
       "    <tr>\n",
       "      <th>4</th>\n",
       "      <td>Novotel Madrid Center</td>\n",
       "      <td>4 Estrellas</td>\n",
       "      <td>Sin precio</td>\n",
       "    </tr>\n",
       "    <tr>\n",
       "      <th>5</th>\n",
       "      <td>ibis budget Madrid Calle 30</td>\n",
       "      <td>1 Estrellas</td>\n",
       "      <td>Sin precio</td>\n",
       "    </tr>\n",
       "    <tr>\n",
       "      <th>6</th>\n",
       "      <td>ibis Madrid Centro las Ventas</td>\n",
       "      <td>2 Estrellas</td>\n",
       "      <td>Sin precio</td>\n",
       "    </tr>\n",
       "    <tr>\n",
       "      <th>7</th>\n",
       "      <td>ibis budget Madrid Centro las Ventas</td>\n",
       "      <td>1 Estrellas</td>\n",
       "      <td>Sin precio</td>\n",
       "    </tr>\n",
       "    <tr>\n",
       "      <th>8</th>\n",
       "      <td>Novotel Madrid City Las Ventas</td>\n",
       "      <td>4 Estrellas</td>\n",
       "      <td>Sin precio</td>\n",
       "    </tr>\n",
       "    <tr>\n",
       "      <th>9</th>\n",
       "      <td>ibis Styles Madrid City Las Ventas</td>\n",
       "      <td>4 Estrellas</td>\n",
       "      <td>Sin precio</td>\n",
       "    </tr>\n",
       "  </tbody>\n",
       "</table>\n",
       "</div>"
      ],
      "text/plain": [
       "                           nombre_hotel    estrellas precio_noche\n",
       "0              ibis Styles Madrid Prado  3 Estrellas   Sin precio\n",
       "1                 Mercure Madrid Centro  4 Estrellas   Sin precio\n",
       "2    ibis budget Madrid Centro Lavapies  1 Estrellas   Sin precio\n",
       "3  ibis Styles Madrid Centro Maravillas  2 Estrellas   Sin precio\n",
       "4                 Novotel Madrid Center  4 Estrellas   Sin precio\n",
       "5           ibis budget Madrid Calle 30  1 Estrellas   Sin precio\n",
       "6         ibis Madrid Centro las Ventas  2 Estrellas   Sin precio\n",
       "7  ibis budget Madrid Centro las Ventas  1 Estrellas   Sin precio\n",
       "8        Novotel Madrid City Las Ventas  4 Estrellas   Sin precio\n",
       "9    ibis Styles Madrid City Las Ventas  4 Estrellas   Sin precio"
      ]
     },
     "execution_count": 10,
     "metadata": {},
     "output_type": "execute_result"
    }
   ],
   "source": [
    "dictio_hoteles_competencia = scrap_info_hoteles(url)\n",
    "df_hoteles_competencia = pd.DataFrame(dictio_hoteles_competencia)\n",
    "df_hoteles_competencia"
   ]
  },
  {
   "cell_type": "code",
   "execution_count": 11,
   "metadata": {},
   "outputs": [],
   "source": [
    "#Eliminamos la palabra \"estrellas\" de la columna estrellas para dejarlo en formato int:\n",
    "\n",
    "df_hoteles_competencia[\"estrellas\"] = df_hoteles_competencia[\"estrellas\"].str.replace(\" Estrellas\", \"\", regex = False).astype(int)"
   ]
  },
  {
   "cell_type": "code",
   "execution_count": 12,
   "metadata": {},
   "outputs": [
    {
     "name": "stdout",
     "output_type": "stream",
     "text": [
      "<class 'pandas.core.frame.DataFrame'>\n",
      "RangeIndex: 10 entries, 0 to 9\n",
      "Data columns (total 3 columns):\n",
      " #   Column        Non-Null Count  Dtype \n",
      "---  ------        --------------  ----- \n",
      " 0   nombre_hotel  10 non-null     object\n",
      " 1   estrellas     10 non-null     int64 \n",
      " 2   precio_noche  10 non-null     object\n",
      "dtypes: int64(1), object(2)\n",
      "memory usage: 372.0+ bytes\n"
     ]
    }
   ],
   "source": [
    "df_hoteles_competencia.info()"
   ]
  },
  {
   "cell_type": "markdown",
   "metadata": {},
   "source": [
    "Utilizamos selenium para sacar los datos del precio de cada noche"
   ]
  },
  {
   "cell_type": "code",
   "execution_count": 19,
   "metadata": {},
   "outputs": [],
   "source": [
    "from selenium import webdriver\n",
    "from selenium.webdriver.common.by import By\n",
    "from selenium.webdriver.chrome.service import Service\n",
    "from selenium.webdriver.chrome.options import Options\n",
    "from selenium.webdriver.support.ui import WebDriverWait\n",
    "from selenium.webdriver.support import expected_conditions as EC\n",
    "from webdriver_manager.chrome import ChromeDriverManager\n",
    "\n",
    "def scrap_info_hoteles(url):\n",
    "    \"\"\"\n",
    "    Extrae información de hoteles desde la web de Accor utilizando Selenium.\n",
    "    \n",
    "    Parámetros:\n",
    "    - url (str): URL de la página de hoteles.\n",
    "\n",
    "    Retorna:\n",
    "    - dict: Un diccionario con los datos extraídos:\n",
    "        - \"nombre_hotel\": Lista con los nombres de los hoteles.\n",
    "        - \"estrellas\": Lista con la clasificación en estrellas de cada hotel.\n",
    "        - \"precio_noche\": Lista con el precio por noche.\n",
    "    \"\"\"\n",
    "    # Configuración de Selenium (headless opcional)\n",
    "    options = Options()\n",
    "    options.add_argument(\"--start-maximized\")  # Maximizar ventana para evitar errores de carga\n",
    "    # options.add_argument(\"--headless\")  # Descomenta para ejecutar sin interfaz gráfica\n",
    "    \n",
    "    # Inicializar WebDriver\n",
    "    service = Service(ChromeDriverManager().install())\n",
    "    driver = webdriver.Chrome(service=service, options=options)\n",
    "\n",
    "    # Diccionario para almacenar los datos\n",
    "    dictio_scrap = {\n",
    "        \"nombre_hotel\": [],\n",
    "        \"estrellas\": [],\n",
    "        \"precio_noche\": []\n",
    "    }\n",
    "\n",
    "    # Cargar la URL\n",
    "    driver.get(url)\n",
    "\n",
    "    # ✅ Esperar a que los elementos de los hoteles aparezcan en la página\n",
    "    info_hoteles = WebDriverWait(driver, 10).until(\n",
    "        EC.presence_of_all_elements_located((By.CLASS_NAME, \"hotelblock__content\"))\n",
    "    )\n",
    "\n",
    "    # ✅ Recorrer los primeros 10 hoteles y extraer datos\n",
    "    for hotel in info_hoteles[:10]:\n",
    "        try:\n",
    "            # Extraer nombre del hotel\n",
    "            nombre_hotel = hotel.find_element(By.CLASS_NAME, \"title__link\").text.split(\"\\n\")[0]\n",
    "\n",
    "            # Extraer estrellas del hotel\n",
    "            estrellas_hotel = hotel.find_element(By.CLASS_NAME, \"title__link\").text.split(\"\\n\")[1].split(\" \")[0]\n",
    "\n",
    "            # Guardar en el diccionario\n",
    "            dictio_scrap[\"nombre_hotel\"].append(nombre_hotel)\n",
    "            dictio_scrap[\"estrellas\"].append(estrellas_hotel)\n",
    "        except Exception as e:\n",
    "            print(f\"Error al obtener nombre o estrellas: {e}\")\n",
    "            dictio_scrap[\"nombre_hotel\"].append(\"Sin nombre\")\n",
    "            dictio_scrap[\"estrellas\"].append(\"Sin estrellas\")\n",
    "\n",
    "    # ✅ Esperar los precios\n",
    "    precios_hoteles = WebDriverWait(driver, 10).until(\n",
    "        EC.presence_of_all_elements_located((By.CLASS_NAME, \"rate-details__price-wrapper\"))\n",
    "    )\n",
    "\n",
    "    # ✅ Extraer precios de los primeros 10 hoteles\n",
    "    for precio_hotel in precios_hoteles[:10]:\n",
    "        try:\n",
    "            precio = precio_hotel.text.split(\"\\n\")[1].replace(\"€\", \"\").strip()\n",
    "            dictio_scrap[\"precio_noche\"].append(precio)\n",
    "        except Exception as e:\n",
    "            print(f\"Error al obtener precio: {e}\")\n",
    "            dictio_scrap[\"precio_noche\"].append(\"Sin precio\")\n",
    "\n",
    "    # ✅ Cerrar el navegador\n",
    "    driver.quit()\n",
    "    \n",
    "    return dictio_scrap"
   ]
  },
  {
   "cell_type": "code",
   "execution_count": 21,
   "metadata": {},
   "outputs": [
    {
     "data": {
      "application/vnd.microsoft.datawrangler.viewer.v0+json": {
       "columns": [
        {
         "name": "index",
         "rawType": "int64",
         "type": "integer"
        },
        {
         "name": "nombre_hotel",
         "rawType": "object",
         "type": "string"
        },
        {
         "name": "estrellas",
         "rawType": "object",
         "type": "string"
        },
        {
         "name": "precio_noche",
         "rawType": "object",
         "type": "string"
        }
       ],
       "conversionMethod": "pd.DataFrame",
       "ref": "f38c3534-dfda-42c5-8f3a-83873832c10f",
       "rows": [
        [
         "0",
         "ibis Styles Madrid Prado",
         "3",
         "179"
        ],
        [
         "1",
         "Mercure Madrid Centro",
         "4",
         "172"
        ],
        [
         "2",
         "ibis budget Madrid Centro Lavapies",
         "1",
         "119"
        ],
        [
         "3",
         "ibis Styles Madrid Centro Maravillas",
         "2",
         "95"
        ],
        [
         "4",
         "Novotel Madrid Center",
         "4",
         "116"
        ],
        [
         "5",
         "ibis budget Madrid Calle 30",
         "1",
         "90"
        ],
        [
         "6",
         "ibis Madrid Centro las Ventas",
         "2",
         "97"
        ],
        [
         "7",
         "ibis budget Madrid Centro las Ventas",
         "1",
         "83"
        ],
        [
         "8",
         "Novotel Madrid City Las Ventas",
         "4",
         "99"
        ],
        [
         "9",
         "ibis Styles Madrid City Las Ventas",
         "4",
         "77"
        ]
       ],
       "shape": {
        "columns": 3,
        "rows": 10
       }
      },
      "text/html": [
       "<div>\n",
       "<style scoped>\n",
       "    .dataframe tbody tr th:only-of-type {\n",
       "        vertical-align: middle;\n",
       "    }\n",
       "\n",
       "    .dataframe tbody tr th {\n",
       "        vertical-align: top;\n",
       "    }\n",
       "\n",
       "    .dataframe thead th {\n",
       "        text-align: right;\n",
       "    }\n",
       "</style>\n",
       "<table border=\"1\" class=\"dataframe\">\n",
       "  <thead>\n",
       "    <tr style=\"text-align: right;\">\n",
       "      <th></th>\n",
       "      <th>nombre_hotel</th>\n",
       "      <th>estrellas</th>\n",
       "      <th>precio_noche</th>\n",
       "    </tr>\n",
       "  </thead>\n",
       "  <tbody>\n",
       "    <tr>\n",
       "      <th>0</th>\n",
       "      <td>ibis Styles Madrid Prado</td>\n",
       "      <td>3</td>\n",
       "      <td>179</td>\n",
       "    </tr>\n",
       "    <tr>\n",
       "      <th>1</th>\n",
       "      <td>Mercure Madrid Centro</td>\n",
       "      <td>4</td>\n",
       "      <td>172</td>\n",
       "    </tr>\n",
       "    <tr>\n",
       "      <th>2</th>\n",
       "      <td>ibis budget Madrid Centro Lavapies</td>\n",
       "      <td>1</td>\n",
       "      <td>119</td>\n",
       "    </tr>\n",
       "    <tr>\n",
       "      <th>3</th>\n",
       "      <td>ibis Styles Madrid Centro Maravillas</td>\n",
       "      <td>2</td>\n",
       "      <td>95</td>\n",
       "    </tr>\n",
       "    <tr>\n",
       "      <th>4</th>\n",
       "      <td>Novotel Madrid Center</td>\n",
       "      <td>4</td>\n",
       "      <td>116</td>\n",
       "    </tr>\n",
       "    <tr>\n",
       "      <th>5</th>\n",
       "      <td>ibis budget Madrid Calle 30</td>\n",
       "      <td>1</td>\n",
       "      <td>90</td>\n",
       "    </tr>\n",
       "    <tr>\n",
       "      <th>6</th>\n",
       "      <td>ibis Madrid Centro las Ventas</td>\n",
       "      <td>2</td>\n",
       "      <td>97</td>\n",
       "    </tr>\n",
       "    <tr>\n",
       "      <th>7</th>\n",
       "      <td>ibis budget Madrid Centro las Ventas</td>\n",
       "      <td>1</td>\n",
       "      <td>83</td>\n",
       "    </tr>\n",
       "    <tr>\n",
       "      <th>8</th>\n",
       "      <td>Novotel Madrid City Las Ventas</td>\n",
       "      <td>4</td>\n",
       "      <td>99</td>\n",
       "    </tr>\n",
       "    <tr>\n",
       "      <th>9</th>\n",
       "      <td>ibis Styles Madrid City Las Ventas</td>\n",
       "      <td>4</td>\n",
       "      <td>77</td>\n",
       "    </tr>\n",
       "  </tbody>\n",
       "</table>\n",
       "</div>"
      ],
      "text/plain": [
       "                           nombre_hotel estrellas precio_noche\n",
       "0              ibis Styles Madrid Prado         3          179\n",
       "1                 Mercure Madrid Centro         4          172\n",
       "2    ibis budget Madrid Centro Lavapies         1          119\n",
       "3  ibis Styles Madrid Centro Maravillas         2           95\n",
       "4                 Novotel Madrid Center         4          116\n",
       "5           ibis budget Madrid Calle 30         1           90\n",
       "6         ibis Madrid Centro las Ventas         2           97\n",
       "7  ibis budget Madrid Centro las Ventas         1           83\n",
       "8        Novotel Madrid City Las Ventas         4           99\n",
       "9    ibis Styles Madrid City Las Ventas         4           77"
      ]
     },
     "execution_count": 21,
     "metadata": {},
     "output_type": "execute_result"
    }
   ],
   "source": [
    "# URL de la web con hoteles en Madrid\n",
    "url_hoteles = \"https://all.accor.com/ssr/app/ibis/hotels/madrid-spain/index.es.shtml?dateIn=2025-03-01&nights=1\"\n",
    "\n",
    "# Ejecutar el scraping\n",
    "datos_hoteles = scrap_info_hoteles(url_hoteles)\n",
    "\n",
    "# Convertir a DataFrame y visualizar\n",
    "df_hoteles_competencia = pd.DataFrame(datos_hoteles)\n",
    "df_hoteles_competencia"
   ]
  },
  {
   "cell_type": "code",
   "execution_count": 26,
   "metadata": {},
   "outputs": [
    {
     "name": "stdout",
     "output_type": "stream",
     "text": [
      "<class 'pandas.core.frame.DataFrame'>\n",
      "RangeIndex: 10 entries, 0 to 9\n",
      "Data columns (total 3 columns):\n",
      " #   Column        Non-Null Count  Dtype \n",
      "---  ------        --------------  ----- \n",
      " 0   nombre_hotel  10 non-null     object\n",
      " 1   estrellas     10 non-null     int64 \n",
      " 2   precio_noche  10 non-null     object\n",
      "dtypes: int64(1), object(2)\n",
      "memory usage: 372.0+ bytes\n"
     ]
    }
   ],
   "source": [
    "df_hoteles_competencia[\"estrellas\"] = df_hoteles_competencia[\"estrellas\"].astype(int)\n",
    "df_hoteles_competencia.info()"
   ]
  },
  {
   "cell_type": "code",
   "execution_count": 27,
   "metadata": {},
   "outputs": [],
   "source": [
    "df_hoteles_competencia.to_csv(\"../data/10_hoteles_competencia.csv\", index=False)"
   ]
  }
 ],
 "metadata": {
  "kernelspec": {
   "display_name": "venv",
   "language": "python",
   "name": "python3"
  },
  "language_info": {
   "codemirror_mode": {
    "name": "ipython",
    "version": 3
   },
   "file_extension": ".py",
   "mimetype": "text/x-python",
   "name": "python",
   "nbconvert_exporter": "python",
   "pygments_lexer": "ipython3",
   "version": "3.12.4"
  }
 },
 "nbformat": 4,
 "nbformat_minor": 2
}

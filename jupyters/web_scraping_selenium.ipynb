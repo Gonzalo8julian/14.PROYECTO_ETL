{
 "cells": [
  {
   "cell_type": "code",
   "execution_count": 49,
   "metadata": {},
   "outputs": [],
   "source": [
    "from selenium import webdriver\n",
    "from selenium.webdriver.common.by import By\n",
    "import time\n",
    "import pandas as pd"
   ]
  },
  {
   "cell_type": "code",
   "execution_count": null,
   "metadata": {},
   "outputs": [],
   "source": [
    "#Setear opciones\n",
    "options = webdriver.ChromeOptions() #Para poder agregar opciones\n",
    "options.add_argument (\"window-size=1920x1080\")\n",
    "options.add_argument (\"--incognito\")\n"
   ]
  },
  {
   "cell_type": "code",
   "execution_count": 16,
   "metadata": {},
   "outputs": [],
   "source": [
    "url = \"https://all.accor.com/ssr/app/ibis/hotels/madrid-spain/index.es.shtml?token=TREINUC0WQ2N_9T0EeBaq3SmP8rDYTTgX7VyCgpD5WkxdN6wCFIREv02316n2O9J2apBOETAtoUskKVRJ_7vaHMrzuQoim2nWruGu-5hNAzU5LLXZGafvWH8TFJDYncZ3iqMXq_TwVD8PfaBhvxLKoHQBiIfQJu-cHw_NjnM9NtNmdtl3RaUwBsO-_mKrxkFamuKqEoEM0Ud30nbxuE1vFOh9jmpWvCARJaxVh3aPjJsqkpLb0s5U9I8kgOYUATvCj0VKofdLRCfzvw0MvdRYw5Zt4cyd1Mj-4kBwAYhUUTeekoATjo3nG6xiV_KbaXMsXAupbx--AynV9jpowiQ-AVaYIX4-d2XLVthx-bIR6h9wAmMaeU0vLLM9xr8cE0-pDwhtuOfS6x0XwHxh63E7tkAHgcLvtR8ARm1o8cpVEvq7IvvEUbkjt2uazkvE6SNyabLngO4AzYrnhi-KbxjT8qO1JByL6vOK8UC04WNCx3by0BUXCkkkN4wdw5GQH3AHW4L87mtpOY6AWKlQwTDEl0dWX1RW4oEdqyyiTovnIAL7CFCk5qIfg8kUhgpP0qc8ZvQBNe5OVEIohJ5QMP_K0xOQwmVbFscEXVbivjtU-NDeV-mkUdVgcDD1iFVihuKYKM3pe8JEDZ9-D7tyhyNdIHsQUXwq1mYbUVcI7-nxFBJJ__ido95TKpwLXym1ty4PHBIztijPp2oRuKZWdyNQM8lcJ_EsqFRHXFLK4uwQJISYwwhJ0bDym4qWMifk7CnA0dfjllcdCqhXYGby7djwce1ToNEEc3XWOrtBAeY0CAIVusvBUTPwS_7OdbHcrVQIlA8GD0uVIrJrUmymaq0OrY31GNJf-CYF0qgpeh0vI3vuLuAH-CUj-t7S65A6DLTm149lRhWVBdUjuTr8-2vXqqeo3kQNth4oQobGfM1s1sV_EAkesVWuG6o0QAJFoY76rWsmReXfOW6wKyFclGrFwO-gaLyxeW5MdcbZZuBC9m0GzT7-6hhgbijG9mf_mezg7TQ5V9SGwgSJc3srnCFS784uvs4DrbIY9oJ09OhVa4eHBdgfttTC3njeYc0T4TbfM3Ugj-FlIRSTztl2JC3dfA04SxC9NTlau0LpmA_MGgdANcyMG04gqrGklSRHip3cFFFsCIrEJb1xCg3szk8YVhCZO2Vjp9PmlFshZPEQLS2ULe9dCV-ioLY3S65gyym18dQzxxWVGpxdCvslHbYGbEkrscsAcF50BdwGAcHzdrG0x_u&compositions=1&stayplus=false&snu=false&hideWDR=false&productCode=null&accessibleRooms=false&hideHotelDetails=false\""
   ]
  },
  {
   "cell_type": "code",
   "execution_count": null,
   "metadata": {},
   "outputs": [
    {
     "name": "stdout",
     "output_type": "stream",
     "text": [
      "Primer paso: busco todos los hoteles\n",
      "10\n",
      "[<selenium.webdriver.remote.webelement.WebElement (session=\"184bb1789d2d0bf85e5078347afad7c7\", element=\"f.DED24B312954E6F2039F11FCEB130094.d.1126CA3329CEAD4ADCB460AB39E5532D.e.949\")>, <selenium.webdriver.remote.webelement.WebElement (session=\"184bb1789d2d0bf85e5078347afad7c7\", element=\"f.DED24B312954E6F2039F11FCEB130094.d.1126CA3329CEAD4ADCB460AB39E5532D.e.71\")>, <selenium.webdriver.remote.webelement.WebElement (session=\"184bb1789d2d0bf85e5078347afad7c7\", element=\"f.DED24B312954E6F2039F11FCEB130094.d.1126CA3329CEAD4ADCB460AB39E5532D.e.1097\")>, <selenium.webdriver.remote.webelement.WebElement (session=\"184bb1789d2d0bf85e5078347afad7c7\", element=\"f.DED24B312954E6F2039F11FCEB130094.d.1126CA3329CEAD4ADCB460AB39E5532D.e.1173\")>, <selenium.webdriver.remote.webelement.WebElement (session=\"184bb1789d2d0bf85e5078347afad7c7\", element=\"f.DED24B312954E6F2039F11FCEB130094.d.1126CA3329CEAD4ADCB460AB39E5532D.e.1259\")>, <selenium.webdriver.remote.webelement.WebElement (session=\"184bb1789d2d0bf85e5078347afad7c7\", element=\"f.DED24B312954E6F2039F11FCEB130094.d.1126CA3329CEAD4ADCB460AB39E5532D.e.1323\")>, <selenium.webdriver.remote.webelement.WebElement (session=\"184bb1789d2d0bf85e5078347afad7c7\", element=\"f.DED24B312954E6F2039F11FCEB130094.d.1126CA3329CEAD4ADCB460AB39E5532D.e.1403\")>, <selenium.webdriver.remote.webelement.WebElement (session=\"184bb1789d2d0bf85e5078347afad7c7\", element=\"f.DED24B312954E6F2039F11FCEB130094.d.1126CA3329CEAD4ADCB460AB39E5532D.e.1458\")>, <selenium.webdriver.remote.webelement.WebElement (session=\"184bb1789d2d0bf85e5078347afad7c7\", element=\"f.DED24B312954E6F2039F11FCEB130094.d.1126CA3329CEAD4ADCB460AB39E5532D.e.1518\")>, <selenium.webdriver.remote.webelement.WebElement (session=\"184bb1789d2d0bf85e5078347afad7c7\", element=\"f.DED24B312954E6F2039F11FCEB130094.d.1126CA3329CEAD4ADCB460AB39E5532D.e.1594\")>]\n",
      "Aquí para cada hotel me muestra el nombre y las estrellas\n",
      "Ahora me va a enseñar el precio por cada hotel\n",
      "251€\n",
      "Aquí para cada hotel me muestra el nombre y las estrellas\n",
      "Ahora me va a enseñar el precio por cada hotel\n",
      "188€\n",
      "Aquí para cada hotel me muestra el nombre y las estrellas\n",
      "Ahora me va a enseñar el precio por cada hotel\n",
      "214€\n",
      "Aquí para cada hotel me muestra el nombre y las estrellas\n",
      "Ahora me va a enseñar el precio por cada hotel\n",
      "135€\n",
      "Aquí para cada hotel me muestra el nombre y las estrellas\n",
      "Ahora me va a enseñar el precio por cada hotel\n",
      "135€\n",
      "Aquí para cada hotel me muestra el nombre y las estrellas\n",
      "Ahora me va a enseñar el precio por cada hotel\n",
      "154€\n"
     ]
    },
    {
     "ename": "ValueError",
     "evalue": "not enough values to unpack (expected 2, got 1)",
     "output_type": "error",
     "traceback": [
      "\u001b[0;31m---------------------------------------------------------------------------\u001b[0m",
      "\u001b[0;31mValueError\u001b[0m                                Traceback (most recent call last)",
      "Cell \u001b[0;32mIn[28], line 9\u001b[0m\n\u001b[1;32m      7\u001b[0m \u001b[38;5;28mprint\u001b[39m(hoteles)\n\u001b[1;32m      8\u001b[0m \u001b[38;5;28;01mfor\u001b[39;00m hotel \u001b[38;5;129;01min\u001b[39;00m hoteles:\n\u001b[0;32m----> 9\u001b[0m     nombre, estrellas \u001b[38;5;241m=\u001b[39m hotel\u001b[38;5;241m.\u001b[39mfind_element(By\u001b[38;5;241m.\u001b[39mCLASS_NAME, \u001b[38;5;124m\"\u001b[39m\u001b[38;5;124mtitle\u001b[39m\u001b[38;5;124m\"\u001b[39m)\u001b[38;5;241m.\u001b[39mtext\u001b[38;5;241m.\u001b[39msplit(\u001b[38;5;124m\"\u001b[39m\u001b[38;5;130;01m\\n\u001b[39;00m\u001b[38;5;124m\"\u001b[39m)\n\u001b[1;32m     10\u001b[0m     \u001b[38;5;28mprint\u001b[39m(\u001b[38;5;124m\"\u001b[39m\u001b[38;5;124mAquí para cada hotel me muestra el nombre y las estrellas\u001b[39m\u001b[38;5;124m\"\u001b[39m)\n\u001b[1;32m     11\u001b[0m     precio \u001b[38;5;241m=\u001b[39m hotel\u001b[38;5;241m.\u001b[39mfind_element(By\u001b[38;5;241m.\u001b[39mCLASS_NAME, \u001b[38;5;124m\"\u001b[39m\u001b[38;5;124mbooking-price\u001b[39m\u001b[38;5;124m\"\u001b[39m)\u001b[38;5;241m.\u001b[39mtext\n",
      "\u001b[0;31mValueError\u001b[0m: not enough values to unpack (expected 2, got 1)"
     ]
    }
   ],
   "source": [
    "driver = webdriver.Chrome(options=options)\n",
    "driver.get(url)\n",
    "time.sleep(5)\n",
    "hoteles = driver.find_elements(By.CLASS_NAME, \"hotelblock__content\")\n",
    "print(\"Primer paso: busco todos los hoteles\")\n",
    "print(len(hoteles))\n",
    "print(hoteles)\n",
    "for hotel in hoteles:\n",
    "    nombre, estrellas = hotel.find_element(By.CLASS_NAME, \"title\").text.split(\"\\n\")\n",
    "    print(\"Aquí para cada hotel me muestra el nombre y las estrellas\")\n",
    "    print(nombre, estrellas)\n",
    "    precio = hotel.find_element(By.CLASS_NAME, \"booking-price\").text\n",
    "    print(\"Ahora me va a enseñar el precio por cada hotel\")\n",
    "    print(precio)\n",
    "driver.close()\n",
    "driver.quit()\n"
   ]
  },
  {
   "cell_type": "code",
   "execution_count": 56,
   "metadata": {},
   "outputs": [
    {
     "name": "stdout",
     "output_type": "stream",
     "text": [
      "Primer paso: busco todos los hoteles\n",
      "Número de hoteles encontrados: 15\n",
      "Hotel: ibis Styles Madrid Prado\n",
      "3 Estrellas, Estrellas: 4.7, Precio: 251€\n",
      "Hotel: Mercure Madrid Centro\n",
      "4 Estrellas, Estrellas: 4.4, Precio: Sin precio\n",
      "Hotel: ibis budget Madrid Centro Lavapies\n",
      "1 Estrellas, Estrellas: 4.3, Precio: Sin precio\n",
      "Hotel: ibis Styles Madrid Centro Maravillas\n",
      "2 Estrellas, Estrellas: 4.7, Precio: 214€\n",
      "Hotel: ibis Madrid Centro las Ventas\n",
      "2 Estrellas, Estrellas: 4.5, Precio: 135€\n",
      "Hotel: ibis budget Madrid Centro las Ventas\n",
      "1 Estrellas, Estrellas: 4.3, Precio: 135€\n",
      "Hotel: Novotel Madrid Center\n",
      "4 Estrellas, Estrellas: 4.6, Precio: Sin precio\n",
      "Hotel: ibis budget Madrid Calle 30\n",
      "1 Estrellas, Estrellas: 4.4, Precio: Sin precio\n",
      "Hotel: Novotel Madrid City Las Ventas\n",
      "4 Estrellas, Estrellas: 4.6, Precio: Sin precio\n",
      "Hotel: ibis Styles Madrid City Las Ventas\n",
      "4 Estrellas, Estrellas: 4.6, Precio: 154€\n",
      "Hotel: , Estrellas: , Precio: \n",
      "Hotel: , Estrellas: , Precio: \n",
      "Hotel: , Estrellas: , Precio: \n",
      "Hotel: , Estrellas: , Precio: \n",
      "Hotel: , Estrellas: , Precio: \n"
     ]
    }
   ],
   "source": [
    "driver = webdriver.Chrome(options=options)\n",
    "driver.get(url)\n",
    "time.sleep(5)\n",
    "hoteles = driver.find_elements(By.CLASS_NAME, \"hotelblock__content\")\n",
    "\n",
    "print(\"Primer paso: busco todos los hoteles\")\n",
    "print(\"Número de hoteles encontrados:\", len(hoteles))\n",
    "\n",
    "hoteles_lista = []\n",
    "\n",
    "# ✅ Verificar que haya hoteles antes de iterar\n",
    "if not hoteles:\n",
    "    print(\"No se encontraron hoteles\")\n",
    "else:\n",
    "    # ✅ Recorrer cada hotel y extraer la información\n",
    "    for hotel in hoteles:\n",
    "        try:\n",
    "            nombre = hotel.find_element(By.CLASS_NAME, \"title\").text\n",
    "        except:\n",
    "            nombre = \"Sin nombre\"\n",
    "\n",
    "        try:\n",
    "            estrellas = hotel.find_element(By.CLASS_NAME, \"ratings__score\").text.split(\"\\n\")[0].replace(\"/\", \"\").strip()\n",
    "        except:\n",
    "            estrellas = \"Sin estrellas\"\n",
    "\n",
    "        try:\n",
    "            precio = hotel.find_element(By.CLASS_NAME, \"booking-price\").text\n",
    "        except:\n",
    "            precio = \"Sin precio\"\n",
    "\n",
    "        print(f\"Hotel: {nombre}, Estrellas: {estrellas}, Precio: {precio}\")\n",
    "\n",
    "        # ✅ Agregar los datos como un diccionario en la lista\n",
    "        hoteles_lista.append({\n",
    "            \"nombre_hotel\": nombre,\n",
    "            \"estrellas\": estrellas,\n",
    "            \"precio_noche\": precio\n",
    "        })\n",
    "\n",
    "driver.close()\n",
    "driver.quit()\n"
   ]
  },
  {
   "cell_type": "code",
   "execution_count": 57,
   "metadata": {},
   "outputs": [
    {
     "data": {
      "application/vnd.microsoft.datawrangler.viewer.v0+json": {
       "columns": [
        {
         "name": "index",
         "rawType": "int64",
         "type": "integer"
        },
        {
         "name": "nombre_hotel",
         "rawType": "object",
         "type": "string"
        },
        {
         "name": "estrellas",
         "rawType": "object",
         "type": "string"
        },
        {
         "name": "precio_noche",
         "rawType": "object",
         "type": "string"
        }
       ],
       "conversionMethod": "pd.DataFrame",
       "ref": "2c3cc65e-c144-427a-b9bb-5a6e41620a41",
       "rows": [
        [
         "0",
         "ibis Styles Madrid Prado\n3 Estrellas",
         "4.7",
         "251€"
        ],
        [
         "1",
         "Mercure Madrid Centro\n4 Estrellas",
         "4.4",
         "Sin precio"
        ],
        [
         "2",
         "ibis budget Madrid Centro Lavapies\n1 Estrellas",
         "4.3",
         "Sin precio"
        ],
        [
         "3",
         "ibis Styles Madrid Centro Maravillas\n2 Estrellas",
         "4.7",
         "214€"
        ],
        [
         "4",
         "ibis Madrid Centro las Ventas\n2 Estrellas",
         "4.5",
         "135€"
        ],
        [
         "5",
         "ibis budget Madrid Centro las Ventas\n1 Estrellas",
         "4.3",
         "135€"
        ],
        [
         "6",
         "Novotel Madrid Center\n4 Estrellas",
         "4.6",
         "Sin precio"
        ],
        [
         "7",
         "ibis budget Madrid Calle 30\n1 Estrellas",
         "4.4",
         "Sin precio"
        ],
        [
         "8",
         "Novotel Madrid City Las Ventas\n4 Estrellas",
         "4.6",
         "Sin precio"
        ],
        [
         "9",
         "ibis Styles Madrid City Las Ventas\n4 Estrellas",
         "4.6",
         "154€"
        ],
        [
         "10",
         "",
         "",
         ""
        ],
        [
         "11",
         "",
         "",
         ""
        ],
        [
         "12",
         "",
         "",
         ""
        ],
        [
         "13",
         "",
         "",
         ""
        ],
        [
         "14",
         "",
         "",
         ""
        ]
       ],
       "shape": {
        "columns": 3,
        "rows": 15
       }
      },
      "text/html": [
       "<div>\n",
       "<style scoped>\n",
       "    .dataframe tbody tr th:only-of-type {\n",
       "        vertical-align: middle;\n",
       "    }\n",
       "\n",
       "    .dataframe tbody tr th {\n",
       "        vertical-align: top;\n",
       "    }\n",
       "\n",
       "    .dataframe thead th {\n",
       "        text-align: right;\n",
       "    }\n",
       "</style>\n",
       "<table border=\"1\" class=\"dataframe\">\n",
       "  <thead>\n",
       "    <tr style=\"text-align: right;\">\n",
       "      <th></th>\n",
       "      <th>nombre_hotel</th>\n",
       "      <th>estrellas</th>\n",
       "      <th>precio_noche</th>\n",
       "    </tr>\n",
       "  </thead>\n",
       "  <tbody>\n",
       "    <tr>\n",
       "      <th>0</th>\n",
       "      <td>ibis Styles Madrid Prado\\n3 Estrellas</td>\n",
       "      <td>4.7</td>\n",
       "      <td>251€</td>\n",
       "    </tr>\n",
       "    <tr>\n",
       "      <th>1</th>\n",
       "      <td>Mercure Madrid Centro\\n4 Estrellas</td>\n",
       "      <td>4.4</td>\n",
       "      <td>Sin precio</td>\n",
       "    </tr>\n",
       "    <tr>\n",
       "      <th>2</th>\n",
       "      <td>ibis budget Madrid Centro Lavapies\\n1 Estrellas</td>\n",
       "      <td>4.3</td>\n",
       "      <td>Sin precio</td>\n",
       "    </tr>\n",
       "    <tr>\n",
       "      <th>3</th>\n",
       "      <td>ibis Styles Madrid Centro Maravillas\\n2 Estrellas</td>\n",
       "      <td>4.7</td>\n",
       "      <td>214€</td>\n",
       "    </tr>\n",
       "    <tr>\n",
       "      <th>4</th>\n",
       "      <td>ibis Madrid Centro las Ventas\\n2 Estrellas</td>\n",
       "      <td>4.5</td>\n",
       "      <td>135€</td>\n",
       "    </tr>\n",
       "    <tr>\n",
       "      <th>5</th>\n",
       "      <td>ibis budget Madrid Centro las Ventas\\n1 Estrellas</td>\n",
       "      <td>4.3</td>\n",
       "      <td>135€</td>\n",
       "    </tr>\n",
       "    <tr>\n",
       "      <th>6</th>\n",
       "      <td>Novotel Madrid Center\\n4 Estrellas</td>\n",
       "      <td>4.6</td>\n",
       "      <td>Sin precio</td>\n",
       "    </tr>\n",
       "    <tr>\n",
       "      <th>7</th>\n",
       "      <td>ibis budget Madrid Calle 30\\n1 Estrellas</td>\n",
       "      <td>4.4</td>\n",
       "      <td>Sin precio</td>\n",
       "    </tr>\n",
       "    <tr>\n",
       "      <th>8</th>\n",
       "      <td>Novotel Madrid City Las Ventas\\n4 Estrellas</td>\n",
       "      <td>4.6</td>\n",
       "      <td>Sin precio</td>\n",
       "    </tr>\n",
       "    <tr>\n",
       "      <th>9</th>\n",
       "      <td>ibis Styles Madrid City Las Ventas\\n4 Estrellas</td>\n",
       "      <td>4.6</td>\n",
       "      <td>154€</td>\n",
       "    </tr>\n",
       "    <tr>\n",
       "      <th>10</th>\n",
       "      <td></td>\n",
       "      <td></td>\n",
       "      <td></td>\n",
       "    </tr>\n",
       "    <tr>\n",
       "      <th>11</th>\n",
       "      <td></td>\n",
       "      <td></td>\n",
       "      <td></td>\n",
       "    </tr>\n",
       "    <tr>\n",
       "      <th>12</th>\n",
       "      <td></td>\n",
       "      <td></td>\n",
       "      <td></td>\n",
       "    </tr>\n",
       "    <tr>\n",
       "      <th>13</th>\n",
       "      <td></td>\n",
       "      <td></td>\n",
       "      <td></td>\n",
       "    </tr>\n",
       "    <tr>\n",
       "      <th>14</th>\n",
       "      <td></td>\n",
       "      <td></td>\n",
       "      <td></td>\n",
       "    </tr>\n",
       "  </tbody>\n",
       "</table>\n",
       "</div>"
      ],
      "text/plain": [
       "                                         nombre_hotel estrellas precio_noche\n",
       "0               ibis Styles Madrid Prado\\n3 Estrellas       4.7         251€\n",
       "1                  Mercure Madrid Centro\\n4 Estrellas       4.4   Sin precio\n",
       "2     ibis budget Madrid Centro Lavapies\\n1 Estrellas       4.3   Sin precio\n",
       "3   ibis Styles Madrid Centro Maravillas\\n2 Estrellas       4.7         214€\n",
       "4          ibis Madrid Centro las Ventas\\n2 Estrellas       4.5         135€\n",
       "5   ibis budget Madrid Centro las Ventas\\n1 Estrellas       4.3         135€\n",
       "6                  Novotel Madrid Center\\n4 Estrellas       4.6   Sin precio\n",
       "7            ibis budget Madrid Calle 30\\n1 Estrellas       4.4   Sin precio\n",
       "8         Novotel Madrid City Las Ventas\\n4 Estrellas       4.6   Sin precio\n",
       "9     ibis Styles Madrid City Las Ventas\\n4 Estrellas       4.6         154€\n",
       "10                                                                          \n",
       "11                                                                          \n",
       "12                                                                          \n",
       "13                                                                          \n",
       "14                                                                          "
      ]
     },
     "execution_count": 57,
     "metadata": {},
     "output_type": "execute_result"
    }
   ],
   "source": [
    "df_hoteles = pd.DataFrame(hoteles_lista)\n",
    "df_hoteles"
   ]
  },
  {
   "cell_type": "code",
   "execution_count": 54,
   "metadata": {},
   "outputs": [],
   "source": [
    "df_hoteles.to_csv(\"../data/10_hoteles_competencia.csv\", index=False)"
   ]
  }
 ],
 "metadata": {
  "kernelspec": {
   "display_name": "venv",
   "language": "python",
   "name": "python3"
  },
  "language_info": {
   "codemirror_mode": {
    "name": "ipython",
    "version": 3
   },
   "file_extension": ".py",
   "mimetype": "text/x-python",
   "name": "python",
   "nbconvert_exporter": "python",
   "pygments_lexer": "ipython3",
   "version": "3.12.4"
  }
 },
 "nbformat": 4,
 "nbformat_minor": 2
}

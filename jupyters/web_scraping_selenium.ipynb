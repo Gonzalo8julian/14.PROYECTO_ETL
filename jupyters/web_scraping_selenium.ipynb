{
 "cells": [
  {
   "cell_type": "code",
   "execution_count": 1,
   "metadata": {},
   "outputs": [],
   "source": [
    "import pandas as pd\n",
    "import numpy as np\n",
    "import pyarrow \n",
    "import seaborn as sb\n",
    "import requests\n",
    "from bs4 import BeautifulSoup as bs"
   ]
  },
  {
   "cell_type": "code",
   "execution_count": 5,
   "metadata": {},
   "outputs": [],
   "source": [
    "url = \"https://all.accor.com/ssr/app/ibis/hotels/madrid-spain/index.es.shtml?compositions=1&stayplus=false&snu=false&hideWDR=false&accessibleRooms=false&hideHotelDetails=false&dateIn=2025-03-01&nights=1&destination=madrid-spain\""
   ]
  },
  {
   "cell_type": "code",
   "execution_count": 12,
   "metadata": {},
   "outputs": [],
   "source": [
    "def scrap_info_hoteles(url):\n",
    "# Diccionario para almacenar los datos\n",
    "    dictio_scrap = {\n",
    "        \"nombre_hotel\": [],\n",
    "    }\n",
    "    # URL de ejemplo (ajusta según la web que estás scrapeando)\n",
    "    res = requests.get(url)\n",
    "\n",
    "    if res.status_code == 200:\n",
    "        sopa = bs(res.content, \"html.parser\")\n",
    "\n",
    "        # Encontrar todos los hoteles en la página\n",
    "        hoteles = sopa.find_all(\"a\", class_=\"title__link\")[:10]\n",
    "\n",
    "        for hotel in hoteles:\n",
    "            # ✅ Nombre del hotel\n",
    "            nombre_hotel = hotel.contents[0].strip() if hotel else \"Sin nombre\"\n",
    "\n",
    "            # ✅ Agregar cada dato en su lista correspondiente\n",
    "            dictio_scrap[\"nombre_hotel\"].append(nombre_hotel)\n",
    "    return dictio_scrap"
   ]
  },
  {
   "cell_type": "code",
   "execution_count": 27,
   "metadata": {},
   "outputs": [
    {
     "data": {
      "application/vnd.microsoft.datawrangler.viewer.v0+json": {
       "columns": [
        {
         "name": "index",
         "rawType": "int64",
         "type": "integer"
        },
        {
         "name": "nombre_hotel",
         "rawType": "object",
         "type": "string"
        }
       ],
       "conversionMethod": "pd.DataFrame",
       "ref": "b40e1973-999f-47bf-84dd-e2a33666a0ad",
       "rows": [
        [
         "0",
         "ibis Styles Madrid Prado"
        ],
        [
         "1",
         "Mercure Madrid Centro"
        ],
        [
         "2",
         "ibis budget Madrid Centro Lavapies"
        ],
        [
         "3",
         "ibis Styles Madrid Centro Maravillas"
        ],
        [
         "4",
         "Novotel Madrid Center"
        ],
        [
         "5",
         "ibis budget Madrid Calle 30"
        ],
        [
         "6",
         "ibis Madrid Centro las Ventas"
        ],
        [
         "7",
         "ibis budget Madrid Centro las Ventas"
        ],
        [
         "8",
         "Novotel Madrid City Las Ventas"
        ],
        [
         "9",
         "ibis Styles Madrid City Las Ventas"
        ]
       ],
       "shape": {
        "columns": 1,
        "rows": 10
       }
      },
      "text/html": [
       "<div>\n",
       "<style scoped>\n",
       "    .dataframe tbody tr th:only-of-type {\n",
       "        vertical-align: middle;\n",
       "    }\n",
       "\n",
       "    .dataframe tbody tr th {\n",
       "        vertical-align: top;\n",
       "    }\n",
       "\n",
       "    .dataframe thead th {\n",
       "        text-align: right;\n",
       "    }\n",
       "</style>\n",
       "<table border=\"1\" class=\"dataframe\">\n",
       "  <thead>\n",
       "    <tr style=\"text-align: right;\">\n",
       "      <th></th>\n",
       "      <th>nombre_hotel</th>\n",
       "    </tr>\n",
       "  </thead>\n",
       "  <tbody>\n",
       "    <tr>\n",
       "      <th>0</th>\n",
       "      <td>ibis Styles Madrid Prado</td>\n",
       "    </tr>\n",
       "    <tr>\n",
       "      <th>1</th>\n",
       "      <td>Mercure Madrid Centro</td>\n",
       "    </tr>\n",
       "    <tr>\n",
       "      <th>2</th>\n",
       "      <td>ibis budget Madrid Centro Lavapies</td>\n",
       "    </tr>\n",
       "    <tr>\n",
       "      <th>3</th>\n",
       "      <td>ibis Styles Madrid Centro Maravillas</td>\n",
       "    </tr>\n",
       "    <tr>\n",
       "      <th>4</th>\n",
       "      <td>Novotel Madrid Center</td>\n",
       "    </tr>\n",
       "    <tr>\n",
       "      <th>5</th>\n",
       "      <td>ibis budget Madrid Calle 30</td>\n",
       "    </tr>\n",
       "    <tr>\n",
       "      <th>6</th>\n",
       "      <td>ibis Madrid Centro las Ventas</td>\n",
       "    </tr>\n",
       "    <tr>\n",
       "      <th>7</th>\n",
       "      <td>ibis budget Madrid Centro las Ventas</td>\n",
       "    </tr>\n",
       "    <tr>\n",
       "      <th>8</th>\n",
       "      <td>Novotel Madrid City Las Ventas</td>\n",
       "    </tr>\n",
       "    <tr>\n",
       "      <th>9</th>\n",
       "      <td>ibis Styles Madrid City Las Ventas</td>\n",
       "    </tr>\n",
       "  </tbody>\n",
       "</table>\n",
       "</div>"
      ],
      "text/plain": [
       "                           nombre_hotel\n",
       "0              ibis Styles Madrid Prado\n",
       "1                 Mercure Madrid Centro\n",
       "2    ibis budget Madrid Centro Lavapies\n",
       "3  ibis Styles Madrid Centro Maravillas\n",
       "4                 Novotel Madrid Center\n",
       "5           ibis budget Madrid Calle 30\n",
       "6         ibis Madrid Centro las Ventas\n",
       "7  ibis budget Madrid Centro las Ventas\n",
       "8        Novotel Madrid City Las Ventas\n",
       "9    ibis Styles Madrid City Las Ventas"
      ]
     },
     "execution_count": 27,
     "metadata": {},
     "output_type": "execute_result"
    }
   ],
   "source": [
    "dictio_hoteles_competencia = scrap_info_hoteles(url)\n",
    "df_hoteles_competencia = pd.DataFrame(dictio_hoteles_competencia)\n",
    "df_hoteles_competencia"
   ]
  },
  {
   "cell_type": "code",
   "execution_count": 17,
   "metadata": {},
   "outputs": [],
   "source": [
    "from selenium import webdriver\n",
    "from selenium.webdriver.common.by import By\n",
    "import time\n",
    "import pandas as pd"
   ]
  },
  {
   "cell_type": "code",
   "execution_count": 18,
   "metadata": {},
   "outputs": [],
   "source": [
    "#Setear opciones\n",
    "options = webdriver.ChromeOptions() #Para poder agregar opciones\n",
    "options.add_argument (\"window-size=1920x1080\")\n",
    "options.add_argument (\"--incognito\")\n"
   ]
  },
  {
   "cell_type": "code",
   "execution_count": 19,
   "metadata": {},
   "outputs": [],
   "source": [
    "url = \"https://all.accor.com/ssr/app/ibis/hotels/madrid-spain/index.es.shtml?token=TREINUC0WQ2N_9T0EeBaq3SmP8rDYTTgX7VyCgpD5WkxdN6wCFIREv02316n2O9J2apBOETAtoUskKVRJ_7vaHMrzuQoim2nWruGu-5hNAzU5LLXZGafvWH8TFJDYncZ3iqMXq_TwVD8PfaBhvxLKoHQBiIfQJu-cHw_NjnM9NtNmdtl3RaUwBsO-_mKrxkFamuKqEoEM0Ud30nbxuE1vFOh9jmpWvCARJaxVh3aPjJsqkpLb0s5U9I8kgOYUATvCj0VKofdLRCfzvw0MvdRYw5Zt4cyd1Mj-4kBwAYhUUTeekoATjo3nG6xiV_KbaXMsXAupbx--AynV9jpowiQ-AVaYIX4-d2XLVthx-bIR6h9wAmMaeU0vLLM9xr8cE0-pDwhtuOfS6x0XwHxh63E7tkAHgcLvtR8ARm1o8cpVEvq7IvvEUbkjt2uazkvE6SNyabLngO4AzYrnhi-KbxjT8qO1JByL6vOK8UC04WNCx3by0BUXCkkkN4wdw5GQH3AHW4L87mtpOY6AWKlQwTDEl0dWX1RW4oEdqyyiTovnIAL7CFCk5qIfg8kUhgpP0qc8ZvQBNe5OVEIohJ5QMP_K0xOQwmVbFscEXVbivjtU-NDeV-mkUdVgcDD1iFVihuKYKM3pe8JEDZ9-D7tyhyNdIHsQUXwq1mYbUVcI7-nxFBJJ__ido95TKpwLXym1ty4PHBIztijPp2oRuKZWdyNQM8lcJ_EsqFRHXFLK4uwQJISYwwhJ0bDym4qWMifk7CnA0dfjllcdCqhXYGby7djwce1ToNEEc3XWOrtBAeY0CAIVusvBUTPwS_7OdbHcrVQIlA8GD0uVIrJrUmymaq0OrY31GNJf-CYF0qgpeh0vI3vuLuAH-CUj-t7S65A6DLTm149lRhWVBdUjuTr8-2vXqqeo3kQNth4oQobGfM1s1sV_EAkesVWuG6o0QAJFoY76rWsmReXfOW6wKyFclGrFwO-gaLyxeW5MdcbZZuBC9m0GzT7-6hhgbijG9mf_mezg7TQ5V9SGwgSJc3srnCFS784uvs4DrbIY9oJ09OhVa4eHBdgfttTC3njeYc0T4TbfM3Ugj-FlIRSTztl2JC3dfA04SxC9NTlau0LpmA_MGgdANcyMG04gqrGklSRHip3cFFFsCIrEJb1xCg3szk8YVhCZO2Vjp9PmlFshZPEQLS2ULe9dCV-ioLY3S65gyym18dQzxxWVGpxdCvslHbYGbEkrscsAcF50BdwGAcHzdrG0x_u&compositions=1&stayplus=false&snu=false&hideWDR=false&productCode=null&accessibleRooms=false&hideHotelDetails=false\""
   ]
  },
  {
   "cell_type": "code",
   "execution_count": 69,
   "metadata": {},
   "outputs": [
    {
     "name": "stdout",
     "output_type": "stream",
     "text": [
      "ibis budget Madrid Centro Lavapies\n",
      "ibis Styles Madrid Centro Maravillas\n",
      "ibis budget Madrid Calle 30\n",
      "ibis Madrid Centro las Ventas\n",
      "ibis budget Madrid Centro las Ventas\n",
      "ibis Styles Madrid City Las Ventas\n",
      "ibis budget Madrid Calle Alcalá\n",
      "ibis Madrid Calle Alcalá\n",
      "ibis budget Madrid Vallecas\n",
      "ibis Madrid Getafe\n"
     ]
    }
   ],
   "source": [
    "driver = webdriver.Chrome(options=options)\n",
    "driver.get(url)\n",
    "time.sleep(5)\n",
    "hoteles = driver.find_elements(By.CLASS_NAME, \"hotelblock__content\")\n",
    "\n",
    "hoteles_lista = []\n",
    "\n",
    "#  Verificar que haya hoteles antes de iterar\n",
    "if not hoteles:\n",
    "    print(\"No se encontraron hoteles\")\n",
    "else:\n",
    "    # Recorrer cada hotel y extraer la información\n",
    "    for hotel in hoteles:\n",
    "        try:\n",
    "            nombre = hotel.find_element(By.CLASS_NAME, \"title__link\").text.split(\"\\n\")[0].strip()\n",
    "            print(nombre)\n",
    "        except:\n",
    "            nombre = \"Sin nombre\"\n",
    "        try:\n",
    "            estrellas = hotel.find_element(By.CLASS_NAME, \"ratings__score\").text.split(\"\\n\")[0].replace(\"/\", \"\").strip()\n",
    "        except:\n",
    "            estrellas = \"Sin estrellas\"\n",
    "\n",
    "        try:\n",
    "            precio = hotel.find_element(By.CLASS_NAME, \"booking-price\").text.split(\"\\n\")[0].replace(\"€\", \"\").strip()\n",
    "            precio_noche = pd.to_numeric(precio, errors=\"coerce\")\n",
    "        except:\n",
    "            precio_noche = \"Sin precio\"\n",
    "\n",
    "        # Agregar los datos como un diccionario en la lista\n",
    "        hoteles_lista.append({\n",
    "            \"nombre\": nombre,\n",
    "            \"estrellas\": estrellas,\n",
    "            \"precio_noche\": precio_noche,\n",
    "            \"fecha_reserva\": pd.to_datetime(\"2025-02-19\", format=\"%Y-%m-%d\")\n",
    "        })\n",
    "\n",
    "driver.close()\n",
    "driver.quit()\n"
   ]
  },
  {
   "cell_type": "code",
   "execution_count": 70,
   "metadata": {},
   "outputs": [
    {
     "name": "stdout",
     "output_type": "stream",
     "text": [
      "<class 'pandas.core.frame.DataFrame'>\n",
      "RangeIndex: 10 entries, 0 to 9\n",
      "Data columns (total 4 columns):\n",
      " #   Column         Non-Null Count  Dtype         \n",
      "---  ------         --------------  -----         \n",
      " 0   nombre         10 non-null     object        \n",
      " 1   estrellas      10 non-null     float64       \n",
      " 2   precio_noche   10 non-null     int64         \n",
      " 3   fecha_reserva  10 non-null     datetime64[ns]\n",
      "dtypes: datetime64[ns](1), float64(1), int64(1), object(1)\n",
      "memory usage: 452.0+ bytes\n"
     ]
    }
   ],
   "source": [
    "df_hoteles_competencia= pd.DataFrame(hoteles_lista)\n",
    "df_hoteles_competencia[\"estrellas\"] = df_hoteles_competencia[\"estrellas\"].astype(float)\n",
    "df_hoteles_competencia.info()"
   ]
  },
  {
   "cell_type": "code",
   "execution_count": 71,
   "metadata": {},
   "outputs": [
    {
     "data": {
      "application/vnd.microsoft.datawrangler.viewer.v0+json": {
       "columns": [
        {
         "name": "index",
         "rawType": "int64",
         "type": "integer"
        },
        {
         "name": "nombre",
         "rawType": "object",
         "type": "string"
        },
        {
         "name": "estrellas",
         "rawType": "float64",
         "type": "float"
        },
        {
         "name": "precio_noche",
         "rawType": "int64",
         "type": "integer"
        },
        {
         "name": "fecha_reserva",
         "rawType": "datetime64[ns]",
         "type": "datetime"
        }
       ],
       "conversionMethod": "pd.DataFrame",
       "ref": "d5ed805c-d3b2-497d-97db-1113e96906b7",
       "rows": [
        [
         "0",
         "ibis budget Madrid Centro Lavapies",
         "4.3",
         "106",
         "2025-02-19 00:00:00"
        ],
        [
         "1",
         "ibis Styles Madrid Centro Maravillas",
         "4.7",
         "114",
         "2025-02-19 00:00:00"
        ],
        [
         "2",
         "ibis budget Madrid Calle 30",
         "4.4",
         "79",
         "2025-02-19 00:00:00"
        ],
        [
         "3",
         "ibis Madrid Centro las Ventas",
         "4.5",
         "90",
         "2025-02-19 00:00:00"
        ],
        [
         "4",
         "ibis budget Madrid Centro las Ventas",
         "4.3",
         "75",
         "2025-02-19 00:00:00"
        ],
        [
         "5",
         "ibis Styles Madrid City Las Ventas",
         "4.6",
         "98",
         "2025-02-19 00:00:00"
        ],
        [
         "6",
         "ibis budget Madrid Calle Alcalá",
         "4.3",
         "71",
         "2025-02-19 00:00:00"
        ],
        [
         "7",
         "ibis Madrid Calle Alcalá",
         "4.5",
         "78",
         "2025-02-19 00:00:00"
        ],
        [
         "8",
         "ibis budget Madrid Vallecas",
         "4.3",
         "70",
         "2025-02-19 00:00:00"
        ],
        [
         "9",
         "ibis Madrid Getafe",
         "4.4",
         "64",
         "2025-02-19 00:00:00"
        ]
       ],
       "shape": {
        "columns": 4,
        "rows": 10
       }
      },
      "text/html": [
       "<div>\n",
       "<style scoped>\n",
       "    .dataframe tbody tr th:only-of-type {\n",
       "        vertical-align: middle;\n",
       "    }\n",
       "\n",
       "    .dataframe tbody tr th {\n",
       "        vertical-align: top;\n",
       "    }\n",
       "\n",
       "    .dataframe thead th {\n",
       "        text-align: right;\n",
       "    }\n",
       "</style>\n",
       "<table border=\"1\" class=\"dataframe\">\n",
       "  <thead>\n",
       "    <tr style=\"text-align: right;\">\n",
       "      <th></th>\n",
       "      <th>nombre</th>\n",
       "      <th>estrellas</th>\n",
       "      <th>precio_noche</th>\n",
       "      <th>fecha_reserva</th>\n",
       "    </tr>\n",
       "  </thead>\n",
       "  <tbody>\n",
       "    <tr>\n",
       "      <th>0</th>\n",
       "      <td>ibis budget Madrid Centro Lavapies</td>\n",
       "      <td>4.3</td>\n",
       "      <td>106</td>\n",
       "      <td>2025-02-19</td>\n",
       "    </tr>\n",
       "    <tr>\n",
       "      <th>1</th>\n",
       "      <td>ibis Styles Madrid Centro Maravillas</td>\n",
       "      <td>4.7</td>\n",
       "      <td>114</td>\n",
       "      <td>2025-02-19</td>\n",
       "    </tr>\n",
       "    <tr>\n",
       "      <th>2</th>\n",
       "      <td>ibis budget Madrid Calle 30</td>\n",
       "      <td>4.4</td>\n",
       "      <td>79</td>\n",
       "      <td>2025-02-19</td>\n",
       "    </tr>\n",
       "    <tr>\n",
       "      <th>3</th>\n",
       "      <td>ibis Madrid Centro las Ventas</td>\n",
       "      <td>4.5</td>\n",
       "      <td>90</td>\n",
       "      <td>2025-02-19</td>\n",
       "    </tr>\n",
       "    <tr>\n",
       "      <th>4</th>\n",
       "      <td>ibis budget Madrid Centro las Ventas</td>\n",
       "      <td>4.3</td>\n",
       "      <td>75</td>\n",
       "      <td>2025-02-19</td>\n",
       "    </tr>\n",
       "    <tr>\n",
       "      <th>5</th>\n",
       "      <td>ibis Styles Madrid City Las Ventas</td>\n",
       "      <td>4.6</td>\n",
       "      <td>98</td>\n",
       "      <td>2025-02-19</td>\n",
       "    </tr>\n",
       "    <tr>\n",
       "      <th>6</th>\n",
       "      <td>ibis budget Madrid Calle Alcalá</td>\n",
       "      <td>4.3</td>\n",
       "      <td>71</td>\n",
       "      <td>2025-02-19</td>\n",
       "    </tr>\n",
       "    <tr>\n",
       "      <th>7</th>\n",
       "      <td>ibis Madrid Calle Alcalá</td>\n",
       "      <td>4.5</td>\n",
       "      <td>78</td>\n",
       "      <td>2025-02-19</td>\n",
       "    </tr>\n",
       "    <tr>\n",
       "      <th>8</th>\n",
       "      <td>ibis budget Madrid Vallecas</td>\n",
       "      <td>4.3</td>\n",
       "      <td>70</td>\n",
       "      <td>2025-02-19</td>\n",
       "    </tr>\n",
       "    <tr>\n",
       "      <th>9</th>\n",
       "      <td>ibis Madrid Getafe</td>\n",
       "      <td>4.4</td>\n",
       "      <td>64</td>\n",
       "      <td>2025-02-19</td>\n",
       "    </tr>\n",
       "  </tbody>\n",
       "</table>\n",
       "</div>"
      ],
      "text/plain": [
       "                                 nombre  estrellas  precio_noche fecha_reserva\n",
       "0    ibis budget Madrid Centro Lavapies        4.3           106    2025-02-19\n",
       "1  ibis Styles Madrid Centro Maravillas        4.7           114    2025-02-19\n",
       "2           ibis budget Madrid Calle 30        4.4            79    2025-02-19\n",
       "3         ibis Madrid Centro las Ventas        4.5            90    2025-02-19\n",
       "4  ibis budget Madrid Centro las Ventas        4.3            75    2025-02-19\n",
       "5    ibis Styles Madrid City Las Ventas        4.6            98    2025-02-19\n",
       "6       ibis budget Madrid Calle Alcalá        4.3            71    2025-02-19\n",
       "7              ibis Madrid Calle Alcalá        4.5            78    2025-02-19\n",
       "8           ibis budget Madrid Vallecas        4.3            70    2025-02-19\n",
       "9                    ibis Madrid Getafe        4.4            64    2025-02-19"
      ]
     },
     "execution_count": 71,
     "metadata": {},
     "output_type": "execute_result"
    }
   ],
   "source": [
    "df_hoteles_competencia"
   ]
  },
  {
   "cell_type": "code",
   "execution_count": 72,
   "metadata": {},
   "outputs": [],
   "source": [
    "df_hoteles_competencia.to_csv(\"../data/10_hoteles_competencia.csv\", index=False)"
   ]
  }
 ],
 "metadata": {
  "kernelspec": {
   "display_name": "venv",
   "language": "python",
   "name": "python3"
  },
  "language_info": {
   "codemirror_mode": {
    "name": "ipython",
    "version": 3
   },
   "file_extension": ".py",
   "mimetype": "text/x-python",
   "name": "python",
   "nbconvert_exporter": "python",
   "pygments_lexer": "ipython3",
   "version": "3.12.4"
  }
 },
 "nbformat": 4,
 "nbformat_minor": 2
}
